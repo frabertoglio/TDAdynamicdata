{
 "cells": [
  {
   "cell_type": "code",
   "execution_count": 20,
   "id": "287dc0d2-4149-4b69-bcba-91bb75885cee",
   "metadata": {
    "tags": []
   },
   "outputs": [],
   "source": [
    "using Ripserer\n",
    "using DelimitedFiles, DataFrames, CSV\n",
    "using JSON"
   ]
  },
  {
   "cell_type": "code",
   "execution_count": 21,
   "id": "ef8dbbf6-9689-45af-8dab-4002f4b8f7e0",
   "metadata": {
    "tags": []
   },
   "outputs": [],
   "source": [
    "return_points(representatives) = [Set(i for e in es for i in e) for es in representatives];\n",
    "barcodes(PH, dim::Int) = hcat(collect.(collect(PH[dim+1]))...)';\n",
    "representatives(PH, dim::Int) = [[collect(r.simplex) for r in collect(c)] for c in representative.(PH[dim+1])];"
   ]
  },
  {
   "cell_type": "code",
   "execution_count": 22,
   "id": "6e073796-f38d-43fe-8479-1d84a431d758",
   "metadata": {
    "tags": []
   },
   "outputs": [
    {
     "ename": "LoadError",
     "evalue": "UndefVarError: `bar` not defined in `Main`\nSuggestion: check for spelling errors or missing imports.",
     "output_type": "error",
     "traceback": [
      "UndefVarError: `bar` not defined in `Main`\nSuggestion: check for spelling errors or missing imports.",
      "",
      "Stacktrace:",
      " [1] top-level scope",
      "   @ In[22]:2"
     ]
    }
   ],
   "source": [
    "\n",
    "\"\"\"\n",
    "for t in [20,30,40]\n",
    "    for n in [20,30,40,50]\n",
    "       # open(\"PH_ell_n$n_t$t/PH_ell$step.json\", \"w\") do io JSON.print(io, dic, 2) end\n",
    "\n",
    "        for step in 0:t-1\n",
    "            input_data = readdlm(\"ell_n$(n)_t$(t)/ell$(step).txt\")\n",
    "            grid = Matrix{Float64}(CSV.read(\"ell_n$(n)_t$(t)/ell$(step).txt\", DataFrame; delim=' ', header=false)) |> eachrow .|> Tuple\n",
    "            grid = unique(grid)   #elimina punti doppi\n",
    "            PH = ripserer(grid; dim_max=1, alg=:involuted)\n",
    "            bar = barcodes(PH,1)\n",
    "            repre = representatives(PH,1)\n",
    "            repre = return_points(repre)\n",
    "            dic = Dict{String,Dict}()\n",
    "            dic = Dict(:barcode => bar, :representatives => repre)\n",
    "             open(\"PH_ell_n$(n)_t$(t)/PH_ell$(step).json\", \"w\") do io JSON.print(io, dic, 2) end\n",
    "        end\n",
    "\n",
    "\n",
    "     end\n",
    "    end\n",
    "\"\"\""
   ]
  },
  {
   "cell_type": "code",
   "execution_count": null,
   "id": "03af68ea-e47c-478c-a83f-4dbc5ab45751",
   "metadata": {},
   "outputs": [],
   "source": []
  },
  {
   "cell_type": "code",
   "execution_count": 26,
   "id": "55685e9a-b948-44df-a7f7-f1c3550b7c74",
   "metadata": {},
   "outputs": [
    {
     "data": {
      "text/plain": [
       "Dict{Symbol, AbstractArray} with 2 entries:\n",
       "  :barcode         => [2.20202 2.39261; 2.20803 2.41932; … ; 2.17883 5.80477; 2…\n",
       "  :representatives => Set{Int64}[Set([13, 35, 36, 14]), Set([39, 16, 38, 17]), …"
      ]
     },
     "execution_count": 26,
     "metadata": {},
     "output_type": "execute_result"
    }
   ],
   "source": [
    "\n",
    "\n",
    "input_data = \"/Users/franci/Desktop/Tesi/code/simulazioni/5050/step_1.tsv\"\n",
    "#input_data = readdlm(\"rings/rings$step.txt\")\n",
    "grid = Matrix{Float64}(CSV.read(input_data, DataFrame; header=false) )|> eachrow .|> Tuple\n",
    "#grid = Matrix{Float64}(CSV.read(\"rings/rings$step.txt\", DataFrame; delim=' ', header=false)) |> eachrow .|> Tuple\n",
    "PH = ripserer(grid; dim_max=1, alg=:involuted)\n",
    "bar = barcodes(PH,1)\n",
    "repre = representatives(PH,1)\n",
    "repre = return_points(repre)\n",
    "dic = Dict{String,Dict}()\n",
    "dic = Dict(:barcode => bar, :representatives => repre)\n",
    "#open(\"PH/PH_step_$step.json\", \"w\") do io JSON.print(io, dic, 2) end\n",
    "#open(\"PH_sim50/PH_$step.json\", \"w\") do io JSON.print(io, dic, 2) end\n",
    "\n",
    "    \n",
    " \n"
   ]
  },
  {
   "cell_type": "code",
   "execution_count": 28,
   "id": "d3d4e8f8-3071-496d-b9f2-0cba057971ae",
   "metadata": {},
   "outputs": [
    {
     "data": {
      "text/plain": [
       "2-element Vector{PersistenceDiagrams.PersistenceDiagram}:\n",
       " 50-element 0-dimensional PersistenceDiagram\n",
       " 9-element 1-dimensional PersistenceDiagram"
      ]
     },
     "execution_count": 28,
     "metadata": {},
     "output_type": "execute_result"
    }
   ],
   "source": [
    "PH"
   ]
  },
  {
   "cell_type": "code",
   "execution_count": null,
   "id": "f5ff905b-d8c8-458e-ad36-be1236a902d1",
   "metadata": {},
   "outputs": [],
   "source": []
  }
 ],
 "metadata": {
  "kernelspec": {
   "display_name": "Julia 1.11.5",
   "language": "julia",
   "name": "julia-1.11-fixed"
  },
  "language_info": {
   "file_extension": ".jl",
   "mimetype": "application/julia",
   "name": "julia",
   "version": "1.11.5"
  }
 },
 "nbformat": 4,
 "nbformat_minor": 5
}
