{
 "cells": [
  {
   "cell_type": "code",
   "execution_count": 1,
   "id": "11062c66-d052-48e4-918d-fab1393707cd",
   "metadata": {
    "tags": []
   },
   "outputs": [],
   "source": [
    "import numpy as np\n",
    "import matplotlib.pyplot as plt\n",
    "from mpl_toolkits.mplot3d import Axes3D\n",
    "from matplotlib.animation import FuncAnimation, FFMpegWriter\n",
    "import os\n",
    "\n",
    "\n",
    "        \n",
    "frames=[]       \n",
    "for step in range (1,26): \n",
    "    \n",
    "    #points = np.loadtxt('simulation/'+str(step)+'.txt') \n",
    "    points = np.loadtxt('otto/otto_'+str(step)+'.txt')   \n",
    "    frames.append(points)\n",
    "        \n",
    "    \n",
    "frames;"
   ]
  },
  {
   "cell_type": "code",
   "execution_count": 2,
   "id": "2ef461d7-b97a-48a1-a429-148dd7f653e0",
   "metadata": {
    "tags": []
   },
   "outputs": [
    {
     "data": {
      "image/png": "[encoded data removed]",
      "text/plain": [
       "<Figure size 640x480 with 1 Axes>"
      ]
     },
     "metadata": {},
     "output_type": "display_data"
    }
   ],
   "source": [
    "# === CREA LA FIGURA 3D ===\n",
    "fig = plt.figure()\n",
    "ax = fig.add_subplot(111, projection='3d')\n",
    "\n",
    "\n",
    "#\n",
    "ax.set_xlim(-10, 7)\n",
    "ax.set_ylim(-3, 7)\n",
    "ax.set_zlim(-5, 5)\n",
    "ax.set_axis_off() #per togliere la griglia\n",
    "\n",
    "line, = ax.plot([], [], [], lw=2)\n",
    "\n",
    "def init():\n",
    "    line.set_data([], [])\n",
    "    line.set_3d_properties([])\n",
    "    return line,\n",
    "\n",
    "def update(frame_data):\n",
    "    x, y, z = frame_data[:, 0], frame_data[:, 1], frame_data[:, 2]\n",
    "    line.set_data(x, y)\n",
    "    line.set_3d_properties(z)\n",
    "    return line,\n",
    "\n",
    "# === animazione ===\n",
    "ani = FuncAnimation(fig, update, frames=frames, init_func=init, blit=False)\n",
    "\n",
    "\n"
   ]
  },
  {
   "cell_type": "code",
   "execution_count": null,
   "id": "5e216e30-a054-42eb-b0c0-8df2d2eb658c",
   "metadata": {},
   "outputs": [],
   "source": [
    "##----Scatter invece----##\n",
    "\"\"\"\n",
    "scatter = ax.scatter([], [], [], s=200, c='blue')  # default size and colour\n",
    "\n",
    "def init():\n",
    "    scatter._offsets3d = ([], [], [])\n",
    "    return scatter,\n",
    "\n",
    "def update(frame_data):\n",
    "    x, y, z = frame_data[:, 0], frame_data[:, 1], frame_data[:, 2]\n",
    "    scatter._offsets3d = (x, y, z)\n",
    "    return scatter,\n",
    "\n",
    "# === animazione ===\n",
    "ani = FuncAnimation(fig, update, frames=frames, init_func=init, blit=False)\n",
    "\"\"\""
   ]
  },
  {
   "cell_type": "code",
   "execution_count": 3,
   "id": "8cb2e239-b2a0-4f84-9aae-0c0033d5cb18",
   "metadata": {
    "tags": []
   },
   "outputs": [],
   "source": [
    "#conda install -c conda-forge ffmpeg"
   ]
  },
  {
   "cell_type": "code",
   "execution_count": 19,
   "id": "b7fbe17c-b08e-4ed5-a01b-b89b1e2c5135",
   "metadata": {},
   "outputs": [
    {
     "name": "stdout",
     "output_type": "stream",
     "text": [
      "GIF salvata in: otto_animazione.gif\n"
     ]
    }
   ],
   "source": [
    "#GIF\n",
    "\n",
    "from matplotlib.animation import PillowWriter\n",
    "\n",
    "#non me la salva come gif ma come serie di immagini\n",
    "\n",
    "output_path = 'otto_animazione.gif'\n",
    "writer = PillowWriter(fps=5)  # Puoi aumentare fps se vuoi animazione più fluida\n",
    "ani.save(output_path, writer=writer)\n",
    "\n",
    "print(f\"GIF salvata in: {output_path}\")"
   ]
  },
  {
   "cell_type": "code",
   "execution_count": null,
   "id": "bd69b446-09db-48c0-8cd6-e08df5a6d4c6",
   "metadata": {},
   "outputs": [],
   "source": []
  }
 ],
 "metadata": {
  "kernelspec": {
   "display_name": "Python 3 (ipykernel)",
   "language": "python",
   "name": "python3"
  },
  "language_info": {
   "codemirror_mode": {
    "name": "ipython",
    "version": 3
   },
   "file_extension": ".py",
   "mimetype": "text/x-python",
   "name": "python",
   "nbconvert_exporter": "python",
   "pygments_lexer": "ipython3",
   "version": "3.8.16"
  }
 },
 "nbformat": 4,
 "nbformat_minor": 5
}
