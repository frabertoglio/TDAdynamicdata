{
 "cells": [
  {
   "cell_type": "code",
   "execution_count": 11,
   "id": "8d30d9c7-effe-449f-8fdd-b58a53beaabe",
   "metadata": {},
   "outputs": [],
   "source": [
    "import numpy as np\n",
    "import gudhi\n",
    "import json\n",
    "import csv\n",
    "import matplotlib\n",
    "import matplotlib.pyplot as plot\n",
    "import math\n",
    "import plotly.graph_objects as go\n",
    "import itertools\n",
    "import import_ipynb\n",
    "import vineyards\n",
    "from vineyards import *\n",
    "import time\n"
   ]
  },
  {
   "cell_type": "code",
   "execution_count": 21,
   "id": "28911fc1-3c3a-455d-a133-732aad8b900d",
   "metadata": {},
   "outputs": [],
   "source": [
    "##---Inputs----###\n",
    "# d: dimension of vines \n",
    "# n_files: number time steps to analyze\n",
    "#name: name of the simulation\n",
    "#PH: if True, it takes filtration values from a JSON file in PH folder. If False, it computes such values directly with gudhi\n",
    "\n",
    "\n",
    "d=1\n",
    "n_files=24     \n",
    "name=\"rings\"\n",
    "PH=True\n",
    "step=0  \n",
    "\n"
   ]
  },
  {
   "cell_type": "code",
   "execution_count": 22,
   "id": "daf70737-3366-4993-866b-1b45118a059f",
   "metadata": {},
   "outputs": [],
   "source": [
    "##---Getting filtration values for each time step---##\n",
    "\n",
    "if PH==True:\n",
    "                \n",
    "    with open(\"PH/PH_\"+name+\"/PH_{}.json\".format(step), \"r\") as f:\n",
    "          PH = json.load(f)\n",
    "    \n",
    "    \n",
    "    #------Get filtration values        \n",
    "    flt=[]\n",
    "    flt = sorted( PH[\"filtration\"], key=lambda x: (len(x[0]), x[0])) #for vine implementation\n",
    "    \n",
    "    # check the ordering: ordered by the vertices, for each simplex the sequence of filtration value\n",
    "    #print(flt == sorted(flt, key=lambda x: (len(x[0]), x[0]))) #check\n",
    "    flt_time = [val for _, val in flt] \n",
    "    flt_nodes=[val for  val,_ in flt]\n",
    "    for step in range(0,n_files):\n",
    "    \n",
    "        with open(\"PH/PH_\"+name+\"/PH_{}.json\".format(step), \"r\") as f:\n",
    "            PH = json.load(f)\n",
    "        flt=[]    \n",
    "        flt = sorted( PH[\"filtration\"], key=lambda x: (len(x[0]), x[0])) #for vine implementation \n",
    "        new_time = [val for _, val in flt] \n",
    "        flt_time=np.column_stack((flt_time, new_time));        \n",
    "        #print(flt == sorted(flt, key=lambda x: (len(x[0]), x[0]))) #check\n",
    "        \n",
    "else:\n",
    "    points = np.loadtxt('simulations/'+name+'/'+name+str(step)+'.txt')  \n",
    "    rips_complex = gudhi.RipsComplex(points=points)\n",
    "    simplex_tree = rips_complex.create_simplex_tree(max_dimension=2) \n",
    "    flt=[]\n",
    "    flt=  simplex_tree.get_filtration(); \n",
    "    flt = sorted(flt, key=lambda x: (len(x[0]), x[0])) #for vine implementation\n",
    "    flt_val = [val for _, val in flt] #list comprehension\n",
    "    flt_nodes=[first for first ,_ in  flt]\n",
    "    flt_time =flt_val\n",
    "    for step in range (1,n_files): \n",
    "\n",
    "        points = np.loadtxt('simulations/'+name+'/'+name+str(step)+'.txt')\n",
    "        \n",
    "        rips_complex = gudhi.RipsComplex(points=points)\n",
    "        simplex_tree = rips_complex.create_simplex_tree(max_dimension=2) \n",
    "        flt=  simplex_tree.get_filtration(); \n",
    "        flt = sorted(flt, key=lambda x: (len(x[0]), x[0])) #per vine implementation\n",
    "        flt_val = [val for _, val in flt] #list comprehension\n",
    "        flt_time=np.column_stack((flt_time, flt_val));\n",
    "        #PH = simplex_tree.persistence()\n",
    "        #PHs = [[y for y in PH if y[0]==x] for x in [0,1]]\n",
    "       \n",
    "    \n",
    "\n",
    "simplices=[]\n",
    "for i in range(0, len(flt_nodes)):\n",
    "    simplices.append(Simplex(flt_nodes[i], flt_time[i]))"
   ]
  },
  {
   "cell_type": "code",
   "execution_count": 23,
   "id": "e66949b7-808d-4a68-bbc4-af6ffc308a3b",
   "metadata": {},
   "outputs": [
    {
     "name": "stdout",
     "output_type": "stream",
     "text": [
      "Processing time: 88.5074 seconds\n"
     ]
    }
   ],
   "source": [
    "##---Computing vineyards---##\n",
    "\n",
    "start = time.time()\n",
    "vineyard=Vineyard(simplices, dim=d, print_progress=False)\n",
    "end = time.time()\n",
    "comp_time=end-start\n",
    "vines=vineyard.nontrivial_vines()\n",
    "\n",
    "\n",
    "print(f\"Processing time: {end - start:.4f} seconds\")"
   ]
  },
  {
   "cell_type": "code",
   "execution_count": 20,
   "id": "b05c767b-00d5-4d7e-b8e6-1b54a9453ca4",
   "metadata": {},
   "outputs": [],
   "source": [
    "\n",
    "##---Save vineyards in JSON file---###\n",
    "\"\"\"\n",
    "def sanitize_inf_for_json(obj):\n",
    "    if isinstance(obj, float):\n",
    "        if math.isinf(obj):\n",
    "            return \"inf\" if obj > 0 else \"-inf\"\n",
    "        else:\n",
    "            return obj\n",
    "    elif isinstance(obj, list):\n",
    "        return [sanitize_inf_for_json(item) for item in obj]\n",
    "    elif isinstance(obj, dict):\n",
    "        return {key: sanitize_inf_for_json(value) for key, value in obj.items()}\n",
    "    else:\n",
    "        return obj\n",
    "\n",
    "vines=vineyard.nontrivial_vines()\n",
    "\n",
    "vine_dict = {}\n",
    "\n",
    "for i, vine in enumerate(vines, 1):\n",
    "    vine_dict[f\"Vine{i}\"] = vine.to_dict()\n",
    "\n",
    "vine_dict_sanitized = sanitize_inf_for_json(vine_dict)\n",
    "vine_dict_sanitized[\"Computational Time\"] = comp_time\n",
    "\n",
    "with open(\"vines/\"+name+\"_vines\"+str(d)+\".json\", \"w\") as f:\n",
    "    json.dump(vine_dict_sanitized, f, indent=2)\n",
    "\n",
    "\n",
    "with open(\"vines/\"+name+\"_vines\"+str(d)+\".json\", 'r') as file:\n",
    "    Vines = json.load(file)\n",
    "\"\"\""
   ]
  },
  {
   "cell_type": "code",
   "execution_count": 24,
   "id": "ea9a8617-e733-4384-8c18-4be6540dd0f0",
   "metadata": {},
   "outputs": [
    {
     "data": {
      "text/plain": [
       "8"
      ]
     },
     "execution_count": 24,
     "metadata": {},
     "output_type": "execute_result"
    }
   ],
   "source": [
    "len(vines)"
   ]
  },
  {
   "cell_type": "code",
   "execution_count": 26,
   "id": "1531a2b3-8dfa-4f5c-a745-285c72a2b900",
   "metadata": {},
   "outputs": [
    {
     "data": {
      "image/png": "[encoded data removed]",
      "text/plain": [
       "<Figure size 1000x1000 with 1 Axes>"
      ]
     },
     "metadata": {},
     "output_type": "display_data"
    }
   ],
   "source": [
    "##---Plots---##\n",
    "vineyard.plot(start_k=0, end_k=None, start_timestep=0, end_timestep=None)\n",
    "plt.show()"
   ]
  },
  {
   "cell_type": "code",
   "execution_count": 27,
   "id": "bd1536fc-1e08-486e-a3a3-1a35085e43f0",
   "metadata": {},
   "outputs": [
    {
     "data": {
      "application/vnd.plotly.v1+json": {
       "config": {
        "plotlyServerURL": "https://plot.ly"
       },
       "data": [
        {
         "line": {
          "color": "#636EFA",
          "width": 4
         },
         "marker": {
          "size": 6
         },
         "mode": "lines+markers",
         "showlegend": false,
         "type": "scatter3d",
         "x": [
          3.053008127636905,
          2.781884126244404
         ],
         "y": [
          7.053317081354701,
          7.566840083742234
         ],
         "z": [
          0,
          0.551542349996555
         ]
        },
        {
         "line": {
          "color": "#636EFA",
          "width": 4
         },
         "marker": {
          "size": 6
         },
         "mode": "lines+markers",
         "showlegend": false,
         "type": "scatter3d",
         "x": [
          2.781884126244404,
          2.7950550305478212
         ],
         "y": [
          7.566840083742234,
          7.609353730494574
         ],
         "z": [
          0.551542349996555,
          0.5972035502304135
         ]
        },
        {
         "line": {
          "color": "#636EFA",
          "width": 4
         },
         "marker": {
          "size": 6
         },
         "mode": "lines+markers",
         "showlegend": false,
         "type": "scatter3d",
         "x": [
          2.7950550305478212,
          2.91124105865265
         ],
         "y": [
          7.609353730494574,
          7.98438430110807
         ],
         "z": [
          0.5972035502304135,
          1
         ]
        },
        {
         "line": {
          "color": "#636EFA",
          "width": 4
         },
         "marker": {
          "size": 6
         },
         "mode": "lines+markers",
         "showlegend": false,
         "type": "scatter3d",
         "x": [
          2.91124105865265,
          2.9061328883262605
         ],
         "y": [
          7.98438430110807,
          7.987370749440318
         ],
         "z": [
          1,
          1.0105072973058296
         ]
        },
        {
         "line": {
          "color": "#636EFA",
          "width": 4
         },
         "marker": {
          "size": 6
         },
         "mode": "lines+markers",
         "showlegend": false,
         "type": "scatter3d",
         "x": [
          2.9061328883262605,
          2.724286291972172
         ],
         "y": [
          7.987370749440318,
          8.093685815247948
         ],
         "z": [
          1.0105072973058296,
          1.384558303803146
         ]
        },
        {
         "line": {
          "color": "#636EFA",
          "width": 4
         },
         "marker": {
          "size": 6
         },
         "mode": "lines+markers",
         "showlegend": false,
         "type": "scatter3d",
         "x": [
          2.724286291972172,
          2.7155395965958404
         ],
         "y": [
          8.093685815247948,
          8.128795556601483
         ],
         "z": [
          1.384558303803146,
          1.5080858019181709
         ]
        },
        {
         "line": {
          "color": "#636EFA",
          "width": 4
         },
         "marker": {
          "size": 6
         },
         "mode": "lines+markers",
         "showlegend": false,
         "type": "scatter3d",
         "x": [
          2.7155395965958404,
          2.7136858428203317
         ],
         "y": [
          8.128795556601483,
          8.136236631520745
         ],
         "z": [
          1.5080858019181709,
          1.5342659255142812
         ]
        },
        {
         "line": {
          "color": "#636EFA",
          "width": 4
         },
         "marker": {
          "size": 6
         },
         "mode": "lines+markers",
         "showlegend": false,
         "type": "scatter3d",
         "x": [
          2.7136858428203317,
          2.7136858428203317
         ],
         "y": [
          8.136236631520745,
          8.136236631520745
         ],
         "z": [
          1.5342659255142812,
          1.5342659255142812
         ]
        },
        {
         "line": {
          "color": "#636EFA",
          "width": 4
         },
         "marker": {
          "size": 6
         },
         "mode": "lines+markers",
         "showlegend": false,
         "type": "scatter3d",
         "x": [
          2.7136858428203317,
          2.710572309603943
         ],
         "y": [
          8.136236631520745,
          8.148734534010739
         ],
         "z": [
          1.5342659255142812,
          1.578237614474582
         ]
        },
        {
         "line": {
          "color": "#636EFA",
          "width": 4
         },
         "marker": {
          "size": 6
         },
         "mode": "lines+markers",
         "showlegend": false,
         "type": "scatter3d",
         "x": [
          2.710572309603943,
          2.710572309603943
         ],
         "y": [
          8.148734534010739,
          8.148734534010739
         ],
         "z": [
          1.578237614474582,
          1.578237614474582
         ]
        },
        {
         "line": {
          "color": "#636EFA",
          "width": 4
         },
         "marker": {
          "size": 6
         },
         "mode": "lines+markers",
         "showlegend": false,
         "type": "scatter3d",
         "x": [
          2.710572309603943,
          2.7047637897859143
         ],
         "y": [
          8.148734534010739,
          8.17205026866062
         ],
         "z": [
          1.578237614474582,
          1.660269958119959
         ]
        },
        {
         "line": {
          "color": "#636EFA",
          "width": 4
         },
         "marker": {
          "size": 6
         },
         "mode": "lines+markers",
         "showlegend": false,
         "type": "scatter3d",
         "x": [
          2.7047637897859143,
          2.701081859183824
         ],
         "y": [
          8.17205026866062,
          8.186829751146185
         ],
         "z": [
          1.660269958119959,
          1.7122689881467874
         ]
        },
        {
         "line": {
          "color": "#636EFA",
          "width": 4
         },
         "marker": {
          "size": 6
         },
         "mode": "lines+markers",
         "showlegend": false,
         "type": "scatter3d",
         "x": [
          2.701081859183824,
          2.701081859183824
         ],
         "y": [
          8.186829751146185,
          8.186829751146185
         ],
         "z": [
          1.7122689881467874,
          1.7122689881467874
         ]
        },
        {
         "line": {
          "color": "#636EFA",
          "width": 4
         },
         "marker": {
          "size": 6
         },
         "mode": "lines+markers",
         "showlegend": false,
         "type": "scatter3d",
         "x": [
          2.701081859183824,
          2.693214834454979
         ],
         "y": [
          8.186829751146185,
          8.218408443620035
         ],
         "z": [
          1.7122689881467874,
          1.823373106965526
         ]
        },
        {
         "line": {
          "color": "#636EFA",
          "width": 4
         },
         "marker": {
          "size": 6
         },
         "mode": "lines+markers",
         "showlegend": false,
         "type": "scatter3d",
         "x": [
          2.693214834454979,
          2.693214834454979
         ],
         "y": [
          8.218408443620035,
          8.218408443620035
         ],
         "z": [
          1.823373106965526,
          1.823373106965526
         ]
        },
        {
         "line": {
          "color": "#636EFA",
          "width": 4
         },
         "marker": {
          "size": 6
         },
         "mode": "lines+markers",
         "showlegend": false,
         "type": "scatter3d",
         "x": [
          2.693214834454979,
          2.695132647606587
         ],
         "y": [
          8.218408443620035,
          8.219663576410897
         ],
         "z": [
          1.823373106965526,
          1.8277890726627979
         ]
        },
        {
         "line": {
          "color": "#636EFA",
          "width": 4
         },
         "marker": {
          "size": 6
         },
         "mode": "lines+markers",
         "showlegend": false,
         "type": "scatter3d",
         "x": [
          2.695132647606587,
          2.7699222641794483
         ],
         "y": [
          8.219663576410897,
          8.268610419901822
         ],
         "z": [
          1.8277890726627979,
          2
         ]
        },
        {
         "line": {
          "color": "#636EFA",
          "width": 4
         },
         "marker": {
          "size": 6
         },
         "mode": "lines+markers",
         "showlegend": false,
         "type": "scatter3d",
         "x": [
          2.7699222641794483,
          2.6962890908995405
         ],
         "y": [
          8.268610419901822,
          8.3087889879192
         ],
         "z": [
          2,
          2.1733227353020412
         ]
        },
        {
         "line": {
          "color": "#636EFA",
          "width": 4
         },
         "marker": {
          "size": 6
         },
         "mode": "lines+markers",
         "showlegend": false,
         "type": "scatter3d",
         "x": [
          2.6962890908995405,
          2.6962890908995405
         ],
         "y": [
          8.3087889879192,
          8.3087889879192
         ],
         "z": [
          2.1733227353020412,
          2.1733227353020412
         ]
        },
        {
         "line": {
          "color": "#636EFA",
          "width": 4
         },
         "marker": {
          "size": 6
         },
         "mode": "lines+markers",
         "showlegend": false,
         "type": "scatter3d",
         "x": [
          2.6962890908995405,
          2.6933735634186875
         ],
         "y": [
          8.3087889879192,
          8.327194195268063
         ],
         "z": [
          2.1733227353020412,
          2.2527193150936946
         ]
        },
        {
         "line": {
          "color": "#636EFA",
          "width": 4
         },
         "marker": {
          "size": 6
         },
         "mode": "lines+markers",
         "showlegend": false,
         "type": "scatter3d",
         "x": [
          2.6933735634186875,
          2.6933735634186875
         ],
         "y": [
          8.327194195268063,
          8.327194195268063
         ],
         "z": [
          2.2527193150936946,
          2.2527193150936946
         ]
        },
        {
         "line": {
          "color": "#636EFA",
          "width": 4
         },
         "marker": {
          "size": 6
         },
         "mode": "lines+markers",
         "showlegend": false,
         "type": "scatter3d",
         "x": [
          2.6933735634186875,
          2.712632108896865
         ],
         "y": [
          8.327194195268063,
          8.39531215020806
         ],
         "z": [
          2.2527193150936946,
          2.546567275734669
         ]
        },
        {
         "line": {
          "color": "#636EFA",
          "width": 4
         },
         "marker": {
          "size": 6
         },
         "mode": "lines+markers",
         "showlegend": false,
         "type": "scatter3d",
         "x": [
          2.712632108896865,
          2.712632108896865
         ],
         "y": [
          8.39531215020806,
          8.39531215020806
         ],
         "z": [
          2.546567275734669,
          2.546567275734669
         ]
        },
        {
         "line": {
          "color": "#636EFA",
          "width": 4
         },
         "marker": {
          "size": 6
         },
         "mode": "lines+markers",
         "showlegend": false,
         "type": "scatter3d",
         "x": [
          2.712632108896865,
          2.7169363729735427
         ],
         "y": [
          8.39531215020806,
          8.410536439433704
         ],
         "z": [
          2.546567275734669,
          2.612241976995217
         ]
        },
        {
         "line": {
          "color": "#636EFA",
          "width": 4
         },
         "marker": {
          "size": 6
         },
         "mode": "lines+markers",
         "showlegend": false,
         "type": "scatter3d",
         "x": [
          2.7169363729735427,
          2.7169363729735427
         ],
         "y": [
          8.410536439433704,
          8.410536439433704
         ],
         "z": [
          2.612241976995217,
          2.612241976995217
         ]
        },
        {
         "line": {
          "color": "#636EFA",
          "width": 4
         },
         "marker": {
          "size": 6
         },
         "mode": "lines+markers",
         "showlegend": false,
         "type": "scatter3d",
         "x": [
          2.7169363729735427,
          2.919765422883318
         ],
         "y": [
          8.410536439433704,
          8.500424024431899
         ],
         "z": [
          2.612241976995217,
          3
         ]
        },
        {
         "line": {
          "color": "#636EFA",
          "width": 4
         },
         "marker": {
          "size": 6
         },
         "mode": "lines+markers",
         "showlegend": false,
         "type": "scatter3d",
         "x": [
          2.919765422883318,
          2.7027037074916893
         ],
         "y": [
          8.500424024431899,
          8.650757977309793
         ],
         "z": [
          3,
          3.2955524846896522
         ]
        },
        {
         "line": {
          "color": "#636EFA",
          "width": 4
         },
         "marker": {
          "size": 6
         },
         "mode": "lines+markers",
         "showlegend": false,
         "type": "scatter3d",
         "x": [
          2.7027037074916893,
          2.7027037074916893
         ],
         "y": [
          8.650757977309793,
          8.650757977309793
         ],
         "z": [
          3.2955524846896522,
          3.2955524846896522
         ]
        },
        {
         "line": {
          "color": "#636EFA",
          "width": 4
         },
         "marker": {
          "size": 6
         },
         "mode": "lines+markers",
         "showlegend": false,
         "type": "scatter3d",
         "x": [
          2.7027037074916893,
          2.7903473761849074
         ],
         "y": [
          8.650757977309793,
          9.009078022166864
         ],
         "z": [
          3.2955524846896522,
          4
         ]
        },
        {
         "line": {
          "color": "#636EFA",
          "width": 4
         },
         "marker": {
          "size": 6
         },
         "mode": "lines+markers",
         "showlegend": false,
         "type": "scatter3d",
         "x": [
          2.7903473761849074,
          2.6766267560218164
         ],
         "y": [
          9.009078022166864,
          9.163423711426434
         ],
         "z": [
          4,
          4.2280192445627245
         ]
        },
        {
         "line": {
          "color": "#636EFA",
          "width": 4
         },
         "marker": {
          "size": 6
         },
         "mode": "lines+markers",
         "showlegend": false,
         "type": "scatter3d",
         "x": [
          2.6766267560218164,
          2.6726130155747505
         ],
         "y": [
          9.163423711426434,
          9.185488893833867
         ],
         "z": [
          4.2280192445627245,
          4.260616761524928
         ]
        },
        {
         "line": {
          "color": "#636EFA",
          "width": 4
         },
         "marker": {
          "size": 6
         },
         "mode": "lines+markers",
         "showlegend": false,
         "type": "scatter3d",
         "x": [
          2.6726130155747505,
          2.6663526292570365
         ],
         "y": [
          9.185488893833867,
          9.219904812815955
         ],
         "z": [
          4.260616761524928,
          4.311460370341434
         ]
        },
        {
         "line": {
          "color": "#636EFA",
          "width": 4
         },
         "marker": {
          "size": 6
         },
         "mode": "lines+markers",
         "showlegend": false,
         "type": "scatter3d",
         "x": [
          2.6663526292570365,
          2.6663526292570365
         ],
         "y": [
          9.219904812815955,
          9.219904812815955
         ],
         "z": [
          4.311460370341434,
          4.311460370341434
         ]
        },
        {
         "line": {
          "color": "#636EFA",
          "width": 4
         },
         "marker": {
          "size": 6
         },
         "mode": "lines+markers",
         "showlegend": false,
         "type": "scatter3d",
         "x": [
          2.6663526292570365,
          2.6976266964016222
         ],
         "y": [
          9.219904812815955,
          9.39979264421411
         ],
         "z": [
          4.311460370341434,
          4.5772137426462
         ]
        },
        {
         "line": {
          "color": "#636EFA",
          "width": 4
         },
         "marker": {
          "size": 6
         },
         "mode": "lines+markers",
         "showlegend": false,
         "type": "scatter3d",
         "x": [
          2.6976266964016222,
          2.725349057444508
         ],
         "y": [
          9.39979264421411,
          9.52928488005315
         ],
         "z": [
          4.5772137426462,
          4.768516278754613
         ]
        },
        {
         "line": {
          "color": "#636EFA",
          "width": 4
         },
         "marker": {
          "size": 6
         },
         "mode": "lines+markers",
         "showlegend": false,
         "type": "scatter3d",
         "x": [
          2.725349057444508,
          2.725349057444508
         ],
         "y": [
          9.52928488005315,
          9.52928488005315
         ],
         "z": [
          4.768516278754613,
          4.768516278754613
         ]
        },
        {
         "line": {
          "color": "#636EFA",
          "width": 4
         },
         "marker": {
          "size": 6
         },
         "mode": "lines+markers",
         "showlegend": false,
         "type": "scatter3d",
         "x": [
          2.725349057444508,
          2.730218172103476
         ],
         "y": [
          9.52928488005315,
          9.552028705615886
         ],
         "z": [
          4.768516278754613,
          4.802116374411053
         ]
        },
        {
         "line": {
          "color": "#636EFA",
          "width": 4
         },
         "marker": {
          "size": 6
         },
         "mode": "lines+markers",
         "showlegend": false,
         "type": "scatter3d",
         "x": [
          2.730218172103476,
          2.730218172103476
         ],
         "y": [
          9.552028705615886,
          9.552028705615886
         ],
         "z": [
          4.802116374411053,
          4.802116374411053
         ]
        },
        {
         "line": {
          "color": "#636EFA",
          "width": 4
         },
         "marker": {
          "size": 6
         },
         "mode": "lines+markers",
         "showlegend": false,
         "type": "scatter3d",
         "x": [
          2.730218172103476,
          2.789576270133333
         ],
         "y": [
          9.552028705615886,
          9.6859756654143
         ],
         "z": [
          4.802116374411053,
          5
         ]
        },
        {
         "line": {
          "color": "#636EFA",
          "width": 4
         },
         "marker": {
          "size": 6
         },
         "mode": "lines+markers",
         "showlegend": false,
         "type": "scatter3d",
         "x": [
          2.789576270133333,
          2.746336940083806
         ],
         "y": [
          9.6859756654143,
          9.796105401006548
         ],
         "z": [
          5,
          5.242565918201224
         ]
        },
        {
         "line": {
          "color": "#636EFA",
          "width": 4
         },
         "marker": {
          "size": 6
         },
         "mode": "lines+markers",
         "showlegend": false,
         "type": "scatter3d",
         "x": [
          2.746336940083806,
          2.735137065894576
         ],
         "y": [
          9.796105401006548,
          9.824631263495942
         ],
         "z": [
          5.242565918201224,
          5.305395470910227
         ]
        },
        {
         "line": {
          "color": "#636EFA",
          "width": 4
         },
         "marker": {
          "size": 6
         },
         "mode": "lines+markers",
         "showlegend": false,
         "type": "scatter3d",
         "x": [
          2.735137065894576,
          2.823710023038644
         ],
         "y": [
          9.824631263495942,
          9.916558332860756
         ],
         "z": [
          5.305395470910227,
          5.507869161309182
         ]
        },
        {
         "line": {
          "color": "#636EFA",
          "width": 4
         },
         "marker": {
          "size": 6
         },
         "mode": "lines+markers",
         "showlegend": false,
         "type": "scatter3d",
         "x": [
          2.823710023038644,
          2.823710023038644
         ],
         "y": [
          9.916558332860756,
          9.916558332860756
         ],
         "z": [
          5.507869161309182,
          5.507869161309182
         ]
        },
        {
         "line": {
          "color": "#636EFA",
          "width": 4
         },
         "marker": {
          "size": 6
         },
         "mode": "lines+markers",
         "showlegend": false,
         "type": "scatter3d",
         "x": [
          2.823710023038644,
          2.8666565373039585
         ],
         "y": [
          9.916558332860756,
          9.961131160991838
         ],
         "z": [
          5.507869161309182,
          5.606042909972962
         ]
        },
        {
         "line": {
          "color": "#636EFA",
          "width": 4
         },
         "marker": {
          "size": 6
         },
         "mode": "lines+markers",
         "showlegend": false,
         "type": "scatter3d",
         "x": [
          2.8666565373039585,
          2.8666565373039585
         ],
         "y": [
          9.961131160991838,
          9.961131160991838
         ],
         "z": [
          5.606042909972962,
          5.606042909972962
         ]
        },
        {
         "line": {
          "color": "#636EFA",
          "width": 4
         },
         "marker": {
          "size": 6
         },
         "mode": "lines+markers",
         "showlegend": false,
         "type": "scatter3d",
         "x": [
          2.8666565373039585,
          2.9133568368206655
         ],
         "y": [
          9.961131160991838,
          10.009599924048345
         ],
         "z": [
          5.606042909972962,
          5.712797638399883
         ]
        },
        {
         "line": {
          "color": "#636EFA",
          "width": 4
         },
         "marker": {
          "size": 6
         },
         "mode": "lines+markers",
         "showlegend": false,
         "type": "scatter3d",
         "x": [
          2.9133568368206655,
          2.9133568368206655
         ],
         "y": [
          10.009599924048345,
          10.009599924048345
         ],
         "z": [
          5.712797638399883,
          5.712797638399883
         ]
        },
        {
         "line": {
          "color": "#636EFA",
          "width": 4
         },
         "marker": {
          "size": 6
         },
         "mode": "lines+markers",
         "showlegend": false,
         "type": "scatter3d",
         "x": [
          2.9133568368206655,
          2.937701400932724
         ],
         "y": [
          10.009599924048345,
          10.034866376766473
         ],
         "z": [
          5.712797638399883,
          5.768448187911344
         ]
        },
        {
         "line": {
          "color": "#636EFA",
          "width": 4
         },
         "marker": {
          "size": 6
         },
         "mode": "lines+markers",
         "showlegend": false,
         "type": "scatter3d",
         "x": [
          2.937701400932724,
          2.937701400932724
         ],
         "y": [
          10.034866376766473,
          10.034866376766473
         ],
         "z": [
          5.768448187911344,
          5.768448187911344
         ]
        },
        {
         "line": {
          "color": "#636EFA",
          "width": 4
         },
         "marker": {
          "size": 6
         },
         "mode": "lines+markers",
         "showlegend": false,
         "type": "scatter3d",
         "x": [
          2.937701400932724,
          2.947862660094831
         ],
         "y": [
          10.034866376766473,
          10.045412426101931
         ],
         "z": [
          5.768448187911344,
          5.791676357185466
         ]
        },
        {
         "line": {
          "color": "#636EFA",
          "width": 4
         },
         "marker": {
          "size": 6
         },
         "mode": "lines+markers",
         "showlegend": false,
         "type": "scatter3d",
         "x": [
          2.947862660094831,
          2.947862660094831
         ],
         "y": [
          10.045412426101931,
          10.045412426101931
         ],
         "z": [
          5.791676357185466,
          5.791676357185466
         ]
        },
        {
         "line": {
          "color": "#636EFA",
          "width": 4
         },
         "marker": {
          "size": 6
         },
         "mode": "lines+markers",
         "showlegend": false,
         "type": "scatter3d",
         "x": [
          2.947862660094831,
          3.0389947032296716
         ],
         "y": [
          10.045412426101931,
          10.139995489835337
         ],
         "z": [
          5.791676357185466,
          6
         ]
        },
        {
         "line": {
          "color": "#636EFA",
          "width": 4
         },
         "marker": {
          "size": 6
         },
         "mode": "lines+markers",
         "showlegend": false,
         "type": "scatter3d",
         "x": [
          3.0389947032296716,
          2.763682808712534
         ],
         "y": [
          10.139995489835337,
          10.275654541858685
         ],
         "z": [
          6,
          6.501327379519577
         ]
        },
        {
         "line": {
          "color": "#636EFA",
          "width": 4
         },
         "marker": {
          "size": 6
         },
         "mode": "lines+markers",
         "showlegend": false,
         "type": "scatter3d",
         "x": [
          2.763682808712534,
          2.763682808712534
         ],
         "y": [
          10.275654541858685,
          10.275654541858685
         ],
         "z": [
          6.501327379519577,
          6.501327379519577
         ]
        },
        {
         "line": {
          "color": "#636EFA",
          "width": 4
         },
         "marker": {
          "size": 6
         },
         "mode": "lines+markers",
         "showlegend": false,
         "type": "scatter3d",
         "x": [
          2.763682808712534,
          2.751785053383829
         ],
         "y": [
          10.275654541858685,
          10.307927529936642
         ],
         "z": [
          6.501327379519577,
          6.62059205298644
         ]
        },
        {
         "line": {
          "color": "#636EFA",
          "width": 4
         },
         "marker": {
          "size": 6
         },
         "mode": "lines+markers",
         "showlegend": false,
         "type": "scatter3d",
         "x": [
          2.751785053383829,
          2.805443650661873
         ],
         "y": [
          10.307927529936642,
          10.394585634747903
         ],
         "z": [
          6.62059205298644,
          6.940836665868486
         ]
        },
        {
         "line": {
          "color": "#636EFA",
          "width": 4
         },
         "marker": {
          "size": 6
         },
         "mode": "lines+markers",
         "showlegend": false,
         "type": "scatter3d",
         "x": [
          2.805443650661873,
          2.805443650661873
         ],
         "y": [
          10.394585634747903,
          10.394585634747903
         ],
         "z": [
          6.940836665868486,
          6.940836665868486
         ]
        },
        {
         "line": {
          "color": "#636EFA",
          "width": 4
         },
         "marker": {
          "size": 6
         },
         "mode": "lines+markers",
         "showlegend": false,
         "type": "scatter3d",
         "x": [
          2.805443650661873,
          2.8153567651752422
         ],
         "y": [
          10.394585634747903,
          10.410595216810853
         ],
         "z": [
          6.940836665868486,
          7
         ]
        },
        {
         "line": {
          "color": "#636EFA",
          "width": 4
         },
         "marker": {
          "size": 6
         },
         "mode": "lines+markers",
         "showlegend": false,
         "type": "scatter3d",
         "x": [
          2.8153567651752422,
          2.774009168400175
         ],
         "y": [
          10.410595216810853,
          10.554909656851365
         ],
         "z": [
          7,
          7.1731549710680484
         ]
        },
        {
         "line": {
          "color": "#636EFA",
          "width": 4
         },
         "marker": {
          "size": 6
         },
         "mode": "lines+markers",
         "showlegend": false,
         "type": "scatter3d",
         "x": [
          2.774009168400175,
          2.774009168400175
         ],
         "y": [
          10.554909656851365,
          10.554909656851365
         ],
         "z": [
          7.1731549710680484,
          7.1731549710680484
         ]
        },
        {
         "line": {
          "color": "#636EFA",
          "width": 4
         },
         "marker": {
          "size": 6
         },
         "mode": "lines+markers",
         "showlegend": false,
         "type": "scatter3d",
         "x": [
          2.774009168400175,
          2.761109913747823
         ],
         "y": [
          10.554909656851365,
          10.599931589376759
         ],
         "z": [
          7.1731549710680484,
          7.227174315367021
         ]
        },
        {
         "line": {
          "color": "#636EFA",
          "width": 4
         },
         "marker": {
          "size": 6
         },
         "mode": "lines+markers",
         "showlegend": false,
         "type": "scatter3d",
         "x": [
          2.761109913747823,
          2.761109913747823
         ],
         "y": [
          10.599931589376759,
          10.599931589376759
         ],
         "z": [
          7.227174315367021,
          7.227174315367021
         ]
        },
        {
         "line": {
          "color": "#636EFA",
          "width": 4
         },
         "marker": {
          "size": 6
         },
         "mode": "lines+markers",
         "showlegend": false,
         "type": "scatter3d",
         "x": [
          2.761109913747823,
          2.7176270913023837
         ],
         "y": [
          10.599931589376759,
          10.751698551958214
         ],
         "z": [
          7.227174315367021,
          7.4092711589503795
         ]
        },
        {
         "line": {
          "color": "#636EFA",
          "width": 4
         },
         "marker": {
          "size": 6
         },
         "mode": "lines+markers",
         "showlegend": false,
         "type": "scatter3d",
         "x": [
          2.7176270913023837,
          2.7176270913023837
         ],
         "y": [
          10.751698551958214,
          10.751698551958214
         ],
         "z": [
          7.4092711589503795,
          7.4092711589503795
         ]
        },
        {
         "line": {
          "color": "#636EFA",
          "width": 4
         },
         "marker": {
          "size": 6
         },
         "mode": "lines+markers",
         "showlegend": false,
         "type": "scatter3d",
         "x": [
          2.7176270913023837,
          2.8569020190244534
         ],
         "y": [
          10.751698551958214,
          11.244036146345582
         ],
         "z": [
          7.4092711589503795,
          8
         ]
        },
        {
         "line": {
          "color": "#636EFA",
          "width": 4
         },
         "marker": {
          "size": 6
         },
         "mode": "lines+markers",
         "showlegend": false,
         "type": "scatter3d",
         "x": [
          2.8569020190244534,
          2.8127916228793577
         ],
         "y": [
          11.244036146345582,
          11.317448054603624
         ],
         "z": [
          8,
          8.269116562051629
         ]
        },
        {
         "line": {
          "color": "#636EFA",
          "width": 4
         },
         "marker": {
          "size": 6
         },
         "mode": "lines+markers",
         "showlegend": false,
         "type": "scatter3d",
         "x": [
          2.8127916228793577,
          2.8127916228793577
         ],
         "y": [
          11.317448054603624,
          11.317448054603624
         ],
         "z": [
          8.269116562051629,
          8.269116562051629
         ]
        },
        {
         "line": {
          "color": "#636EFA",
          "width": 4
         },
         "marker": {
          "size": 6
         },
         "mode": "lines+markers",
         "showlegend": false,
         "type": "scatter3d",
         "x": [
          2.8127916228793577,
          2.7755168989622145
         ],
         "y": [
          11.317448054603624,
          11.379483512266443
         ],
         "z": [
          8.269116562051629,
          8.496528837357632
         ]
        },
        {
         "line": {
          "color": "#636EFA",
          "width": 4
         },
         "marker": {
          "size": 6
         },
         "mode": "lines+markers",
         "showlegend": false,
         "type": "scatter3d",
         "x": [
          2.7755168989622145,
          2.7755168989622145
         ],
         "y": [
          11.379483512266443,
          11.379483512266443
         ],
         "z": [
          8.496528837357632,
          8.496528837357632
         ]
        },
        {
         "line": {
          "color": "#636EFA",
          "width": 4
         },
         "marker": {
          "size": 6
         },
         "mode": "lines+markers",
         "showlegend": false,
         "type": "scatter3d",
         "x": [
          2.7755168989622145,
          2.867076726080854
         ],
         "y": [
          11.379483512266443,
          11.436056608948997
         ],
         "z": [
          8.496528837357632,
          8.703916952516117
         ]
        },
        {
         "line": {
          "color": "#636EFA",
          "width": 4
         },
         "marker": {
          "size": 6
         },
         "mode": "lines+markers",
         "showlegend": false,
         "type": "scatter3d",
         "x": [
          2.867076726080854,
          2.867076726080854
         ],
         "y": [
          11.436056608948997,
          11.436056608948997
         ],
         "z": [
          8.703916952516117,
          8.703916952516117
         ]
        },
        {
         "line": {
          "color": "#636EFA",
          "width": 4
         },
         "marker": {
          "size": 6
         },
         "mode": "lines+markers",
         "showlegend": false,
         "type": "scatter3d",
         "x": [
          2.867076726080854,
          2.997794499467567
         ],
         "y": [
          11.436056608948997,
          11.51682466481647
         ],
         "z": [
          8.703916952516117,
          9
         ]
        },
        {
         "line": {
          "color": "#636EFA",
          "width": 4
         },
         "marker": {
          "size": 6
         },
         "mode": "lines+markers",
         "showlegend": false,
         "type": "scatter3d",
         "x": [
          2.997794499467567,
          2.7628502860744133
         ],
         "y": [
          11.51682466481647,
          11.69381297966986
         ],
         "z": [
          9,
          9.301560223861637
         ]
        },
        {
         "line": {
          "color": "#636EFA",
          "width": 4
         },
         "marker": {
          "size": 6
         },
         "mode": "lines+markers",
         "showlegend": false,
         "type": "scatter3d",
         "x": [
          2.7628502860744133,
          2.7628502860744133
         ],
         "y": [
          11.69381297966986,
          11.69381297966986
         ],
         "z": [
          9.301560223861637,
          9.301560223861637
         ]
        },
        {
         "line": {
          "color": "#636EFA",
          "width": 4
         },
         "marker": {
          "size": 6
         },
         "mode": "lines+markers",
         "showlegend": false,
         "type": "scatter3d",
         "x": [
          2.7628502860744133,
          2.7477144547043606
         ],
         "y": [
          11.69381297966986,
          11.716378238613153
         ],
         "z": [
          9.301560223861637,
          9.340007872476592
         ]
        },
        {
         "line": {
          "color": "#636EFA",
          "width": 4
         },
         "marker": {
          "size": 6
         },
         "mode": "lines+markers",
         "showlegend": false,
         "type": "scatter3d",
         "x": [
          2.7477144547043606,
          2.7477144547043606
         ],
         "y": [
          11.716378238613153,
          11.716378238613153
         ],
         "z": [
          9.340007872476592,
          9.340007872476592
         ]
        },
        {
         "line": {
          "color": "#636EFA",
          "width": 4
         },
         "marker": {
          "size": 6
         },
         "mode": "lines+markers",
         "showlegend": false,
         "type": "scatter3d",
         "x": [
          2.7477144547043606,
          2.7622926115874047
         ],
         "y": [
          11.716378238613153,
          11.769541478738507
         ],
         "z": [
          9.340007872476592,
          9.430589663747345
         ]
        },
        {
         "line": {
          "color": "#636EFA",
          "width": 4
         },
         "marker": {
          "size": 6
         },
         "mode": "lines+markers",
         "showlegend": false,
         "type": "scatter3d",
         "x": [
          2.7622926115874047,
          2.7622926115874047
         ],
         "y": [
          11.769541478738507,
          11.769541478738507
         ],
         "z": [
          9.430589663747345,
          9.430589663747345
         ]
        },
        {
         "line": {
          "color": "#636EFA",
          "width": 4
         },
         "marker": {
          "size": 6
         },
         "mode": "lines+markers",
         "showlegend": false,
         "type": "scatter3d",
         "x": [
          2.7622926115874047,
          2.7909798311066365
         ],
         "y": [
          11.769541478738507,
          11.874157278394465
         ],
         "z": [
          9.430589663747345,
          9.608838515881159
         ]
        },
        {
         "line": {
          "color": "#636EFA",
          "width": 4
         },
         "marker": {
          "size": 6
         },
         "mode": "lines+markers",
         "showlegend": false,
         "type": "scatter3d",
         "x": [
          2.7909798311066365,
          2.7909798311066365
         ],
         "y": [
          11.874157278394465,
          11.874157278394465
         ],
         "z": [
          9.608838515881159,
          9.608838515881159
         ]
        },
        {
         "line": {
          "color": "#636EFA",
          "width": 4
         },
         "marker": {
          "size": 6
         },
         "mode": "lines+markers",
         "showlegend": false,
         "type": "scatter3d",
         "x": [
          2.7909798311066365,
          2.859112305812282
         ],
         "y": [
          11.874157278394465,
          11.964467427675237
         ],
         "z": [
          9.608838515881159,
          9.762712792025587
         ]
        },
        {
         "line": {
          "color": "#636EFA",
          "width": 4
         },
         "marker": {
          "size": 6
         },
         "mode": "lines+markers",
         "showlegend": false,
         "type": "scatter3d",
         "x": [
          2.859112305812282,
          2.859112305812282
         ],
         "y": [
          11.964467427675237,
          11.964467427675237
         ],
         "z": [
          9.762712792025587,
          9.762712792025587
         ]
        },
        {
         "line": {
          "color": "#636EFA",
          "width": 4
         },
         "marker": {
          "size": 6
         },
         "mode": "lines+markers",
         "showlegend": false,
         "type": "scatter3d",
         "x": [
          2.859112305812282,
          3.0676849739870615
         ],
         "y": [
          11.964467427675237,
          12.103733351204083
         ],
         "z": [
          9.762712792025587,
          10
         ]
        },
        {
         "line": {
          "color": "#636EFA",
          "width": 4
         },
         "marker": {
          "size": 6
         },
         "mode": "lines+markers",
         "showlegend": false,
         "type": "scatter3d",
         "x": [
          3.0676849739870615,
          2.864489447956218
         ],
         "y": [
          12.103733351204083,
          12.207237885025592
         ],
         "z": [
          10,
          10.294982219436942
         ]
        },
        {
         "line": {
          "color": "#636EFA",
          "width": 4
         },
         "marker": {
          "size": 6
         },
         "mode": "lines+markers",
         "showlegend": false,
         "type": "scatter3d",
         "x": [
          2.864489447956218,
          2.864489447956218
         ],
         "y": [
          12.207237885025592,
          12.207237885025592
         ],
         "z": [
          10.294982219436942,
          10.294982219436942
         ]
        },
        {
         "line": {
          "color": "#636EFA",
          "width": 4
         },
         "marker": {
          "size": 6
         },
         "mode": "lines+markers",
         "showlegend": false,
         "type": "scatter3d",
         "x": [
          2.864489447956218,
          2.8008250062777824
         ],
         "y": [
          12.207237885025592,
          12.273339094365921
         ],
         "z": [
          10.294982219436942,
          10.483367024611772
         ]
        },
        {
         "line": {
          "color": "#636EFA",
          "width": 4
         },
         "marker": {
          "size": 6
         },
         "mode": "lines+markers",
         "showlegend": false,
         "type": "scatter3d",
         "x": [
          2.8008250062777824,
          2.8008250062777824
         ],
         "y": [
          12.273339094365921,
          12.273339094365921
         ],
         "z": [
          10.483367024611772,
          10.483367024611772
         ]
        },
        {
         "line": {
          "color": "#636EFA",
          "width": 4
         },
         "marker": {
          "size": 6
         },
         "mode": "lines+markers",
         "showlegend": false,
         "type": "scatter3d",
         "x": [
          2.8008250062777824,
          2.813182723096223
         ],
         "y": [
          12.273339094365921,
          12.293162811087583
         ],
         "z": [
          10.483367024611772,
          10.539863525201099
         ]
        },
        {
         "line": {
          "color": "#636EFA",
          "width": 4
         },
         "marker": {
          "size": 6
         },
         "mode": "lines+markers",
         "showlegend": false,
         "type": "scatter3d",
         "x": [
          2.813182723096223,
          2.813182723096223
         ],
         "y": [
          12.293162811087583,
          12.293162811087583
         ],
         "z": [
          10.539863525201099,
          10.539863525201099
         ]
        },
        {
         "line": {
          "color": "#636EFA",
          "width": 4
         },
         "marker": {
          "size": 6
         },
         "mode": "lines+markers",
         "showlegend": false,
         "type": "scatter3d",
         "x": [
          2.813182723096223,
          2.8517230376256504
         ],
         "y": [
          12.293162811087583,
          12.354987522627749
         ],
         "z": [
          10.539863525201099,
          10.71606054723316
         ]
        },
        {
         "line": {
          "color": "#636EFA",
          "width": 4
         },
         "marker": {
          "size": 6
         },
         "mode": "lines+markers",
         "showlegend": false,
         "type": "scatter3d",
         "x": [
          2.8517230376256504,
          2.8517230376256504
         ],
         "y": [
          12.354987522627749,
          12.354987522627749
         ],
         "z": [
          10.71606054723316,
          10.71606054723316
         ]
        },
        {
         "line": {
          "color": "#636EFA",
          "width": 4
         },
         "marker": {
          "size": 6
         },
         "mode": "lines+markers",
         "showlegend": false,
         "type": "scatter3d",
         "x": [
          2.8517230376256504,
          2.9051777224057274
         ],
         "y": [
          12.354987522627749,
          12.402205339557927
         ],
         "z": [
          10.71606054723316,
          10.850628724305
         ]
        },
        {
         "line": {
          "color": "#636EFA",
          "width": 4
         },
         "marker": {
          "size": 6
         },
         "mode": "lines+markers",
         "showlegend": false,
         "type": "scatter3d",
         "x": [
          2.9051777224057274,
          2.9051777224057274
         ],
         "y": [
          12.402205339557927,
          12.402205339557927
         ],
         "z": [
          10.850628724305,
          10.850628724305
         ]
        },
        {
         "line": {
          "color": "#636EFA",
          "width": 4
         },
         "marker": {
          "size": 6
         },
         "mode": "lines+markers",
         "showlegend": false,
         "type": "scatter3d",
         "x": [
          2.9051777224057274,
          2.9645126605108305
         ],
         "y": [
          12.402205339557927,
          12.454617326580893
         ],
         "z": [
          10.850628724305,
          11
         ]
        },
        {
         "line": {
          "color": "#636EFA",
          "width": 4
         },
         "marker": {
          "size": 6
         },
         "mode": "lines+markers",
         "showlegend": false,
         "type": "scatter3d",
         "x": [
          2.9645126605108305,
          2.9131882927201316
         ],
         "y": [
          12.454617326580893,
          12.499313444177073
         ],
         "z": [
          11,
          11.098348331187033
         ]
        },
        {
         "line": {
          "color": "#636EFA",
          "width": 4
         },
         "marker": {
          "size": 6
         },
         "mode": "lines+markers",
         "showlegend": false,
         "type": "scatter3d",
         "x": [
          2.9131882927201316,
          2.9131882927201316
         ],
         "y": [
          12.499313444177073,
          12.499313444177073
         ],
         "z": [
          11.098348331187033,
          11.098348331187033
         ]
        },
        {
         "line": {
          "color": "#636EFA",
          "width": 4
         },
         "marker": {
          "size": 6
         },
         "mode": "lines+markers",
         "showlegend": false,
         "type": "scatter3d",
         "x": [
          2.9131882927201316,
          2.817773518745857
         ],
         "y": [
          12.499313444177073,
          12.582405942760953
         ],
         "z": [
          11.098348331187033,
          11.281183194915416
         ]
        },
        {
         "line": {
          "color": "#636EFA",
          "width": 4
         },
         "marker": {
          "size": 6
         },
         "mode": "lines+markers",
         "showlegend": false,
         "type": "scatter3d",
         "x": [
          2.817773518745857,
          2.817773518745857
         ],
         "y": [
          12.582405942760953,
          12.582405942760953
         ],
         "z": [
          11.281183194915416,
          11.281183194915416
         ]
        },
        {
         "line": {
          "color": "#636EFA",
          "width": 4
         },
         "marker": {
          "size": 6
         },
         "mode": "lines+markers",
         "showlegend": false,
         "type": "scatter3d",
         "x": [
          2.817773518745857,
          2.7964500830350945
         ],
         "y": [
          12.582405942760953,
          12.60097557802601
         ],
         "z": [
          11.281183194915416,
          11.32204340240749
         ]
        },
        {
         "line": {
          "color": "#636EFA",
          "width": 4
         },
         "marker": {
          "size": 6
         },
         "mode": "lines+markers",
         "showlegend": false,
         "type": "scatter3d",
         "x": [
          2.7964500830350945,
          2.7964500830350945
         ],
         "y": [
          12.60097557802601,
          12.60097557802601
         ],
         "z": [
          11.32204340240749,
          11.32204340240749
         ]
        },
        {
         "line": {
          "color": "#636EFA",
          "width": 4
         },
         "marker": {
          "size": 6
         },
         "mode": "lines+markers",
         "showlegend": false,
         "type": "scatter3d",
         "x": [
          2.7964500830350945,
          2.7920499903864338
         ],
         "y": [
          12.60097557802601,
          12.604807423734474
         ],
         "z": [
          11.32204340240749,
          11.330474909461387
         ]
        },
        {
         "line": {
          "color": "#636EFA",
          "width": 4
         },
         "marker": {
          "size": 6
         },
         "mode": "lines+markers",
         "showlegend": false,
         "type": "scatter3d",
         "x": [
          2.7920499903864338,
          2.7920499903864338
         ],
         "y": [
          12.604807423734474,
          12.604807423734474
         ],
         "z": [
          11.330474909461387,
          11.330474909461387
         ]
        },
        {
         "line": {
          "color": "#636EFA",
          "width": 4
         },
         "marker": {
          "size": 6
         },
         "mode": "lines+markers",
         "showlegend": false,
         "type": "scatter3d",
         "x": [
          2.7920499903864338,
          3.0605724152092866
         ],
         "y": [
          12.604807423734474,
          12.909084800067353
         ],
         "z": [
          11.330474909461387,
          12
         ]
        },
        {
         "line": {
          "color": "#636EFA",
          "width": 4
         },
         "marker": {
          "size": 6
         },
         "mode": "lines+markers",
         "showlegend": false,
         "type": "scatter3d",
         "x": [
          3.0605724152092866,
          3.0582066485855095
         ],
         "y": [
          12.909084800067353,
          12.91134208136174
         ],
         "z": [
          12,
          12.003882164061116
         ]
        },
        {
         "line": {
          "color": "#636EFA",
          "width": 4
         },
         "marker": {
          "size": 6
         },
         "mode": "lines+markers",
         "showlegend": false,
         "type": "scatter3d",
         "x": [
          3.0582066485855095,
          3.0582066485855095
         ],
         "y": [
          12.91134208136174,
          12.91134208136174
         ],
         "z": [
          12.003882164061116,
          12.003882164061116
         ]
        },
        {
         "line": {
          "color": "#636EFA",
          "width": 4
         },
         "marker": {
          "size": 6
         },
         "mode": "lines+markers",
         "showlegend": false,
         "type": "scatter3d",
         "x": [
          3.0582066485855095,
          3.043015823488916
         ],
         "y": [
          12.91134208136174,
          12.92583631126261
         ],
         "z": [
          12.003882164061116,
          12.02880992940195
         ]
        },
        {
         "line": {
          "color": "#636EFA",
          "width": 4
         },
         "marker": {
          "size": 6
         },
         "mode": "lines+markers",
         "showlegend": false,
         "type": "scatter3d",
         "x": [
          3.043015823488916,
          3.043015823488916
         ],
         "y": [
          12.92583631126261,
          12.92583631126261
         ],
         "z": [
          12.02880992940195,
          12.02880992940195
         ]
        },
        {
         "line": {
          "color": "#636EFA",
          "width": 4
         },
         "marker": {
          "size": 6
         },
         "mode": "lines+markers",
         "showlegend": false,
         "type": "scatter3d",
         "x": [
          3.043015823488916,
          2.853588826383052
         ],
         "y": [
          12.92583631126261,
          13.106576885130433
         ],
         "z": [
          12.02880992940195,
          12.339654910043114
         ]
        },
        {
         "line": {
          "color": "#636EFA",
          "width": 4
         },
         "marker": {
          "size": 6
         },
         "mode": "lines+markers",
         "showlegend": false,
         "type": "scatter3d",
         "x": [
          2.853588826383052,
          2.853588826383052
         ],
         "y": [
          13.106576885130433,
          13.106576885130433
         ],
         "z": [
          12.339654910043114,
          12.339654910043114
         ]
        },
        {
         "line": {
          "color": "#636EFA",
          "width": 4
         },
         "marker": {
          "size": 6
         },
         "mode": "lines+markers",
         "showlegend": false,
         "type": "scatter3d",
         "x": [
          2.853588826383052,
          2.7644029432669215
         ],
         "y": [
          13.106576885130433,
          13.191673032678555
         ],
         "z": [
          12.339654910043114,
          12.486006721211853
         ]
        },
        {
         "line": {
          "color": "#636EFA",
          "width": 4
         },
         "marker": {
          "size": 6
         },
         "mode": "lines+markers",
         "showlegend": false,
         "type": "scatter3d",
         "x": [
          2.7644029432669215,
          2.7644029432669215
         ],
         "y": [
          13.191673032678555,
          13.191673032678555
         ],
         "z": [
          12.486006721211853,
          12.486006721211853
         ]
        },
        {
         "line": {
          "color": "#636EFA",
          "width": 4
         },
         "marker": {
          "size": 6
         },
         "mode": "lines+markers",
         "showlegend": false,
         "type": "scatter3d",
         "x": [
          2.7644029432669215,
          2.802058628378715
         ],
         "y": [
          13.191673032678555,
          13.341141887251766
         ],
         "z": [
          12.486006721211853,
          12.74306932874924
         ]
        },
        {
         "line": {
          "color": "#636EFA",
          "width": 4
         },
         "marker": {
          "size": 6
         },
         "mode": "lines+markers",
         "showlegend": false,
         "type": "scatter3d",
         "x": [
          2.802058628378715,
          2.802058628378715
         ],
         "y": [
          13.341141887251766,
          13.341141887251766
         ],
         "z": [
          12.74306932874924,
          12.74306932874924
         ]
        },
        {
         "line": {
          "color": "#636EFA",
          "width": 4
         },
         "marker": {
          "size": 6
         },
         "mode": "lines+markers",
         "showlegend": false,
         "type": "scatter3d",
         "x": [
          2.802058628378715,
          2.827917775526035
         ],
         "y": [
          13.341141887251766,
          13.443786072130495
         ],
         "z": [
          12.74306932874924,
          12.91960096732249
         ]
        },
        {
         "line": {
          "color": "#636EFA",
          "width": 4
         },
         "marker": {
          "size": 6
         },
         "mode": "lines+markers",
         "showlegend": false,
         "type": "scatter3d",
         "x": [
          2.827917775526035,
          2.827917775526035
         ],
         "y": [
          13.443786072130495,
          13.443786072130495
         ],
         "z": [
          12.91960096732249,
          12.91960096732249
         ]
        },
        {
         "line": {
          "color": "#636EFA",
          "width": 4
         },
         "marker": {
          "size": 6
         },
         "mode": "lines+markers",
         "showlegend": false,
         "type": "scatter3d",
         "x": [
          2.827917775526035,
          2.861601074257032
         ],
         "y": [
          13.443786072130495,
          13.490534027573037
         ],
         "z": [
          12.91960096732249,
          13
         ]
        },
        {
         "line": {
          "color": "#636EFA",
          "width": 4
         },
         "marker": {
          "size": 6
         },
         "mode": "lines+markers",
         "showlegend": false,
         "type": "scatter3d",
         "x": [
          2.861601074257032,
          2.811166109935739
         ],
         "y": [
          13.490534027573037,
          13.566318789986585
         ],
         "z": [
          13,
          13.15133380075171
         ]
        },
        {
         "line": {
          "color": "#636EFA",
          "width": 4
         },
         "marker": {
          "size": 6
         },
         "mode": "lines+markers",
         "showlegend": false,
         "type": "scatter3d",
         "x": [
          2.811166109935739,
          2.811166109935739
         ],
         "y": [
          13.566318789986585,
          13.566318789986585
         ],
         "z": [
          13.15133380075171,
          13.15133380075171
         ]
        },
        {
         "line": {
          "color": "#636EFA",
          "width": 4
         },
         "marker": {
          "size": 6
         },
         "mode": "lines+markers",
         "showlegend": false,
         "type": "scatter3d",
         "x": [
          2.811166109935739,
          2.7755213457262435
         ],
         "y": [
          13.566318789986585,
          13.619879450200301
         ],
         "z": [
          13.15133380075171,
          13.25828852387509
         ]
        },
        {
         "line": {
          "color": "#636EFA",
          "width": 4
         },
         "marker": {
          "size": 6
         },
         "mode": "lines+markers",
         "showlegend": false,
         "type": "scatter3d",
         "x": [
          2.7755213457262435,
          2.7755213457262435
         ],
         "y": [
          13.619879450200301,
          13.619879450200301
         ],
         "z": [
          13.25828852387509,
          13.25828852387509
         ]
        },
        {
         "line": {
          "color": "#636EFA",
          "width": 4
         },
         "marker": {
          "size": 6
         },
         "mode": "lines+markers",
         "showlegend": false,
         "type": "scatter3d",
         "x": [
          2.7755213457262435,
          2.784218048231855
         ],
         "y": [
          13.619879450200301,
          13.802024303557648
         ],
         "z": [
          13.25828852387509,
          13.622011679666125
         ]
        },
        {
         "line": {
          "color": "#636EFA",
          "width": 4
         },
         "marker": {
          "size": 6
         },
         "mode": "lines+markers",
         "showlegend": false,
         "type": "scatter3d",
         "x": [
          2.784218048231855,
          2.784218048231855
         ],
         "y": [
          13.802024303557648,
          13.802024303557648
         ],
         "z": [
          13.622011679666125,
          13.622011679666125
         ]
        },
        {
         "line": {
          "color": "#636EFA",
          "width": 4
         },
         "marker": {
          "size": 6
         },
         "mode": "lines+markers",
         "showlegend": false,
         "type": "scatter3d",
         "x": [
          2.784218048231855,
          2.8097644173446583
         ],
         "y": [
          13.802024303557648,
          13.836720296850304
         ],
         "z": [
          13.622011679666125,
          13.691295746391587
         ]
        },
        {
         "line": {
          "color": "#636EFA",
          "width": 4
         },
         "marker": {
          "size": 6
         },
         "mode": "lines+markers",
         "showlegend": false,
         "type": "scatter3d",
         "x": [
          2.8097644173446583,
          2.8097644173446583
         ],
         "y": [
          13.836720296850304,
          13.836720296850304
         ],
         "z": [
          13.691295746391587,
          13.691295746391587
         ]
        },
        {
         "line": {
          "color": "#636EFA",
          "width": 4
         },
         "marker": {
          "size": 6
         },
         "mode": "lines+markers",
         "showlegend": false,
         "type": "scatter3d",
         "x": [
          2.8097644173446583,
          2.923589618175061
         ],
         "y": [
          13.836720296850304,
          13.991312849205146
         ],
         "z": [
          13.691295746391587,
          14
         ]
        },
        {
         "line": {
          "color": "#636EFA",
          "width": 4
         },
         "marker": {
          "size": 6
         },
         "mode": "lines+markers",
         "showlegend": false,
         "type": "scatter3d",
         "x": [
          2.923589618175061,
          2.874913189450915
         ],
         "y": [
          13.991312849205146,
          14.048483111141334
         ],
         "z": [
          14,
          14.1447836176298
         ]
        },
        {
         "line": {
          "color": "#636EFA",
          "width": 4
         },
         "marker": {
          "size": 6
         },
         "mode": "lines+markers",
         "showlegend": false,
         "type": "scatter3d",
         "x": [
          2.874913189450915,
          2.874913189450915
         ],
         "y": [
          14.048483111141334,
          14.048483111141334
         ],
         "z": [
          14.1447836176298,
          14.1447836176298
         ]
        },
        {
         "line": {
          "color": "#636EFA",
          "width": 4
         },
         "marker": {
          "size": 6
         },
         "mode": "lines+markers",
         "showlegend": false,
         "type": "scatter3d",
         "x": [
          2.874913189450915,
          2.845784465757346
         ],
         "y": [
          14.048483111141334,
          14.082694675281864
         ],
         "z": [
          14.1447836176298,
          14.231424361493607
         ]
        },
        {
         "line": {
          "color": "#636EFA",
          "width": 4
         },
         "marker": {
          "size": 6
         },
         "mode": "lines+markers",
         "showlegend": false,
         "type": "scatter3d",
         "x": [
          2.845784465757346,
          2.845784465757346
         ],
         "y": [
          14.082694675281864,
          14.082694675281864
         ],
         "z": [
          14.231424361493607,
          14.231424361493607
         ]
        },
        {
         "line": {
          "color": "#636EFA",
          "width": 4
         },
         "marker": {
          "size": 6
         },
         "mode": "lines+markers",
         "showlegend": false,
         "type": "scatter3d",
         "x": [
          2.845784465757346,
          2.754772250492122
         ],
         "y": [
          14.082694675281864,
          14.189588141431413
         ],
         "z": [
          14.231424361493607,
          14.502131932282682
         ]
        },
        {
         "line": {
          "color": "#636EFA",
          "width": 4
         },
         "marker": {
          "size": 6
         },
         "mode": "lines+markers",
         "showlegend": false,
         "type": "scatter3d",
         "x": [
          2.754772250492122,
          2.754772250492122
         ],
         "y": [
          14.189588141431413,
          14.189588141431413
         ],
         "z": [
          14.502131932282682,
          14.502131932282682
         ]
        },
        {
         "line": {
          "color": "#636EFA",
          "width": 4
         },
         "marker": {
          "size": 6
         },
         "mode": "lines+markers",
         "showlegend": false,
         "type": "scatter3d",
         "x": [
          2.754772250492122,
          2.810733078227522
         ],
         "y": [
          14.189588141431413,
          14.343030415146254
         ],
         "z": [
          14.502131932282682,
          14.89072430064674
         ]
        },
        {
         "line": {
          "color": "#636EFA",
          "width": 4
         },
         "marker": {
          "size": 6
         },
         "mode": "lines+markers",
         "showlegend": false,
         "type": "scatter3d",
         "x": [
          2.810733078227522,
          2.810733078227522
         ],
         "y": [
          14.343030415146254,
          14.343030415146254
         ],
         "z": [
          14.89072430064674,
          14.89072430064674
         ]
        },
        {
         "line": {
          "color": "#636EFA",
          "width": 4
         },
         "marker": {
          "size": 6
         },
         "mode": "lines+markers",
         "showlegend": false,
         "type": "scatter3d",
         "x": [
          2.810733078227522,
          2.8264697706718884
         ],
         "y": [
          14.343030415146254,
          14.386179774566598
         ],
         "z": [
          14.89072430064674,
          15
         ]
        },
        {
         "line": {
          "color": "#636EFA",
          "width": 4
         },
         "marker": {
          "size": 6
         },
         "mode": "lines+markers",
         "showlegend": false,
         "type": "scatter3d",
         "x": [
          2.8264697706718884,
          2.8082072197251566
         ],
         "y": [
          14.386179774566598,
          14.406622369024367
         ],
         "z": [
          15,
          15.048588579339656
         ]
        },
        {
         "line": {
          "color": "#636EFA",
          "width": 4
         },
         "marker": {
          "size": 6
         },
         "mode": "lines+markers",
         "showlegend": false,
         "type": "scatter3d",
         "x": [
          2.8082072197251566,
          2.8082072197251566
         ],
         "y": [
          14.406622369024367,
          14.406622369024367
         ],
         "z": [
          15.048588579339656,
          15.048588579339656
         ]
        },
        {
         "line": {
          "color": "#636EFA",
          "width": 4
         },
         "marker": {
          "size": 6
         },
         "mode": "lines+markers",
         "showlegend": false,
         "type": "scatter3d",
         "x": [
          2.8082072197251566,
          2.697725799425762
         ],
         "y": [
          14.406622369024367,
          14.570000392199773
         ],
         "z": [
          15.048588579339656,
          15.436910426540285
         ]
        },
        {
         "line": {
          "color": "#636EFA",
          "width": 4
         },
         "marker": {
          "size": 6
         },
         "mode": "lines+markers",
         "showlegend": false,
         "type": "scatter3d",
         "x": [
          2.697725799425762,
          2.697725799425762
         ],
         "y": [
          14.570000392199773,
          14.570000392199773
         ],
         "z": [
          15.436910426540285,
          15.436910426540285
         ]
        },
        {
         "line": {
          "color": "#636EFA",
          "width": 4
         },
         "marker": {
          "size": 6
         },
         "mode": "lines+markers",
         "showlegend": false,
         "type": "scatter3d",
         "x": [
          2.697725799425762,
          2.6855112712809066
         ],
         "y": [
          14.570000392199773,
          14.58806302623289
         ],
         "z": [
          15.436910426540285,
          15.479842243664296
         ]
        },
        {
         "line": {
          "color": "#636EFA",
          "width": 4
         },
         "marker": {
          "size": 6
         },
         "mode": "lines+markers",
         "showlegend": false,
         "type": "scatter3d",
         "x": [
          2.6855112712809066,
          2.6855112712809066
         ],
         "y": [
          14.58806302623289,
          14.58806302623289
         ],
         "z": [
          15.479842243664296,
          15.479842243664296
         ]
        },
        {
         "line": {
          "color": "#636EFA",
          "width": 4
         },
         "marker": {
          "size": 6
         },
         "mode": "lines+markers",
         "showlegend": false,
         "type": "scatter3d",
         "x": [
          2.6855112712809066,
          2.780750160562976
         ],
         "y": [
          14.58806302623289,
          14.797836346759581
         ],
         "z": [
          15.479842243664296,
          15.978437842613847
         ]
        },
        {
         "line": {
          "color": "#636EFA",
          "width": 4
         },
         "marker": {
          "size": 6
         },
         "mode": "lines+markers",
         "showlegend": false,
         "type": "scatter3d",
         "x": [
          2.780750160562976,
          2.780750160562976
         ],
         "y": [
          14.797836346759581,
          14.797836346759581
         ],
         "z": [
          15.978437842613847,
          15.978437842613847
         ]
        },
        {
         "line": {
          "color": "#636EFA",
          "width": 4
         },
         "marker": {
          "size": 6
         },
         "mode": "lines+markers",
         "showlegend": false,
         "type": "scatter3d",
         "x": [
          2.780750160562976,
          2.787805456615292
         ],
         "y": [
          14.797836346759581,
          14.806908158388369
         ],
         "z": [
          15.978437842613847,
          16
         ]
        },
        {
         "line": {
          "color": "#636EFA",
          "width": 4
         },
         "marker": {
          "size": 6
         },
         "mode": "lines+markers",
         "showlegend": false,
         "type": "scatter3d",
         "x": [
          2.787805456615292,
          2.771508819775346
         ],
         "y": [
          14.806908158388369,
          14.859629651101958
         ],
         "z": [
          16,
          16.10302598953115
         ]
        },
        {
         "line": {
          "color": "#636EFA",
          "width": 4
         },
         "marker": {
          "size": 6
         },
         "mode": "lines+markers",
         "showlegend": false,
         "type": "scatter3d",
         "x": [
          2.771508819775346,
          2.771508819775346
         ],
         "y": [
          14.859629651101958,
          14.859629651101958
         ],
         "z": [
          16.10302598953115,
          16.10302598953115
         ]
        },
        {
         "line": {
          "color": "#636EFA",
          "width": 4
         },
         "marker": {
          "size": 6
         },
         "mode": "lines+markers",
         "showlegend": false,
         "type": "scatter3d",
         "x": [
          2.771508819775346,
          2.7498993620947965
         ],
         "y": [
          14.859629651101958,
          14.929538729695224
         ],
         "z": [
          16.10302598953115,
          16.23963919277276
         ]
        },
        {
         "line": {
          "color": "#636EFA",
          "width": 4
         },
         "marker": {
          "size": 6
         },
         "mode": "lines+markers",
         "showlegend": false,
         "type": "scatter3d",
         "x": [
          2.7498993620947965,
          2.7498993620947965
         ],
         "y": [
          14.929538729695224,
          14.929538729695224
         ],
         "z": [
          16.23963919277276,
          16.23963919277276
         ]
        },
        {
         "line": {
          "color": "#636EFA",
          "width": 4
         },
         "marker": {
          "size": 6
         },
         "mode": "lines+markers",
         "showlegend": false,
         "type": "scatter3d",
         "x": [
          2.7498993620947965,
          2.800030658935266
         ],
         "y": [
          14.929538729695224,
          15.047037633592353
         ],
         "z": [
          16.23963919277276,
          16.469250309980513
         ]
        },
        {
         "line": {
          "color": "#636EFA",
          "width": 4
         },
         "marker": {
          "size": 6
         },
         "mode": "lines+markers",
         "showlegend": false,
         "type": "scatter3d",
         "x": [
          2.800030658935266,
          2.800030658935266
         ],
         "y": [
          15.047037633592353,
          15.047037633592353
         ],
         "z": [
          16.469250309980513,
          16.469250309980513
         ]
        },
        {
         "line": {
          "color": "#636EFA",
          "width": 4
         },
         "marker": {
          "size": 6
         },
         "mode": "lines+markers",
         "showlegend": false,
         "type": "scatter3d",
         "x": [
          2.800030658935266,
          2.9159099359577274
         ],
         "y": [
          15.047037633592353,
          15.31863818838868
         ],
         "z": [
          16.469250309980513,
          17
         ]
        },
        {
         "line": {
          "color": "#636EFA",
          "width": 4
         },
         "marker": {
          "size": 6
         },
         "mode": "lines+markers",
         "showlegend": false,
         "type": "scatter3d",
         "x": [
          2.9159099359577274,
          2.7431597199832547
         ],
         "y": [
          15.31863818838868,
          15.7122760980253
         ],
         "z": [
          17,
          17.586076796432817
         ]
        },
        {
         "line": {
          "color": "#636EFA",
          "width": 4
         },
         "marker": {
          "size": 6
         },
         "mode": "lines+markers",
         "showlegend": false,
         "type": "scatter3d",
         "x": [
          2.7431597199832547,
          2.7431597199832547
         ],
         "y": [
          15.7122760980253,
          15.7122760980253
         ],
         "z": [
          17.586076796432817,
          17.586076796432817
         ]
        },
        {
         "line": {
          "color": "#636EFA",
          "width": 4
         },
         "marker": {
          "size": 6
         },
         "mode": "lines+markers",
         "showlegend": false,
         "type": "scatter3d",
         "x": [
          2.7431597199832547,
          2.6985912462672395
         ],
         "y": [
          15.7122760980253,
          15.813832213195997
         ],
         "z": [
          17.586076796432817,
          17.737280939073322
         ]
        },
        {
         "line": {
          "color": "#636EFA",
          "width": 4
         },
         "marker": {
          "size": 6
         },
         "mode": "lines+markers",
         "showlegend": false,
         "type": "scatter3d",
         "x": [
          2.6985912462672395,
          2.6985912462672395
         ],
         "y": [
          15.813832213195997,
          15.813832213195997
         ],
         "z": [
          17.737280939073322,
          17.737280939073322
         ]
        },
        {
         "line": {
          "color": "#636EFA",
          "width": 4
         },
         "marker": {
          "size": 6
         },
         "mode": "lines+markers",
         "showlegend": false,
         "type": "scatter3d",
         "x": [
          2.6985912462672395,
          2.72316612724325
         ],
         "y": [
          15.813832213195997,
          15.990287214646866
         ],
         "z": [
          17.737280939073322,
          18
         ]
        },
        {
         "line": {
          "color": "#636EFA",
          "width": 4
         },
         "marker": {
          "size": 6
         },
         "mode": "lines+markers",
         "showlegend": false,
         "type": "scatter3d",
         "x": [
          2.72316612724325,
          2.7066606281934185
         ],
         "y": [
          15.990287214646866,
          16.029092962578925
         ],
         "z": [
          18,
          18.070697332607324
         ]
        },
        {
         "line": {
          "color": "#636EFA",
          "width": 4
         },
         "marker": {
          "size": 6
         },
         "mode": "lines+markers",
         "showlegend": false,
         "type": "scatter3d",
         "x": [
          2.7066606281934185,
          2.7066606281934185
         ],
         "y": [
          16.029092962578925,
          16.029092962578925
         ],
         "z": [
          18.070697332607324,
          18.070697332607324
         ]
        },
        {
         "line": {
          "color": "#636EFA",
          "width": 4
         },
         "marker": {
          "size": 6
         },
         "mode": "lines+markers",
         "showlegend": false,
         "type": "scatter3d",
         "x": [
          2.7066606281934185,
          2.6891143374906177
         ],
         "y": [
          16.029092962578925,
          16.07034569490164
         ],
         "z": [
          18.070697332607324,
          18.145852645760566
         ]
        },
        {
         "line": {
          "color": "#636EFA",
          "width": 4
         },
         "marker": {
          "size": 6
         },
         "mode": "lines+markers",
         "showlegend": false,
         "type": "scatter3d",
         "x": [
          2.6891143374906177,
          2.6906321007329512
         ],
         "y": [
          16.07034569490164,
          16.079935594204603
         ],
         "z": [
          18.145852645760566,
          18.163323776632186
         ]
        },
        {
         "line": {
          "color": "#636EFA",
          "width": 4
         },
         "marker": {
          "size": 6
         },
         "mode": "lines+markers",
         "showlegend": false,
         "type": "scatter3d",
         "x": [
          2.6906321007329512,
          2.6906321007329512
         ],
         "y": [
          16.079935594204603,
          16.079935594204603
         ],
         "z": [
          18.163323776632186,
          18.163323776632186
         ]
        },
        {
         "line": {
          "color": "#636EFA",
          "width": 4
         },
         "marker": {
          "size": 6
         },
         "mode": "lines+markers",
         "showlegend": false,
         "type": "scatter3d",
         "x": [
          2.6906321007329512,
          2.696999344541285
         ],
         "y": [
          16.079935594204603,
          16.120166656109536
         ],
         "z": [
          18.163323776632186,
          18.236617783736968
         ]
        },
        {
         "line": {
          "color": "#636EFA",
          "width": 4
         },
         "marker": {
          "size": 6
         },
         "mode": "lines+markers",
         "showlegend": false,
         "type": "scatter3d",
         "x": [
          2.696999344541285,
          2.696999344541285
         ],
         "y": [
          16.120166656109536,
          16.120166656109536
         ],
         "z": [
          18.236617783736968,
          18.236617783736968
         ]
        },
        {
         "line": {
          "color": "#636EFA",
          "width": 4
         },
         "marker": {
          "size": 6
         },
         "mode": "lines+markers",
         "showlegend": false,
         "type": "scatter3d",
         "x": [
          2.696999344541285,
          2.6996293124466475
         ],
         "y": [
          16.120166656109536,
          16.136783956277956
         ],
         "z": [
          18.236617783736968,
          18.266891618404436
         ]
        },
        {
         "line": {
          "color": "#636EFA",
          "width": 4
         },
         "marker": {
          "size": 6
         },
         "mode": "lines+markers",
         "showlegend": false,
         "type": "scatter3d",
         "x": [
          2.6996293124466475,
          2.6996293124466475
         ],
         "y": [
          16.136783956277956,
          16.136783956277956
         ],
         "z": [
          18.266891618404436,
          18.266891618404436
         ]
        },
        {
         "line": {
          "color": "#636EFA",
          "width": 4
         },
         "marker": {
          "size": 6
         },
         "mode": "lines+markers",
         "showlegend": false,
         "type": "scatter3d",
         "x": [
          2.6996293124466475,
          2.7049427160657338
         ],
         "y": [
          16.136783956277956,
          16.1703563898709
         ],
         "z": [
          18.266891618404436,
          18.328054761254123
         ]
        },
        {
         "line": {
          "color": "#636EFA",
          "width": 4
         },
         "marker": {
          "size": 6
         },
         "mode": "lines+markers",
         "showlegend": false,
         "type": "scatter3d",
         "x": [
          2.7049427160657338,
          2.7049427160657338
         ],
         "y": [
          16.1703563898709,
          16.1703563898709
         ],
         "z": [
          18.328054761254123,
          18.328054761254123
         ]
        },
        {
         "line": {
          "color": "#636EFA",
          "width": 4
         },
         "marker": {
          "size": 6
         },
         "mode": "lines+markers",
         "showlegend": false,
         "type": "scatter3d",
         "x": [
          2.7049427160657338,
          2.8462621999512616
         ],
         "y": [
          16.1703563898709,
          16.36195469937955
         ],
         "z": [
          18.328054761254123,
          18.677113602692984
         ]
        },
        {
         "line": {
          "color": "#636EFA",
          "width": 4
         },
         "marker": {
          "size": 6
         },
         "mode": "lines+markers",
         "showlegend": false,
         "type": "scatter3d",
         "x": [
          2.8462621999512616,
          2.8462621999512616
         ],
         "y": [
          16.36195469937955,
          16.36195469937955
         ],
         "z": [
          18.677113602692984,
          18.677113602692984
         ]
        },
        {
         "line": {
          "color": "#636EFA",
          "width": 4
         },
         "marker": {
          "size": 6
         },
         "mode": "lines+markers",
         "showlegend": false,
         "type": "scatter3d",
         "x": [
          2.8462621999512616,
          2.9769855439954696
         ],
         "y": [
          16.36195469937955,
          16.539186960944242
         ],
         "z": [
          18.677113602692984,
          19
         ]
        },
        {
         "line": {
          "color": "#636EFA",
          "width": 4
         },
         "marker": {
          "size": 6
         },
         "mode": "lines+markers",
         "showlegend": false,
         "type": "scatter3d",
         "x": [
          2.9769855439954696,
          2.9131032920491893
         ],
         "y": [
          16.539186960944242,
          16.632209837402165
         ],
         "z": [
          19,
          19.22729755849802
         ]
        },
        {
         "line": {
          "color": "#636EFA",
          "width": 4
         },
         "marker": {
          "size": 6
         },
         "mode": "lines+markers",
         "showlegend": false,
         "type": "scatter3d",
         "x": [
          2.9131032920491893,
          2.9131032920491893
         ],
         "y": [
          16.632209837402165,
          16.632209837402165
         ],
         "z": [
          19.22729755849802,
          19.22729755849802
         ]
        },
        {
         "line": {
          "color": "#636EFA",
          "width": 4
         },
         "marker": {
          "size": 6
         },
         "mode": "lines+markers",
         "showlegend": false,
         "type": "scatter3d",
         "x": [
          2.9131032920491893,
          2.8685332585651233
         ],
         "y": [
          16.632209837402165,
          16.697111004662204
         ],
         "z": [
          19.22729755849802,
          19.385880881478275
         ]
        },
        {
         "line": {
          "color": "#636EFA",
          "width": 4
         },
         "marker": {
          "size": 6
         },
         "mode": "lines+markers",
         "showlegend": false,
         "type": "scatter3d",
         "x": [
          2.8685332585651233,
          2.8685332585651233
         ],
         "y": [
          16.697111004662204,
          16.697111004662204
         ],
         "z": [
          19.385880881478275,
          19.385880881478275
         ]
        },
        {
         "line": {
          "color": "#636EFA",
          "width": 4
         },
         "marker": {
          "size": 6
         },
         "mode": "lines+markers",
         "showlegend": false,
         "type": "scatter3d",
         "x": [
          2.8685332585651233,
          2.859972542669941
         ],
         "y": [
          16.697111004662204,
          16.778073351883293
         ],
         "z": [
          19.385880881478275,
          19.583709034663226
         ]
        },
        {
         "line": {
          "color": "#636EFA",
          "width": 4
         },
         "marker": {
          "size": 6
         },
         "mode": "lines+markers",
         "showlegend": false,
         "type": "scatter3d",
         "x": [
          2.859972542669941,
          2.859972542669941
         ],
         "y": [
          16.778073351883293,
          16.778073351883293
         ],
         "z": [
          19.583709034663226,
          19.583709034663226
         ]
        },
        {
         "line": {
          "color": "#636EFA",
          "width": 4
         },
         "marker": {
          "size": 6
         },
         "mode": "lines+markers",
         "showlegend": false,
         "type": "scatter3d",
         "x": [
          2.859972542669941,
          2.8495877848428752
         ],
         "y": [
          16.778073351883293,
          16.876286442855623
         ],
         "z": [
          19.583709034663226,
          19.823688668067188
         ]
        },
        {
         "line": {
          "color": "#636EFA",
          "width": 4
         },
         "marker": {
          "size": 6
         },
         "mode": "lines+markers",
         "showlegend": false,
         "type": "scatter3d",
         "x": [
          2.8495877848428752,
          2.8495877848428752
         ],
         "y": [
          16.876286442855623,
          16.876286442855623
         ],
         "z": [
          19.823688668067188,
          19.823688668067188
         ]
        },
        {
         "line": {
          "color": "#636EFA",
          "width": 4
         },
         "marker": {
          "size": 6
         },
         "mode": "lines+markers",
         "showlegend": false,
         "type": "scatter3d",
         "x": [
          2.8495877848428752,
          2.8473281557387793
         ],
         "y": [
          16.876286442855623,
          16.89765672057032
         ],
         "z": [
          19.823688668067188,
          19.875906059465233
         ]
        },
        {
         "line": {
          "color": "#636EFA",
          "width": 4
         },
         "marker": {
          "size": 6
         },
         "mode": "lines+markers",
         "showlegend": false,
         "type": "scatter3d",
         "x": [
          2.8473281557387793,
          2.8473281557387793
         ],
         "y": [
          16.89765672057032,
          16.89765672057032
         ],
         "z": [
          19.875906059465233,
          19.875906059465233
         ]
        },
        {
         "line": {
          "color": "#636EFA",
          "width": 4
         },
         "marker": {
          "size": 6
         },
         "mode": "lines+markers",
         "showlegend": false,
         "type": "scatter3d",
         "x": [
          2.8473281557387793,
          2.8419581770369176
         ],
         "y": [
          16.89765672057032,
          16.948442903122487
         ],
         "z": [
          19.875906059465233,
          20
         ]
        },
        {
         "line": {
          "color": "#636EFA",
          "width": 4
         },
         "marker": {
          "size": 6
         },
         "mode": "lines+markers",
         "showlegend": false,
         "type": "scatter3d",
         "x": [
          2.8419581770369176,
          2.817374295715107
         ],
         "y": [
          16.948442903122487,
          16.9721618630618
         ],
         "z": [
          20,
          20.219205194607333
         ]
        },
        {
         "line": {
          "color": "#636EFA",
          "width": 4
         },
         "marker": {
          "size": 6
         },
         "mode": "lines+markers",
         "showlegend": false,
         "type": "scatter3d",
         "x": [
          2.817374295715107,
          2.817374295715107
         ],
         "y": [
          16.9721618630618,
          16.9721618630618
         ],
         "z": [
          20.219205194607333,
          20.219205194607333
         ]
        },
        {
         "line": {
          "color": "#636EFA",
          "width": 4
         },
         "marker": {
          "size": 6
         },
         "mode": "lines+markers",
         "showlegend": false,
         "type": "scatter3d",
         "x": [
          2.817374295715107,
          2.801963936224199
         ],
         "y": [
          16.9721618630618,
          16.98703004822063
         ],
         "z": [
          20.219205194607333,
          20.35661355608427
         ]
        },
        {
         "line": {
          "color": "#636EFA",
          "width": 4
         },
         "marker": {
          "size": 6
         },
         "mode": "lines+markers",
         "showlegend": false,
         "type": "scatter3d",
         "x": [
          2.801963936224199,
          2.801963936224199
         ],
         "y": [
          16.98703004822063,
          16.98703004822063
         ],
         "z": [
          20.35661355608427,
          20.35661355608427
         ]
        },
        {
         "line": {
          "color": "#636EFA",
          "width": 4
         },
         "marker": {
          "size": 6
         },
         "mode": "lines+markers",
         "showlegend": false,
         "type": "scatter3d",
         "x": [
          2.801963936224199,
          2.8062922423079772
         ],
         "y": [
          16.98703004822063,
          16.99836947080686
         ],
         "z": [
          20.35661355608427,
          20.461409902176587
         ]
        },
        {
         "line": {
          "color": "#636EFA",
          "width": 4
         },
         "marker": {
          "size": 6
         },
         "mode": "lines+markers",
         "showlegend": false,
         "type": "scatter3d",
         "x": [
          2.8062922423079772,
          2.8062922423079772
         ],
         "y": [
          16.99836947080686,
          16.99836947080686
         ],
         "z": [
          20.461409902176587,
          20.461409902176587
         ]
        },
        {
         "line": {
          "color": "#636EFA",
          "width": 4
         },
         "marker": {
          "size": 6
         },
         "mode": "lines+markers",
         "showlegend": false,
         "type": "scatter3d",
         "x": [
          2.8062922423079772,
          2.9408465858029427
         ],
         "y": [
          16.99836947080686,
          17.05587180312646
         ],
         "z": [
          20.461409902176587,
          20.992833285779554
         ]
        },
        {
         "line": {
          "color": "#636EFA",
          "width": 4
         },
         "marker": {
          "size": 6
         },
         "mode": "lines+markers",
         "showlegend": false,
         "type": "scatter3d",
         "x": [
          2.9408465858029427,
          2.9408465858029427
         ],
         "y": [
          17.05587180312646,
          17.05587180312646
         ],
         "z": [
          20.992833285779554,
          20.992833285779554
         ]
        },
        {
         "line": {
          "color": "#636EFA",
          "width": 4
         },
         "marker": {
          "size": 6
         },
         "mode": "lines+markers",
         "showlegend": false,
         "type": "scatter3d",
         "x": [
          2.9408465858029427,
          2.9451286964985077
         ],
         "y": [
          17.05587180312646,
          17.05664727292222
         ],
         "z": [
          20.992833285779554,
          21
         ]
        },
        {
         "line": {
          "color": "#636EFA",
          "width": 4
         },
         "marker": {
          "size": 6
         },
         "mode": "lines+markers",
         "showlegend": false,
         "type": "scatter3d",
         "x": [
          2.9451286964985077,
          2.939647210785266
         ],
         "y": [
          17.05664727292222,
          17.069069742790006
         ],
         "z": [
          21,
          21.014024582814603
         ]
        },
        {
         "line": {
          "color": "#636EFA",
          "width": 4
         },
         "marker": {
          "size": 6
         },
         "mode": "lines+markers",
         "showlegend": false,
         "type": "scatter3d",
         "x": [
          2.939647210785266,
          2.939647210785266
         ],
         "y": [
          17.069069742790006,
          17.069069742790006
         ],
         "z": [
          21.014024582814603,
          21.014024582814603
         ]
        },
        {
         "line": {
          "color": "#636EFA",
          "width": 4
         },
         "marker": {
          "size": 6
         },
         "mode": "lines+markers",
         "showlegend": false,
         "type": "scatter3d",
         "x": [
          2.939647210785266,
          2.8247570661298367
         ],
         "y": [
          17.069069742790006,
          17.54260611507427
         ],
         "z": [
          21.014024582814603,
          21.54863244578477
         ]
        },
        {
         "line": {
          "color": "#636EFA",
          "width": 4
         },
         "marker": {
          "size": 6
         },
         "mode": "lines+markers",
         "showlegend": false,
         "type": "scatter3d",
         "x": [
          2.8247570661298367,
          2.8247570661298367
         ],
         "y": [
          17.54260611507427,
          17.54260611507427
         ],
         "z": [
          21.54863244578477,
          21.54863244578477
         ]
        },
        {
         "line": {
          "color": "#636EFA",
          "width": 4
         },
         "marker": {
          "size": 6
         },
         "mode": "lines+markers",
         "showlegend": false,
         "type": "scatter3d",
         "x": [
          2.8247570661298367,
          2.818137808350306
         ],
         "y": [
          17.54260611507427,
          17.569888344768856
         ],
         "z": [
          21.54863244578477,
          21.579433236109963
         ]
        },
        {
         "line": {
          "color": "#636EFA",
          "width": 4
         },
         "marker": {
          "size": 6
         },
         "mode": "lines+markers",
         "showlegend": false,
         "type": "scatter3d",
         "x": [
          2.818137808350306,
          2.818137808350306
         ],
         "y": [
          17.569888344768856,
          17.569888344768856
         ],
         "z": [
          21.579433236109963,
          21.579433236109963
         ]
        },
        {
         "line": {
          "color": "#636EFA",
          "width": 4
         },
         "marker": {
          "size": 6
         },
         "mode": "lines+markers",
         "showlegend": false,
         "type": "scatter3d",
         "x": [
          2.818137808350306,
          2.9036171805587223
         ],
         "y": [
          17.569888344768856,
          17.828011713263695
         ],
         "z": [
          21.579433236109963,
          21.870846505481484
         ]
        },
        {
         "line": {
          "color": "#636EFA",
          "width": 4
         },
         "marker": {
          "size": 6
         },
         "mode": "lines+markers",
         "showlegend": false,
         "type": "scatter3d",
         "x": [
          2.9036171805587223,
          2.9036171805587223
         ],
         "y": [
          17.828011713263695,
          17.828011713263695
         ],
         "z": [
          21.870846505481484,
          21.870846505481484
         ]
        },
        {
         "line": {
          "color": "#636EFA",
          "width": 4
         },
         "marker": {
          "size": 6
         },
         "mode": "lines+markers",
         "showlegend": false,
         "type": "scatter3d",
         "x": [
          2.9036171805587223,
          2.9415013841633666
         ],
         "y": [
          17.828011713263695,
          17.94241122269543
         ],
         "z": [
          21.870846505481484,
          22
         ]
        },
        {
         "line": {
          "color": "#636EFA",
          "width": 4
         },
         "marker": {
          "size": 6
         },
         "mode": "lines+markers",
         "showlegend": false,
         "type": "scatter3d",
         "x": [
          2.9415013841633666,
          2.9298592626072932
         ],
         "y": [
          17.94241122269543,
          17.956487517612914
         ],
         "z": [
          22,
          22.02822230698425
         ]
        },
        {
         "line": {
          "color": "#636EFA",
          "width": 4
         },
         "marker": {
          "size": 6
         },
         "mode": "lines+markers",
         "showlegend": false,
         "type": "scatter3d",
         "x": [
          2.9298592626072932,
          2.9298592626072932
         ],
         "y": [
          17.956487517612914,
          17.956487517612914
         ],
         "z": [
          22.02822230698425,
          22.02822230698425
         ]
        },
        {
         "line": {
          "color": "#636EFA",
          "width": 4
         },
         "marker": {
          "size": 6
         },
         "mode": "lines+markers",
         "showlegend": false,
         "type": "scatter3d",
         "x": [
          2.9298592626072932,
          2.803791525587449
         ],
         "y": [
          17.956487517612914,
          18.108913914925775
         ],
         "z": [
          22.02822230698425,
          22.333830039891637
         ]
        },
        {
         "line": {
          "color": "#636EFA",
          "width": 4
         },
         "marker": {
          "size": 6
         },
         "mode": "lines+markers",
         "showlegend": false,
         "type": "scatter3d",
         "x": [
          2.803791525587449,
          2.803791525587449
         ],
         "y": [
          18.108913914925775,
          18.108913914925775
         ],
         "z": [
          22.333830039891637,
          22.333830039891637
         ]
        },
        {
         "line": {
          "color": "#636EFA",
          "width": 4
         },
         "marker": {
          "size": 6
         },
         "mode": "lines+markers",
         "showlegend": false,
         "type": "scatter3d",
         "x": [
          2.803791525587449,
          2.808076929212686
         ],
         "y": [
          18.108913914925775,
          18.159889769560465
         ],
         "z": [
          22.333830039891637,
          22.436034222648434
         ]
        },
        {
         "line": {
          "color": "#636EFA",
          "width": 4
         },
         "marker": {
          "size": 6
         },
         "mode": "lines+markers",
         "showlegend": false,
         "type": "scatter3d",
         "x": [
          2.808076929212686,
          2.808076929212686
         ],
         "y": [
          18.159889769560465,
          18.159889769560465
         ],
         "z": [
          22.436034222648434,
          22.436034222648434
         ]
        },
        {
         "line": {
          "color": "#636EFA",
          "width": 4
         },
         "marker": {
          "size": 6
         },
         "mode": "lines+markers",
         "showlegend": false,
         "type": "scatter3d",
         "x": [
          2.808076929212686,
          2.8173311013619933
         ],
         "y": [
          18.159889769560465,
          18.269970260338358
         ],
         "z": [
          22.436034222648434,
          22.656740411451896
         ]
        },
        {
         "line": {
          "color": "#636EFA",
          "width": 4
         },
         "marker": {
          "size": 6
         },
         "mode": "lines+markers",
         "showlegend": false,
         "type": "scatter3d",
         "x": [
          2.8173311013619933,
          2.8173311013619933
         ],
         "y": [
          18.269970260338358,
          18.269970260338358
         ],
         "z": [
          22.656740411451896,
          22.656740411451896
         ]
        },
        {
         "line": {
          "color": "#636EFA",
          "width": 4
         },
         "marker": {
          "size": 6
         },
         "mode": "lines+markers",
         "showlegend": false,
         "type": "scatter3d",
         "x": [
          2.8173311013619933,
          2.831031314239324
         ],
         "y": [
          18.269970260338358,
          18.284576918886916
         ],
         "z": [
          22.656740411451896,
          22.686026072486154
         ]
        },
        {
         "line": {
          "color": "#636EFA",
          "width": 4
         },
         "marker": {
          "size": 6
         },
         "mode": "lines+markers",
         "showlegend": false,
         "type": "scatter3d",
         "x": [
          2.831031314239324,
          2.831031314239324
         ],
         "y": [
          18.284576918886916,
          18.284576918886916
         ],
         "z": [
          22.686026072486154,
          22.686026072486154
         ]
        },
        {
         "line": {
          "color": "#636EFA",
          "width": 4
         },
         "marker": {
          "size": 6
         },
         "mode": "lines+markers",
         "showlegend": false,
         "type": "scatter3d",
         "x": [
          2.831031314239324,
          2.9134489853192016
         ],
         "y": [
          18.284576918886916,
          18.372447581234304
         ],
         "z": [
          22.686026072486154,
          22.86220260347072
         ]
        },
        {
         "line": {
          "color": "#636EFA",
          "width": 4
         },
         "marker": {
          "size": 6
         },
         "mode": "lines+markers",
         "showlegend": false,
         "type": "scatter3d",
         "x": [
          2.9134489853192016,
          2.9134489853192016
         ],
         "y": [
          18.372447581234304,
          18.372447581234304
         ],
         "z": [
          22.86220260347072,
          22.86220260347072
         ]
        },
        {
         "line": {
          "color": "#636EFA",
          "width": 4
         },
         "marker": {
          "size": 6
         },
         "mode": "lines+markers",
         "showlegend": false,
         "type": "scatter3d",
         "x": [
          2.9134489853192016,
          2.9779123984613785
         ],
         "y": [
          18.372447581234304,
          18.44117608005935
         ],
         "z": [
          22.86220260347072,
          23
         ]
        },
        {
         "line": {
          "color": "#EF553B",
          "width": 4
         },
         "marker": {
          "size": 6
         },
         "mode": "lines+markers",
         "showlegend": false,
         "type": "scatter3d",
         "x": [
          2.7640367056198807,
          2.7640367056198807
         ],
         "y": [
          5.226294934201571,
          5.397327153339799
         ],
         "z": [
          0,
          0.7561647760274006
         ]
        },
        {
         "line": {
          "color": "#EF553B",
          "width": 4
         },
         "marker": {
          "size": 6
         },
         "mode": "lines+markers",
         "showlegend": false,
         "type": "scatter3d",
         "x": [
          2.7640367056198807,
          2.7640367056198807
         ],
         "y": [
          5.397327153339799,
          5.3973270366113635
         ],
         "z": [
          0.7561647760274006,
          1
         ]
        },
        {
         "line": {
          "color": "#EF553B",
          "width": 4
         },
         "marker": {
          "size": 6
         },
         "mode": "lines+markers",
         "showlegend": false,
         "type": "scatter3d",
         "x": [
          2.7640367056198807,
          2.7640372110886458
         ],
         "y": [
          5.3973270366113635,
          5.621741405184542
         ],
         "z": [
          1,
          1.5938423730247782
         ]
        },
        {
         "line": {
          "color": "#EF553B",
          "width": 4
         },
         "marker": {
          "size": 6
         },
         "mode": "lines+markers",
         "showlegend": false,
         "type": "scatter3d",
         "x": [
          2.7640372110886458,
          2.7640373183479863
         ],
         "y": [
          5.621741405184542,
          5.706336225176694
         ],
         "z": [
          1.5938423730247782,
          1.7198543956449113
         ]
        },
        {
         "line": {
          "color": "#EF553B",
          "width": 4
         },
         "marker": {
          "size": 6
         },
         "mode": "lines+markers",
         "showlegend": false,
         "type": "scatter3d",
         "x": [
          2.7640373183479863,
          2.7640373605739734
         ],
         "y": [
          5.706336225176694,
          5.714285239674402
         ],
         "z": [
          1.7198543956449113,
          1.7694629608125934
         ]
        },
        {
         "line": {
          "color": "#EF553B",
          "width": 4
         },
         "marker": {
          "size": 6
         },
         "mode": "lines+markers",
         "showlegend": false,
         "type": "scatter3d",
         "x": [
          2.7640373605739734,
          2.764037556803272
         ],
         "y": [
          5.714285239674402,
          5.732813239699597
         ],
         "z": [
          1.7694629608125934,
          2
         ]
        },
        {
         "line": {
          "color": "#EF553B",
          "width": 4
         },
         "marker": {
          "size": 6
         },
         "mode": "lines+markers",
         "showlegend": false,
         "type": "scatter3d",
         "x": [
          2.764037556803272,
          2.764037556803272
         ],
         "y": [
          5.732813239699597,
          5.845183549529105
         ],
         "z": [
          2,
          2.151714828329356
         ]
        },
        {
         "line": {
          "color": "#EF553B",
          "width": 4
         },
         "marker": {
          "size": 6
         },
         "mode": "lines+markers",
         "showlegend": false,
         "type": "scatter3d",
         "x": [
          2.764037556803272,
          2.7640375568032716
         ],
         "y": [
          5.845183549529105,
          6.236319769138366
         ],
         "z": [
          2.151714828329356,
          3
         ]
        },
        {
         "line": {
          "color": "#EF553B",
          "width": 4
         },
         "marker": {
          "size": 6
         },
         "mode": "lines+markers",
         "showlegend": false,
         "type": "scatter3d",
         "x": [
          2.7640375568032716,
          2.764037556803272
         ],
         "y": [
          6.236319769138366,
          6.741454976184945
         ],
         "z": [
          3,
          3.792777927484072
         ]
        },
        {
         "line": {
          "color": "#EF553B",
          "width": 4
         },
         "marker": {
          "size": 6
         },
         "mode": "lines+markers",
         "showlegend": false,
         "type": "scatter3d",
         "x": [
          2.764037556803272,
          2.7640375568032716
         ],
         "y": [
          6.741454976184945,
          6.790788727628699
         ],
         "z": [
          3.792777927484072,
          4
         ]
        },
        {
         "line": {
          "color": "#EF553B",
          "width": 4
         },
         "marker": {
          "size": 6
         },
         "mode": "lines+markers",
         "showlegend": false,
         "type": "scatter3d",
         "x": [
          2.7640375568032716,
          2.7640375568032716
         ],
         "y": [
          6.790788727628699,
          7.4657236012947195
         ],
         "z": [
          4,
          5
         ]
        },
        {
         "line": {
          "color": "#EF553B",
          "width": 4
         },
         "marker": {
          "size": 6
         },
         "mode": "lines+markers",
         "showlegend": false,
         "type": "scatter3d",
         "x": [
          2.7640375568032716,
          2.7640367056198802
         ],
         "y": [
          7.4657236012947195,
          7.565431315444546
         ],
         "z": [
          5,
          6
         ]
        },
        {
         "line": {
          "color": "#EF553B",
          "width": 4
         },
         "marker": {
          "size": 6
         },
         "mode": "lines+markers",
         "showlegend": false,
         "type": "scatter3d",
         "x": [
          2.7640367056198802,
          2.76403670561988
         ],
         "y": [
          7.565431315444546,
          8.319080049457993
         ],
         "z": [
          6,
          7
         ]
        },
        {
         "line": {
          "color": "#EF553B",
          "width": 4
         },
         "marker": {
          "size": 6
         },
         "mode": "lines+markers",
         "showlegend": false,
         "type": "scatter3d",
         "x": [
          2.76403670561988,
          2.76403670561988
         ],
         "y": [
          8.319080049457993,
          8.86469241869282
         ],
         "z": [
          7,
          8
         ]
        },
        {
         "line": {
          "color": "#EF553B",
          "width": 4
         },
         "marker": {
          "size": 6
         },
         "mode": "lines+markers",
         "showlegend": false,
         "type": "scatter3d",
         "x": [
          2.76403670561988,
          2.764037556803272
         ],
         "y": [
          8.86469241869282,
          9.203502523235706
         ],
         "z": [
          8,
          9
         ]
        },
        {
         "line": {
          "color": "#EF553B",
          "width": 4
         },
         "marker": {
          "size": 6
         },
         "mode": "lines+markers",
         "showlegend": false,
         "type": "scatter3d",
         "x": [
          2.764037556803272,
          2.764037556803272
         ],
         "y": [
          9.203502523235706,
          9.876579270487987
         ],
         "z": [
          9,
          10
         ]
        },
        {
         "line": {
          "color": "#EF553B",
          "width": 4
         },
         "marker": {
          "size": 6
         },
         "mode": "lines+markers",
         "showlegend": false,
         "type": "scatter3d",
         "x": [
          2.764037556803272,
          2.764037556803272
         ],
         "y": [
          9.876579270487987,
          10.310523266069865
         ],
         "z": [
          10,
          11
         ]
        },
        {
         "line": {
          "color": "#EF553B",
          "width": 4
         },
         "marker": {
          "size": 6
         },
         "mode": "lines+markers",
         "showlegend": false,
         "type": "scatter3d",
         "x": [
          2.764037556803272,
          2.764036096011049
         ],
         "y": [
          10.310523266069865,
          10.410978541611783
         ],
         "z": [
          11,
          12
         ]
        },
        {
         "line": {
          "color": "#EF553B",
          "width": 4
         },
         "marker": {
          "size": 6
         },
         "mode": "lines+markers",
         "showlegend": false,
         "type": "scatter3d",
         "x": [
          2.764036096011049,
          2.7640361890664535
         ],
         "y": [
          10.410978541611783,
          11.017593072996434
         ],
         "z": [
          12,
          13
         ]
        },
        {
         "line": {
          "color": "#EF553B",
          "width": 4
         },
         "marker": {
          "size": 6
         },
         "mode": "lines+markers",
         "showlegend": false,
         "type": "scatter3d",
         "x": [
          2.7640361890664535,
          2.7640375568032716
         ],
         "y": [
          11.017593072996434,
          11.7282276212221
         ],
         "z": [
          13,
          14
         ]
        },
        {
         "line": {
          "color": "#EF553B",
          "width": 4
         },
         "marker": {
          "size": 6
         },
         "mode": "lines+markers",
         "showlegend": false,
         "type": "scatter3d",
         "x": [
          2.7640375568032716,
          2.7640367056198802
         ],
         "y": [
          11.7282276212221,
          12.134439940510067
         ],
         "z": [
          14,
          15
         ]
        },
        {
         "line": {
          "color": "#EF553B",
          "width": 4
         },
         "marker": {
          "size": 6
         },
         "mode": "lines+markers",
         "showlegend": false,
         "type": "scatter3d",
         "x": [
          2.7640367056198802,
          2.76403670561988
         ],
         "y": [
          12.134439940510067,
          12.419440050172955
         ],
         "z": [
          15,
          16
         ]
        },
        {
         "line": {
          "color": "#EF553B",
          "width": 4
         },
         "marker": {
          "size": 6
         },
         "mode": "lines+markers",
         "showlegend": false,
         "type": "scatter3d",
         "x": [
          2.76403670561988,
          2.7640367056198802
         ],
         "y": [
          12.419440050172955,
          13.070333369116222
         ],
         "z": [
          16,
          17
         ]
        },
        {
         "line": {
          "color": "#EF553B",
          "width": 4
         },
         "marker": {
          "size": 6
         },
         "mode": "lines+markers",
         "showlegend": false,
         "type": "scatter3d",
         "x": [
          2.7640367056198802,
          2.764037463747914
         ],
         "y": [
          13.070333369116222,
          13.286134460789
         ],
         "z": [
          17,
          18
         ]
        },
        {
         "line": {
          "color": "#EF553B",
          "width": 4
         },
         "marker": {
          "size": 6
         },
         "mode": "lines+markers",
         "showlegend": false,
         "type": "scatter3d",
         "x": [
          2.764037463747914,
          2.764037463747913
         ],
         "y": [
          13.286134460789,
          13.861314126553802
         ],
         "z": [
          18,
          19
         ]
        },
        {
         "line": {
          "color": "#EF553B",
          "width": 4
         },
         "marker": {
          "size": 6
         },
         "mode": "lines+markers",
         "showlegend": false,
         "type": "scatter3d",
         "x": [
          2.764037463747913,
          2.764037556803271
         ],
         "y": [
          13.861314126553802,
          14.283835378619917
         ],
         "z": [
          19,
          20
         ]
        },
        {
         "line": {
          "color": "#EF553B",
          "width": 4
         },
         "marker": {
          "size": 6
         },
         "mode": "lines+markers",
         "showlegend": false,
         "type": "scatter3d",
         "x": [
          2.764037556803271,
          2.76403670561988
         ],
         "y": [
          14.283835378619917,
          14.603990567670742
         ],
         "z": [
          20,
          21
         ]
        },
        {
         "line": {
          "color": "#EF553B",
          "width": 4
         },
         "marker": {
          "size": 6
         },
         "mode": "lines+markers",
         "showlegend": false,
         "type": "scatter3d",
         "x": [
          2.76403670561988,
          2.76403670561988
         ],
         "y": [
          14.603990567670742,
          15.119234861522788
         ],
         "z": [
          21,
          22
         ]
        },
        {
         "line": {
          "color": "#EF553B",
          "width": 4
         },
         "marker": {
          "size": 6
         },
         "mode": "lines+markers",
         "showlegend": false,
         "type": "scatter3d",
         "x": [
          2.76403670561988,
          2.76403670561988
         ],
         "y": [
          15.119234861522788,
          15.76317814696091
         ],
         "z": [
          22,
          23
         ]
        },
        {
         "line": {
          "color": "#00CC96",
          "width": 4
         },
         "marker": {
          "size": 6
         },
         "mode": "lines+markers",
         "showlegend": false,
         "type": "scatter3d",
         "x": [
          4.324461475972471,
          3.7846338811903584
         ],
         "y": [
          4.324461475972471,
          3.7885867756732194
         ],
         "z": [
          1,
          2
         ]
        },
        {
         "line": {
          "color": "#00CC96",
          "width": 4
         },
         "marker": {
          "size": 6
         },
         "mode": "lines+markers",
         "showlegend": false,
         "type": "scatter3d",
         "x": [
          3.7846338811903584,
          3.333057308819457
         ],
         "y": [
          3.7885867756732194,
          3.505458563495307
         ],
         "z": [
          2,
          2.9826742106825344
         ]
        },
        {
         "line": {
          "color": "#00CC96",
          "width": 4
         },
         "marker": {
          "size": 6
         },
         "mode": "lines+markers",
         "showlegend": false,
         "type": "scatter3d",
         "x": [
          3.333057308819457,
          3.32201790989543
         ],
         "y": [
          3.505458563495307,
          3.5004666549861603
         ],
         "z": [
          2.9826742106825344,
          3
         ]
        },
        {
         "line": {
          "color": "#00CC96",
          "width": 4
         },
         "marker": {
          "size": 6
         },
         "mode": "lines+markers",
         "showlegend": false,
         "type": "scatter3d",
         "x": [
          3.32201790989543,
          3.315743316223626
         ],
         "y": [
          3.5004666549861603,
          3.4940775268390127
         ],
         "z": [
          3,
          3.0188122508147566
         ]
        },
        {
         "line": {
          "color": "#00CC96",
          "width": 4
         },
         "marker": {
          "size": 6
         },
         "mode": "lines+markers",
         "showlegend": false,
         "type": "scatter3d",
         "x": [
          3.315743316223626,
          2.8279658583969853
         ],
         "y": [
          3.4940775268390127,
          3.1608407266450484
         ],
         "z": [
          3.0188122508147566,
          4
         ]
        },
        {
         "line": {
          "color": "#00CC96",
          "width": 4
         },
         "marker": {
          "size": 6
         },
         "mode": "lines+markers",
         "showlegend": false,
         "type": "scatter3d",
         "x": [
          2.8279658583969853,
          2.3770662673055623
         ],
         "y": [
          3.1608407266450484,
          2.8556000922000617
         ],
         "z": [
          4,
          5
         ]
        },
        {
         "line": {
          "color": "#00CC96",
          "width": 4
         },
         "marker": {
          "size": 6
         },
         "mode": "lines+markers",
         "showlegend": false,
         "type": "scatter3d",
         "x": [
          2.3770662673055623,
          2.2077578913404428
         ],
         "y": [
          2.8556000922000617,
          2.5850747999765886
         ],
         "z": [
          5,
          6
         ]
        },
        {
         "line": {
          "color": "#00CC96",
          "width": 4
         },
         "marker": {
          "size": 6
         },
         "mode": "lines+markers",
         "showlegend": false,
         "type": "scatter3d",
         "x": [
          2.2077578913404428,
          1.5851984153770784
         ],
         "y": [
          2.5850747999765886,
          2.3946807808123403
         ],
         "z": [
          6,
          7
         ]
        },
        {
         "line": {
          "color": "#00CC96",
          "width": 4
         },
         "marker": {
          "size": 6
         },
         "mode": "lines+markers",
         "showlegend": false,
         "type": "scatter3d",
         "x": [
          1.5851984153770784,
          1.4287260434558473
         ],
         "y": [
          2.3946807808123403,
          2.2512493170699686
         ],
         "z": [
          7,
          8
         ]
        },
        {
         "line": {
          "color": "#00CC96",
          "width": 4
         },
         "marker": {
          "size": 6
         },
         "mode": "lines+markers",
         "showlegend": false,
         "type": "scatter3d",
         "x": [
          1.4287260434558473,
          1.4748937297483502
         ],
         "y": [
          2.2512493170699686,
          2.5988971214842267
         ],
         "z": [
          8,
          9
         ]
        },
        {
         "line": {
          "color": "#00CC96",
          "width": 4
         },
         "marker": {
          "size": 6
         },
         "mode": "lines+markers",
         "showlegend": false,
         "type": "scatter3d",
         "x": [
          1.4748937297483502,
          0.9792569125403199
         ],
         "y": [
          2.5988971214842267,
          2.398392366185942
         ],
         "z": [
          9,
          10
         ]
        },
        {
         "line": {
          "color": "#00CC96",
          "width": 4
         },
         "marker": {
          "size": 6
         },
         "mode": "lines+markers",
         "showlegend": false,
         "type": "scatter3d",
         "x": [
          0.9792569125403199,
          1.5998660838585834
         ],
         "y": [
          2.398392366185942,
          3.026921445359625
         ],
         "z": [
          10,
          11
         ]
        },
        {
         "line": {
          "color": "#00CC96",
          "width": 4
         },
         "marker": {
          "size": 6
         },
         "mode": "lines+markers",
         "showlegend": false,
         "type": "scatter3d",
         "x": [
          1.5998660838585834,
          1.6927432907520266
         ],
         "y": [
          3.026921445359625,
          3.091899870616932
         ],
         "z": [
          11,
          12
         ]
        },
        {
         "line": {
          "color": "#00CC96",
          "width": 4
         },
         "marker": {
          "size": 6
         },
         "mode": "lines+markers",
         "showlegend": false,
         "type": "scatter3d",
         "x": [
          1.6927432907520266,
          2.130087009654066
         ],
         "y": [
          3.091899870616932,
          3.494657130415658
         ],
         "z": [
          12,
          13
         ]
        },
        {
         "line": {
          "color": "#00CC96",
          "width": 4
         },
         "marker": {
          "size": 6
         },
         "mode": "lines+markers",
         "showlegend": false,
         "type": "scatter3d",
         "x": [
          2.130087009654066,
          2.495566603645954
         ],
         "y": [
          3.494657130415658,
          3.709347053920137
         ],
         "z": [
          13,
          14
         ]
        },
        {
         "line": {
          "color": "#00CC96",
          "width": 4
         },
         "marker": {
          "size": 6
         },
         "mode": "lines+markers",
         "showlegend": false,
         "type": "scatter3d",
         "x": [
          2.495566603645954,
          2.9808395111270247
         ],
         "y": [
          3.709347053920137,
          4.2137279718085745
         ],
         "z": [
          14,
          15
         ]
        },
        {
         "line": {
          "color": "#00CC96",
          "width": 4
         },
         "marker": {
          "size": 6
         },
         "mode": "lines+markers",
         "showlegend": false,
         "type": "scatter3d",
         "x": [
          2.9808395111270247,
          3.449409605674588
         ],
         "y": [
          4.2137279718085745,
          4.543874137370444
         ],
         "z": [
          15,
          15.869887910584449
         ]
        },
        {
         "line": {
          "color": "#00CC96",
          "width": 4
         },
         "marker": {
          "size": 6
         },
         "mode": "lines+markers",
         "showlegend": false,
         "type": "scatter3d",
         "x": [
          3.449409605674588,
          3.4750955676552264
         ],
         "y": [
          4.543874137370444,
          4.593255220715913
         ],
         "z": [
          15.869887910584449,
          16
         ]
        },
        {
         "line": {
          "color": "#00CC96",
          "width": 4
         },
         "marker": {
          "size": 6
         },
         "mode": "lines+markers",
         "showlegend": false,
         "type": "scatter3d",
         "x": [
          3.4750955676552264,
          3.5907361430688405
         ],
         "y": [
          4.593255220715913,
          4.68370963881979
         ],
         "z": [
          16,
          16.174460166413308
         ]
        },
        {
         "line": {
          "color": "#00CC96",
          "width": 4
         },
         "marker": {
          "size": 6
         },
         "mode": "lines+markers",
         "showlegend": false,
         "type": "scatter3d",
         "x": [
          3.5907361430688405,
          3.9278458445506743
         ],
         "y": [
          4.68370963881979,
          5.1117370034833565
         ],
         "z": [
          16.174460166413308,
          17
         ]
        },
        {
         "line": {
          "color": "#00CC96",
          "width": 4
         },
         "marker": {
          "size": 6
         },
         "mode": "lines+markers",
         "showlegend": false,
         "type": "scatter3d",
         "x": [
          3.9278458445506743,
          4.2103096545837335
         ],
         "y": [
          5.1117370034833565,
          5.323256676223494
         ],
         "z": [
          17,
          18
         ]
        },
        {
         "line": {
          "color": "#00CC96",
          "width": 4
         },
         "marker": {
          "size": 6
         },
         "mode": "lines+markers",
         "showlegend": false,
         "type": "scatter3d",
         "x": [
          4.2103096545837335,
          4.806251118808504
         ],
         "y": [
          5.323256676223494,
          5.837793174893831
         ],
         "z": [
          18,
          19
         ]
        },
        {
         "line": {
          "color": "#00CC96",
          "width": 4
         },
         "marker": {
          "size": 6
         },
         "mode": "lines+markers",
         "showlegend": false,
         "type": "scatter3d",
         "x": [
          4.806251118808504,
          4.859141296321238
         ],
         "y": [
          5.837793174893831,
          5.8937153940883205
         ],
         "z": [
          19,
          19.07146574853497
         ]
        },
        {
         "line": {
          "color": "#00CC96",
          "width": 4
         },
         "marker": {
          "size": 6
         },
         "mode": "lines+markers",
         "showlegend": false,
         "type": "scatter3d",
         "x": [
          4.859141296321238,
          5.261314002654755
         ],
         "y": [
          5.8937153940883205,
          6.620296966442668
         ],
         "z": [
          19.07146574853497,
          20
         ]
        },
        {
         "line": {
          "color": "#00CC96",
          "width": 4
         },
         "marker": {
          "size": 6
         },
         "mode": "lines+markers",
         "showlegend": false,
         "type": "scatter3d",
         "x": [
          5.261314002654755,
          5.572894756489575
         ],
         "y": [
          6.620296966442668,
          6.727849855452854
         ],
         "z": [
          20,
          21
         ]
        },
        {
         "line": {
          "color": "#00CC96",
          "width": 4
         },
         "marker": {
          "size": 6
         },
         "mode": "lines+markers",
         "showlegend": false,
         "type": "scatter3d",
         "x": [
          5.572894756489575,
          6.077930533253156
         ],
         "y": [
          6.727849855452854,
          7.37217554322535
         ],
         "z": [
          21,
          22
         ]
        },
        {
         "line": {
          "color": "#00CC96",
          "width": 4
         },
         "marker": {
          "size": 6
         },
         "mode": "lines+markers",
         "showlegend": false,
         "type": "scatter3d",
         "x": [
          6.077930533253156,
          6.770783784879857
         ],
         "y": [
          7.37217554322535,
          7.843912327817287
         ],
         "z": [
          22,
          23
         ]
        },
        {
         "line": {
          "color": "#AB63FA",
          "width": 4
         },
         "marker": {
          "size": 6
         },
         "mode": "lines+markers",
         "showlegend": false,
         "type": "scatter3d",
         "x": [
          4.49574829841507,
          4.351472472441708
         ],
         "y": [
          4.49574829841507,
          4.467258791135329
         ],
         "z": [
          0,
          0.4320086363545871
         ]
        },
        {
         "line": {
          "color": "#AB63FA",
          "width": 4
         },
         "marker": {
          "size": 6
         },
         "mode": "lines+markers",
         "showlegend": false,
         "type": "scatter3d",
         "x": [
          4.351472472441708,
          4.400774660817342
         ],
         "y": [
          4.467258791135329,
          4.443682434776842
         ],
         "z": [
          0.4320086363545871,
          0.7895153303324752
         ]
        },
        {
         "line": {
          "color": "#AB63FA",
          "width": 4
         },
         "marker": {
          "size": 6
         },
         "mode": "lines+markers",
         "showlegend": false,
         "type": "scatter3d",
         "x": [
          4.400774660817342,
          4.405160992621333
         ],
         "y": [
          4.443682434776842,
          4.436348819623477
         ],
         "z": [
          0.7895153303324752,
          0.9007206611528902
         ]
        },
        {
         "line": {
          "color": "#AB63FA",
          "width": 4
         },
         "marker": {
          "size": 6
         },
         "mode": "lines+markers",
         "showlegend": false,
         "type": "scatter3d",
         "x": [
          4.405160992621333,
          4.409076921095729
         ],
         "y": [
          4.436348819623477,
          4.409076921095729
         ],
         "z": [
          0.9007206611528902,
          1
         ]
        },
        {
         "line": {
          "color": "#AB63FA",
          "width": 4
         },
         "marker": {
          "size": 6
         },
         "mode": "lines+markers",
         "showlegend": false,
         "type": "scatter3d",
         "x": [
          3.9591836240656986,
          3.3330573088194564
         ],
         "y": [
          3.9591836240656986,
          3.3360815208899326
         ],
         "z": [
          2,
          2.9826742106825344
         ]
        },
        {
         "line": {
          "color": "#AB63FA",
          "width": 4
         },
         "marker": {
          "size": 6
         },
         "mode": "lines+markers",
         "showlegend": false,
         "type": "scatter3d",
         "x": [
          3.3330573088194564,
          3.3250954426500297
         ],
         "y": [
          3.3360815208899326,
          3.3250954426500297
         ],
         "z": [
          2.9826742106825344,
          3
         ]
        },
        {
         "line": {
          "color": "#AB63FA",
          "width": 4
         },
         "marker": {
          "size": 6
         },
         "mode": "lines+markers",
         "showlegend": false,
         "type": "scatter3d",
         "x": [
          3.3250954426500297,
          3.315743316223626
         ],
         "y": [
          3.3250954426500297,
          3.3187629536601553
         ],
         "z": [
          3,
          3.0188122508147566
         ]
        },
        {
         "line": {
          "color": "#AB63FA",
          "width": 4
         },
         "marker": {
          "size": 6
         },
         "mode": "lines+markers",
         "showlegend": false,
         "type": "scatter3d",
         "x": [
          3.315743316223626,
          2.988480273512107
         ],
         "y": [
          3.3187629536601553,
          2.988480273512107
         ],
         "z": [
          3.0188122508147566,
          4
         ]
        },
        {
         "line": {
          "color": "#AB63FA",
          "width": 4
         },
         "marker": {
          "size": 6
         },
         "mode": "lines+markers",
         "showlegend": false,
         "type": "scatter3d",
         "x": [
          2.988480273512107,
          2.59597241864489
         ],
         "y": [
          2.988480273512107,
          2.758894223266452
         ],
         "z": [
          4,
          5
         ]
        },
        {
         "line": {
          "color": "#AB63FA",
          "width": 4
         },
         "marker": {
          "size": 6
         },
         "mode": "lines+markers",
         "showlegend": false,
         "type": "scatter3d",
         "x": [
          2.59597241864489,
          2.260695414864417
         ],
         "y": [
          2.758894223266452,
          2.5823247536049756
         ],
         "z": [
          5,
          6
         ]
        },
        {
         "line": {
          "color": "#AB63FA",
          "width": 4
         },
         "marker": {
          "size": 6
         },
         "mode": "lines+markers",
         "showlegend": false,
         "type": "scatter3d",
         "x": [
          2.260695414864417,
          2.0480743870968405
         ],
         "y": [
          2.5823247536049756,
          2.634991853921396
         ],
         "z": [
          6,
          6.564837581743843
         ]
        },
        {
         "line": {
          "color": "#AB63FA",
          "width": 4
         },
         "marker": {
          "size": 6
         },
         "mode": "lines+markers",
         "showlegend": false,
         "type": "scatter3d",
         "x": [
          2.0480743870968405,
          1.9185638574860646
         ],
         "y": [
          2.634991853921396,
          2.6670721430943924
         ],
         "z": [
          6.564837581743843,
          6.9088882860593195
         ]
        },
        {
         "line": {
          "color": "#AB63FA",
          "width": 4
         },
         "marker": {
          "size": 6
         },
         "mode": "lines+markers",
         "showlegend": false,
         "type": "scatter3d",
         "x": [
          1.9185638574860646,
          1.884266801330693
         ],
         "y": [
          2.6670721430943924,
          2.675567664520747
         ],
         "z": [
          6.9088882860593195,
          7
         ]
        },
        {
         "line": {
          "color": "#AB63FA",
          "width": 4
         },
         "marker": {
          "size": 6
         },
         "mode": "lines+markers",
         "showlegend": false,
         "type": "scatter3d",
         "x": [
          1.884266801330693,
          1.4081231743004587
         ],
         "y": [
          2.675567664520747,
          2.3733515220836967
         ],
         "z": [
          7,
          8
         ]
        },
        {
         "line": {
          "color": "#AB63FA",
          "width": 4
         },
         "marker": {
          "size": 6
         },
         "mode": "lines+markers",
         "showlegend": false,
         "type": "scatter3d",
         "x": [
          1.4081231743004587,
          1.3538755005172731
         ],
         "y": [
          2.3733515220836967,
          2.488943799200772
         ],
         "z": [
          8,
          8.462476884854333
         ]
        },
        {
         "line": {
          "color": "#AB63FA",
          "width": 4
         },
         "marker": {
          "size": 6
         },
         "mode": "lines+markers",
         "showlegend": false,
         "type": "scatter3d",
         "x": [
          1.3538755005172731,
          1.3538755005172731
         ],
         "y": [
          2.488943799200772,
          2.488943799200772
         ],
         "z": [
          8.462476884854333,
          8.462476884854333
         ]
        },
        {
         "line": {
          "color": "#AB63FA",
          "width": 4
         },
         "marker": {
          "size": 6
         },
         "mode": "lines+markers",
         "showlegend": false,
         "type": "scatter3d",
         "x": [
          1.3538755005172731,
          1.3317735732503602
         ],
         "y": [
          2.488943799200772,
          2.536039129254359
         ],
         "z": [
          8.462476884854333,
          8.650902115999399
         ]
        },
        {
         "line": {
          "color": "#AB63FA",
          "width": 4
         },
         "marker": {
          "size": 6
         },
         "mode": "lines+markers",
         "showlegend": false,
         "type": "scatter3d",
         "x": [
          1.3317735732503602,
          1.3317735732503602
         ],
         "y": [
          2.536039129254359,
          2.536039129254359
         ],
         "z": [
          8.650902115999399,
          8.650902115999399
         ]
        },
        {
         "line": {
          "color": "#AB63FA",
          "width": 4
         },
         "marker": {
          "size": 6
         },
         "mode": "lines+markers",
         "showlegend": false,
         "type": "scatter3d",
         "x": [
          1.3317735732503602,
          1.290825044253868
         ],
         "y": [
          2.536039129254359,
          2.623293261665954
         ],
         "z": [
          8.650902115999399,
          9
         ]
        },
        {
         "line": {
          "color": "#AB63FA",
          "width": 4
         },
         "marker": {
          "size": 6
         },
         "mode": "lines+markers",
         "showlegend": false,
         "type": "scatter3d",
         "x": [
          1.290825044253868,
          1.5863199510565513
         ],
         "y": [
          2.623293261665954,
          2.5893899522259156
         ],
         "z": [
          9,
          9.605288177016151
         ]
        },
        {
         "line": {
          "color": "#AB63FA",
          "width": 4
         },
         "marker": {
          "size": 6
         },
         "mode": "lines+markers",
         "showlegend": false,
         "type": "scatter3d",
         "x": [
          1.5863199510565513,
          1.5863199510565513
         ],
         "y": [
          2.5893899522259156,
          2.5893899522259156
         ],
         "z": [
          9.605288177016151,
          9.605288177016151
         ]
        },
        {
         "line": {
          "color": "#AB63FA",
          "width": 4
         },
         "marker": {
          "size": 6
         },
         "mode": "lines+markers",
         "showlegend": false,
         "type": "scatter3d",
         "x": [
          1.5863199510565513,
          1.745814064062033
         ],
         "y": [
          2.5893899522259156,
          2.571090556389966
         ],
         "z": [
          9.605288177016151,
          9.931993980342773
         ]
        },
        {
         "line": {
          "color": "#AB63FA",
          "width": 4
         },
         "marker": {
          "size": 6
         },
         "mode": "lines+markers",
         "showlegend": false,
         "type": "scatter3d",
         "x": [
          1.745814064062033,
          1.745814064062033
         ],
         "y": [
          2.571090556389966,
          2.571090556389966
         ],
         "z": [
          9.931993980342773,
          9.931993980342773
         ]
        },
        {
         "line": {
          "color": "#AB63FA",
          "width": 4
         },
         "marker": {
          "size": 6
         },
         "mode": "lines+markers",
         "showlegend": false,
         "type": "scatter3d",
         "x": [
          1.745814064062033,
          1.7790138409677987
         ],
         "y": [
          2.571090556389966,
          2.5672814135456594
         ],
         "z": [
          9.931993980342773,
          10
         ]
        },
        {
         "line": {
          "color": "#AB63FA",
          "width": 4
         },
         "marker": {
          "size": 6
         },
         "mode": "lines+markers",
         "showlegend": false,
         "type": "scatter3d",
         "x": [
          1.7790138409677987,
          1.7831111715794776
         ],
         "y": [
          2.5672814135456594,
          2.5758990987094426
         ],
         "z": [
          10,
          10.021694378852676
         ]
        },
        {
         "line": {
          "color": "#AB63FA",
          "width": 4
         },
         "marker": {
          "size": 6
         },
         "mode": "lines+markers",
         "showlegend": false,
         "type": "scatter3d",
         "x": [
          1.7831111715794776,
          1.7831111715794776
         ],
         "y": [
          2.5758990987094426,
          2.5758990987094426
         ],
         "z": [
          10.021694378852676,
          10.021694378852676
         ]
        },
        {
         "line": {
          "color": "#AB63FA",
          "width": 4
         },
         "marker": {
          "size": 6
         },
         "mode": "lines+markers",
         "showlegend": false,
         "type": "scatter3d",
         "x": [
          1.7831111715794776,
          1.8027950025950057
         ],
         "y": [
          2.5758990987094426,
          2.617298994052381
         ],
         "z": [
          10.021694378852676,
          10.125915523738009
         ]
        },
        {
         "line": {
          "color": "#AB63FA",
          "width": 4
         },
         "marker": {
          "size": 6
         },
         "mode": "lines+markers",
         "showlegend": false,
         "type": "scatter3d",
         "x": [
          1.8027950025950057,
          1.8027950025950057
         ],
         "y": [
          2.617298994052381,
          2.617298994052381
         ],
         "z": [
          10.125915523738009,
          10.125915523738009
         ]
        },
        {
         "line": {
          "color": "#AB63FA",
          "width": 4
         },
         "marker": {
          "size": 6
         },
         "mode": "lines+markers",
         "showlegend": false,
         "type": "scatter3d",
         "x": [
          1.8027950025950057,
          1.967879843516367
         ],
         "y": [
          2.617298994052381,
          2.9645126605108305
         ],
         "z": [
          10.125915523738009,
          11
         ]
        },
        {
         "line": {
          "color": "#AB63FA",
          "width": 4
         },
         "marker": {
          "size": 6
         },
         "mode": "lines+markers",
         "showlegend": false,
         "type": "scatter3d",
         "x": [
          1.967879843516367,
          1.9389483155187506
         ],
         "y": [
          2.9645126605108305,
          2.442649532064925
         ],
         "z": [
          11,
          12
         ]
        },
        {
         "line": {
          "color": "#AB63FA",
          "width": 4
         },
         "marker": {
          "size": 6
         },
         "mode": "lines+markers",
         "showlegend": false,
         "type": "scatter3d",
         "x": [
          1.9389483155187506,
          2.333288062017633
         ],
         "y": [
          2.442649532064925,
          2.861601074257032
         ],
         "z": [
          12,
          13
         ]
        },
        {
         "line": {
          "color": "#AB63FA",
          "width": 4
         },
         "marker": {
          "size": 6
         },
         "mode": "lines+markers",
         "showlegend": false,
         "type": "scatter3d",
         "x": [
          2.333288062017633,
          2.9456631553132477
         ],
         "y": [
          2.861601074257032,
          2.9456631553132477
         ],
         "z": [
          13,
          14
         ]
        },
        {
         "line": {
          "color": "#AB63FA",
          "width": 4
         },
         "marker": {
          "size": 6
         },
         "mode": "lines+markers",
         "showlegend": false,
         "type": "scatter3d",
         "x": [
          3.2776814603573055,
          3.449409605674588
         ],
         "y": [
          3.2776814603573055,
          3.4880323319151247
         ],
         "z": [
          15,
          15.869887910584449
         ]
        },
        {
         "line": {
          "color": "#AB63FA",
          "width": 4
         },
         "marker": {
          "size": 6
         },
         "mode": "lines+markers",
         "showlegend": false,
         "type": "scatter3d",
         "x": [
          3.449409605674588,
          3.519495226244098
         ],
         "y": [
          3.4880323319151247,
          3.519495226244098
         ],
         "z": [
          15.869887910584449,
          16
         ]
        },
        {
         "line": {
          "color": "#AB63FA",
          "width": 4
         },
         "marker": {
          "size": 6
         },
         "mode": "lines+markers",
         "showlegend": false,
         "type": "scatter3d",
         "x": [
          3.519495226244098,
          3.5907361430688405
         ],
         "y": [
          3.519495226244098,
          3.6273898298316034
         ],
         "z": [
          16,
          16.174460166413308
         ]
        },
        {
         "line": {
          "color": "#AB63FA",
          "width": 4
         },
         "marker": {
          "size": 6
         },
         "mode": "lines+markers",
         "showlegend": false,
         "type": "scatter3d",
         "x": [
          3.5907361430688405,
          4.137943585005238
         ],
         "y": [
          3.6273898298316034,
          4.137943585005238
         ],
         "z": [
          16.174460166413308,
          17
         ]
        },
        {
         "line": {
          "color": "#AB63FA",
          "width": 4
         },
         "marker": {
          "size": 6
         },
         "mode": "lines+markers",
         "showlegend": false,
         "type": "scatter3d",
         "x": [
          4.828187593263854,
          4.859141296321238
         ],
         "y": [
          4.828187593263854,
          4.879510064209418
         ],
         "z": [
          19,
          19.07146574853497
         ]
        },
        {
         "line": {
          "color": "#AB63FA",
          "width": 4
         },
         "marker": {
          "size": 6
         },
         "mode": "lines+markers",
         "showlegend": false,
         "type": "scatter3d",
         "x": [
          4.859141296321238,
          5.546328408936582
         ],
         "y": [
          4.879510064209418,
          5.546328408936582
         ],
         "z": [
          19.07146574853497,
          20
         ]
        },
        {
         "line": {
          "color": "#FFA15A",
          "width": 4
         },
         "marker": {
          "size": 6
         },
         "mode": "lines+markers",
         "showlegend": false,
         "type": "scatter3d",
         "x": [
          2.281951533407535,
          1.8030638087441608
         ],
         "y": [
          2.281951533407535,
          2.2329418699117536
         ],
         "z": [
          7,
          8
         ]
        },
        {
         "line": {
          "color": "#FFA15A",
          "width": 4
         },
         "marker": {
          "size": 6
         },
         "mode": "lines+markers",
         "showlegend": false,
         "type": "scatter3d",
         "x": [
          1.8030638087441608,
          2.1352194268348628
         ],
         "y": [
          2.2329418699117536,
          2.2329419004215043
         ],
         "z": [
          8,
          9
         ]
        },
        {
         "line": {
          "color": "#FFA15A",
          "width": 4
         },
         "marker": {
          "size": 6
         },
         "mode": "lines+markers",
         "showlegend": false,
         "type": "scatter3d",
         "x": [
          2.1352194268348628,
          2.148968432670894
         ],
         "y": [
          2.2329419004215043,
          2.2329420816857297
         ],
         "z": [
          9,
          10
         ]
        },
        {
         "line": {
          "color": "#FFA15A",
          "width": 4
         },
         "marker": {
          "size": 6
         },
         "mode": "lines+markers",
         "showlegend": false,
         "type": "scatter3d",
         "x": [
          2.148968432670894,
          2.328970916100285
         ],
         "y": [
          2.2329420816857297,
          2.328970916100285
         ],
         "z": [
          10,
          11
         ]
        },
        {
         "line": {
          "color": "#19D3F3",
          "width": 4
         },
         "marker": {
          "size": 6
         },
         "mode": "lines+markers",
         "showlegend": false,
         "type": "scatter3d",
         "x": [
          4.81778654547262,
          5.113207664135009
         ],
         "y": [
          4.969152355971891,
          5.223081121783005
         ],
         "z": [
          0,
          1
         ]
        },
        {
         "line": {
          "color": "#19D3F3",
          "width": 4
         },
         "marker": {
          "size": 6
         },
         "mode": "lines+markers",
         "showlegend": false,
         "type": "scatter3d",
         "x": [
          5.113207664135009,
          5.506344155081857
         ],
         "y": [
          5.223081121783005,
          5.621741405184542
         ],
         "z": [
          1,
          1.5938423730247782
         ]
        },
        {
         "line": {
          "color": "#19D3F3",
          "width": 4
         },
         "marker": {
          "size": 6
         },
         "mode": "lines+markers",
         "showlegend": false,
         "type": "scatter3d",
         "x": [
          5.506344155081857,
          5.775229286041811
         ],
         "y": [
          5.621741405184542,
          5.775229286041811
         ],
         "z": [
          1.5938423730247782,
          2
         ]
        },
        {
         "line": {
          "color": "#FF6692",
          "width": 4
         },
         "marker": {
          "size": 6
         },
         "mode": "lines+markers",
         "showlegend": false,
         "type": "scatter3d",
         "x": [
          4.475548524167736,
          4.507316788649572
         ],
         "y": [
          4.5105947274527995,
          4.579630236498934
         ],
         "z": [
          0,
          0.18471173820899053
         ]
        },
        {
         "line": {
          "color": "#FF6692",
          "width": 4
         },
         "marker": {
          "size": 6
         },
         "mode": "lines+markers",
         "showlegend": false,
         "type": "scatter3d",
         "x": [
          4.507316788649572,
          4.647536860100628
         ],
         "y": [
          4.579630236498934,
          4.647536860100628
         ],
         "z": [
          0.18471173820899053,
          1
         ]
        },
        {
         "line": {
          "color": "#B6E880",
          "width": 4
         },
         "marker": {
          "size": 6
         },
         "mode": "lines+markers",
         "showlegend": false,
         "type": "scatter3d",
         "x": [
          4.369633382088822,
          4.400774660817342
         ],
         "y": [
          4.369633382088822,
          4.417137178273764
         ],
         "z": [
          0,
          0.7895153303324752
         ]
        },
        {
         "line": {
          "color": "#B6E880",
          "width": 4
         },
         "marker": {
          "size": 6
         },
         "mode": "lines+markers",
         "showlegend": false,
         "type": "scatter3d",
         "x": [
          4.400774660817342,
          4.429801683272965
         ],
         "y": [
          4.417137178273764,
          4.429801683272965
         ],
         "z": [
          0.7895153303324752,
          1
         ]
        },
        {
         "colorscale": [
          [
           0,
           "slategrey"
          ],
          [
           1,
           "slategrey"
          ]
         ],
         "name": "Diagonal",
         "opacity": 0.2,
         "showscale": false,
         "type": "surface",
         "x": {
          "bdata": "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",
          "dtype": "f8",
          "shape": "24, 101"
         },
         "y": {
          "bdata": "AAAAAAAAAAA05terBp/EPzTm16sGn9Q/TtnDAYru3j805terBp/kP8HfzVbIxuk/TtnDAYru7j9u6VzWJQvyPzTm16sGn/Q/+uJSgecy9z/B381WyMb5P4jcSCypWvw/TtnDAYru/j8Ka59rNcEAQG7pXNYlCwJA0WcaQRZVA0A05terBp8EQJdklRb36AVA+uJSgecyB0BeYRDs13wIQMHfzVbIxglAJF6LwbgQC0CI3EgsqVoMQOtaBpeZpA1ATtnDAYruDkDZq0A2PRwQQAprn2s1wRBAPCr+oC1mEUBu6VzWJQsSQJ+ouwsesBJA0WcaQRZVE0ACJ3l2DvoTQDTm16sGnxRAZqU24f5DFUCXZJUW9+gVQMkj9EvvjRZA+uJSgecyF0AsorG239cXQF5hEOzXfBhAjyBvIdAhGUDB381WyMYZQPOeLIzAaxpAJF6LwbgQG0BWHer2sLUbQIjcSCypWhxAuZunYaH/HEDrWgaXmaQdQBwaZcyRSR5ATtnDAYruHkCAmCI3gpMfQNmrQDY9HCBAcQvwULluIEAKa59rNcEgQKPKToaxEyFAPCr+oC1mIUDVia27qbghQG7pXNYlCyJABkkM8aFdIkCfqLsLHrAiQDgIayaaAiNA0WcaQRZVI0Bqx8lbkqcjQAIneXYO+iNAm4YokYpMJEA05terBp8kQM1Fh8aC8SRAZqU24f5DJUD+BOb7epYlQJdklRb36CVAMMREMXM7JkDJI/RL740mQGKDo2Zr4CZA+uJSgecyJ0CTQgKcY4UnQCyisbbf1ydAxQFh0VsqKEBeYRDs13woQPfAvwZUzyhAjyBvIdAhKUAogB48THQpQMHfzVbIxilAWj99cUQZKkDzniyMwGsqQIv+26Y8vipAJF6LwbgQK0C9vTrcNGMrQFYd6vawtStA73yZES0ILECI3EgsqVosQCA8+EYlrSxAuZunYaH/LEBS+1Z8HVItQOtaBpeZpC1AhLq1sRX3LUAcGmXMkUkuQLV5FOcNnC5ATtnDAYruLkDnOHMcBkEvQICYIjeCky9AGPjRUf7lL0DZq0A2PRwwQAAAAAAAAAAANObXqwafxD805terBp/UP07ZwwGK7t4/NObXqwaf5D/B381WyMbpP07ZwwGK7u4/bulc1iUL8j805terBp/0P/riUoHnMvc/wd/NVsjG+T+I3EgsqVr8P07ZwwGK7v4/CmufazXBAEBu6VzWJQsCQNFnGkEWVQNANObXqwafBECXZJUW9+gFQPriUoHnMgdAXmEQ7Nd8CEDB381WyMYJQCRei8G4EAtAiNxILKlaDEDrWgaXmaQNQE7ZwwGK7g5A2atANj0cEEAKa59rNcEQQDwq/qAtZhFAbulc1iULEkCfqLsLHrASQNFnGkEWVRNAAid5dg76E0A05terBp8UQGalNuH+QxVAl2SVFvfoFUDJI/RL740WQPriUoHnMhdALKKxtt/XF0BeYRDs13wYQI8gbyHQIRlAwd/NVsjGGUDzniyMwGsaQCRei8G4EBtAVh3q9rC1G0CI3EgsqVocQLmbp2Gh/xxA61oGl5mkHUAcGmXMkUkeQE7ZwwGK7h5AgJgiN4KTH0DZq0A2PRwgQHEL8FC5biBACmufazXBIECjyk6GsRMhQDwq/qAtZiFA1Ymtu6m4IUBu6VzWJQsiQAZJDPGhXSJAn6i7Cx6wIkA4CGsmmgIjQNFnGkEWVSNAasfJW5KnI0ACJ3l2DvojQJuGKJGKTCRANObXqwafJEDNRYfGgvEkQGalNuH+QyVA/gTm+3qWJUCXZJUW9+glQDDERDFzOyZAySP0S++NJkBig6Nma+AmQPriUoHnMidAk0ICnGOFJ0AsorG239cnQMUBYdFbKihAXmEQ7Nd8KED3wL8GVM8oQI8gbyHQISlAKIAePEx0KUDB381WyMYpQFo/fXFEGSpA854sjMBrKkCL/tumPL4qQCRei8G4ECtAvb063DRjK0BWHer2sLUrQO98mREtCCxAiNxILKlaLEAgPPhGJa0sQLmbp2Gh/yxAUvtWfB1SLUDrWgaXmaQtQIS6tbEV9y1AHBplzJFJLkC1eRTnDZwuQE7ZwwGK7i5A5zhzHAZBL0CAmCI3gpMvQBj40VH+5S9A2atANj0cMEAAAAAAAAAAADTm16sGn8Q/NObXqwaf1D9O2cMBiu7ePzTm16sGn+Q/wd/NVsjG6T9O2cMBiu7uP27pXNYlC/I/NObXqwaf9D/64lKB5zL3P8HfzVbIxvk/iNxILKla/D9O2cMBiu7+Pwprn2s1wQBAbulc1iULAkDRZxpBFlUDQDTm16sGnwRAl2SVFvfoBUD64lKB5zIHQF5hEOzXfAhAwd/NVsjGCUAkXovBuBALQIjcSCypWgxA61oGl5mkDUBO2cMBiu4OQNmrQDY9HBBACmufazXBEEA8Kv6gLWYRQG7pXNYlCxJAn6i7Cx6wEkDRZxpBFlUTQAIneXYO+hNANObXqwafFEBmpTbh/kMVQJdklRb36BVAySP0S++NFkD64lKB5zIXQCyisbbf1xdAXmEQ7Nd8GECPIG8h0CEZQMHfzVbIxhlA854sjMBrGkAkXovBuBAbQFYd6vawtRtAiNxILKlaHEC5m6dhof8cQOtaBpeZpB1AHBplzJFJHkBO2cMBiu4eQICYIjeCkx9A2atANj0cIEBxC/BQuW4gQAprn2s1wSBAo8pOhrETIUA8Kv6gLWYhQNWJrbupuCFAbulc1iULIkAGSQzxoV0iQJ+ouwsesCJAOAhrJpoCI0DRZxpBFlUjQGrHyVuSpyNAAid5dg76I0CbhiiRikwkQDTm16sGnyRAzUWHxoLxJEBmpTbh/kMlQP4E5vt6liVAl2SVFvfoJUAwxEQxczsmQMkj9EvvjSZAYoOjZmvgJkD64lKB5zInQJNCApxjhSdALKKxtt/XJ0DFAWHRWyooQF5hEOzXfChA98C/BlTPKECPIG8h0CEpQCiAHjxMdClAwd/NVsjGKUBaP31xRBkqQPOeLIzAaypAi/7bpjy+KkAkXovBuBArQL29Otw0YytAVh3q9rC1K0DvfJkRLQgsQIjcSCypWixAIDz4RiWtLEC5m6dhof8sQFL7VnwdUi1A61oGl5mkLUCEurWxFfctQBwaZcyRSS5AtXkU5w2cLkBO2cMBiu4uQOc4cxwGQS9AgJgiN4KTL0AY+NFR/uUvQNmrQDY9HDBAAAAAAAAAAAA05terBp/EPzTm16sGn9Q/TtnDAYru3j805terBp/kP8HfzVbIxuk/TtnDAYru7j9u6VzWJQvyPzTm16sGn/Q/+uJSgecy9z/B381WyMb5P4jcSCypWvw/TtnDAYru/j8Ka59rNcEAQG7pXNYlCwJA0WcaQRZVA0A05terBp8EQJdklRb36AVA+uJSgecyB0BeYRDs13wIQMHfzVbIxglAJF6LwbgQC0CI3EgsqVoMQOtaBpeZpA1ATtnDAYruDkDZq0A2PRwQQAprn2s1wRBAPCr+oC1mEUBu6VzWJQsSQJ+ouwsesBJA0WcaQRZVE0ACJ3l2DvoTQDTm16sGnxRAZqU24f5DFUCXZJUW9+gVQMkj9EvvjRZA+uJSgecyF0AsorG239cXQF5hEOzXfBhAjyBvIdAhGUDB381WyMYZQPOeLIzAaxpAJF6LwbgQG0BWHer2sLUbQIjcSCypWhxAuZunYaH/HEDrWgaXmaQdQBwaZcyRSR5ATtnDAYruHkCAmCI3gpMfQNmrQDY9HCBAcQvwULluIEAKa59rNcEgQKPKToaxEyFAPCr+oC1mIUDVia27qbghQG7pXNYlCyJABkkM8aFdIkCfqLsLHrAiQDgIayaaAiNA0WcaQRZVI0Bqx8lbkqcjQAIneXYO+iNAm4YokYpMJEA05terBp8kQM1Fh8aC8SRAZqU24f5DJUD+BOb7epYlQJdklRb36CVAMMREMXM7JkDJI/RL740mQGKDo2Zr4CZA+uJSgecyJ0CTQgKcY4UnQCyisbbf1ydAxQFh0VsqKEBeYRDs13woQPfAvwZUzyhAjyBvIdAhKUAogB48THQpQMHfzVbIxilAWj99cUQZKkDzniyMwGsqQIv+26Y8vipAJF6LwbgQK0C9vTrcNGMrQFYd6vawtStA73yZES0ILECI3EgsqVosQCA8+EYlrSxAuZunYaH/LEBS+1Z8HVItQOtaBpeZpC1AhLq1sRX3LUAcGmXMkUkuQLV5FOcNnC5ATtnDAYruLkDnOHMcBkEvQICYIjeCky9AGPjRUf7lL0DZq0A2PRwwQAAAAAAAAAAANObXqwafxD805terBp/UP07ZwwGK7t4/NObXqwaf5D/B381WyMbpP07ZwwGK7u4/bulc1iUL8j805terBp/0P/riUoHnMvc/wd/NVsjG+T+I3EgsqVr8P07ZwwGK7v4/CmufazXBAEBu6VzWJQsCQNFnGkEWVQNANObXqwafBECXZJUW9+gFQPriUoHnMgdAXmEQ7Nd8CEDB381WyMYJQCRei8G4EAtAiNxILKlaDEDrWgaXmaQNQE7ZwwGK7g5A2atANj0cEEAKa59rNcEQQDwq/qAtZhFAbulc1iULEkCfqLsLHrASQNFnGkEWVRNAAid5dg76E0A05terBp8UQGalNuH+QxVAl2SVFvfoFUDJI/RL740WQPriUoHnMhdALKKxtt/XF0BeYRDs13wYQI8gbyHQIRlAwd/NVsjGGUDzniyMwGsaQCRei8G4EBtAVh3q9rC1G0CI3EgsqVocQLmbp2Gh/xxA61oGl5mkHUAcGmXMkUkeQE7ZwwGK7h5AgJgiN4KTH0DZq0A2PRwgQHEL8FC5biBACmufazXBIECjyk6GsRMhQDwq/qAtZiFA1Ymtu6m4IUBu6VzWJQsiQAZJDPGhXSJAn6i7Cx6wIkA4CGsmmgIjQNFnGkEWVSNAasfJW5KnI0ACJ3l2DvojQJuGKJGKTCRANObXqwafJEDNRYfGgvEkQGalNuH+QyVA/gTm+3qWJUCXZJUW9+glQDDERDFzOyZAySP0S++NJkBig6Nma+AmQPriUoHnMidAk0ICnGOFJ0AsorG239cnQMUBYdFbKihAXmEQ7Nd8KED3wL8GVM8oQI8gbyHQISlAKIAePEx0KUDB381WyMYpQFo/fXFEGSpA854sjMBrKkCL/tumPL4qQCRei8G4ECtAvb063DRjK0BWHer2sLUrQO98mREtCCxAiNxILKlaLEAgPPhGJa0sQLmbp2Gh/yxAUvtWfB1SLUDrWgaXmaQtQIS6tbEV9y1AHBplzJFJLkC1eRTnDZwuQE7ZwwGK7i5A5zhzHAZBL0CAmCI3gpMvQBj40VH+5S9A2atANj0cMEAAAAAAAAAAADTm16sGn8Q/NObXqwaf1D9O2cMBiu7ePzTm16sGn+Q/wd/NVsjG6T9O2cMBiu7uP27pXNYlC/I/NObXqwaf9D/64lKB5zL3P8HfzVbIxvk/iNxILKla/D9O2cMBiu7+Pwprn2s1wQBAbulc1iULAkDRZxpBFlUDQDTm16sGnwRAl2SVFvfoBUD64lKB5zIHQF5hEOzXfAhAwd/NVsjGCUAkXovBuBALQIjcSCypWgxA61oGl5mkDUBO2cMBiu4OQNmrQDY9HBBACmufazXBEEA8Kv6gLWYRQG7pXNYlCxJAn6i7Cx6wEkDRZxpBFlUTQAIneXYO+hNANObXqwafFEBmpTbh/kMVQJdklRb36BVAySP0S++NFkD64lKB5zIXQCyisbbf1xdAXmEQ7Nd8GECPIG8h0CEZQMHfzVbIxhlA854sjMBrGkAkXovBuBAbQFYd6vawtRtAiNxILKlaHEC5m6dhof8cQOtaBpeZpB1AHBplzJFJHkBO2cMBiu4eQICYIjeCkx9A2atANj0cIEBxC/BQuW4gQAprn2s1wSBAo8pOhrETIUA8Kv6gLWYhQNWJrbupuCFAbulc1iULIkAGSQzxoV0iQJ+ouwsesCJAOAhrJpoCI0DRZxpBFlUjQGrHyVuSpyNAAid5dg76I0CbhiiRikwkQDTm16sGnyRAzUWHxoLxJEBmpTbh/kMlQP4E5vt6liVAl2SVFvfoJUAwxEQxczsmQMkj9EvvjSZAYoOjZmvgJkD64lKB5zInQJNCApxjhSdALKKxtt/XJ0DFAWHRWyooQF5hEOzXfChA98C/BlTPKECPIG8h0CEpQCiAHjxMdClAwd/NVsjGKUBaP31xRBkqQPOeLIzAaypAi/7bpjy+KkAkXovBuBArQL29Otw0YytAVh3q9rC1K0DvfJkRLQgsQIjcSCypWixAIDz4RiWtLEC5m6dhof8sQFL7VnwdUi1A61oGl5mkLUCEurWxFfctQBwaZcyRSS5AtXkU5w2cLkBO2cMBiu4uQOc4cxwGQS9AgJgiN4KTL0AY+NFR/uUvQNmrQDY9HDBAAAAAAAAAAAA05terBp/EPzTm16sGn9Q/TtnDAYru3j805terBp/kP8HfzVbIxuk/TtnDAYru7j9u6VzWJQvyPzTm16sGn/Q/+uJSgecy9z/B381WyMb5P4jcSCypWvw/TtnDAYru/j8Ka59rNcEAQG7pXNYlCwJA0WcaQRZVA0A05terBp8EQJdklRb36AVA+uJSgecyB0BeYRDs13wIQMHfzVbIxglAJF6LwbgQC0CI3EgsqVoMQOtaBpeZpA1ATtnDAYruDkDZq0A2PRwQQAprn2s1wRBAPCr+oC1mEUBu6VzWJQsSQJ+ouwsesBJA0WcaQRZVE0ACJ3l2DvoTQDTm16sGnxRAZqU24f5DFUCXZJUW9+gVQMkj9EvvjRZA+uJSgecyF0AsorG239cXQF5hEOzXfBhAjyBvIdAhGUDB381WyMYZQPOeLIzAaxpAJF6LwbgQG0BWHer2sLUbQIjcSCypWhxAuZunYaH/HEDrWgaXmaQdQBwaZcyRSR5ATtnDAYruHkCAmCI3gpMfQNmrQDY9HCBAcQvwULluIEAKa59rNcEgQKPKToaxEyFAPCr+oC1mIUDVia27qbghQG7pXNYlCyJABkkM8aFdIkCfqLsLHrAiQDgIayaaAiNA0WcaQRZVI0Bqx8lbkqcjQAIneXYO+iNAm4YokYpMJEA05terBp8kQM1Fh8aC8SRAZqU24f5DJUD+BOb7epYlQJdklRb36CVAMMREMXM7JkDJI/RL740mQGKDo2Zr4CZA+uJSgecyJ0CTQgKcY4UnQCyisbbf1ydAxQFh0VsqKEBeYRDs13woQPfAvwZUzyhAjyBvIdAhKUAogB48THQpQMHfzVbIxilAWj99cUQZKkDzniyMwGsqQIv+26Y8vipAJF6LwbgQK0C9vTrcNGMrQFYd6vawtStA73yZES0ILECI3EgsqVosQCA8+EYlrSxAuZunYaH/LEBS+1Z8HVItQOtaBpeZpC1AhLq1sRX3LUAcGmXMkUkuQLV5FOcNnC5ATtnDAYruLkDnOHMcBkEvQICYIjeCky9AGPjRUf7lL0DZq0A2PRwwQAAAAAAAAAAANObXqwafxD805terBp/UP07ZwwGK7t4/NObXqwaf5D/B381WyMbpP07ZwwGK7u4/bulc1iUL8j805terBp/0P/riUoHnMvc/wd/NVsjG+T+I3EgsqVr8P07ZwwGK7v4/CmufazXBAEBu6VzWJQsCQNFnGkEWVQNANObXqwafBECXZJUW9+gFQPriUoHnMgdAXmEQ7Nd8CEDB381WyMYJQCRei8G4EAtAiNxILKlaDEDrWgaXmaQNQE7ZwwGK7g5A2atANj0cEEAKa59rNcEQQDwq/qAtZhFAbulc1iULEkCfqLsLHrASQNFnGkEWVRNAAid5dg76E0A05terBp8UQGalNuH+QxVAl2SVFvfoFUDJI/RL740WQPriUoHnMhdALKKxtt/XF0BeYRDs13wYQI8gbyHQIRlAwd/NVsjGGUDzniyMwGsaQCRei8G4EBtAVh3q9rC1G0CI3EgsqVocQLmbp2Gh/xxA61oGl5mkHUAcGmXMkUkeQE7ZwwGK7h5AgJgiN4KTH0DZq0A2PRwgQHEL8FC5biBACmufazXBIECjyk6GsRMhQDwq/qAtZiFA1Ymtu6m4IUBu6VzWJQsiQAZJDPGhXSJAn6i7Cx6wIkA4CGsmmgIjQNFnGkEWVSNAasfJW5KnI0ACJ3l2DvojQJuGKJGKTCRANObXqwafJEDNRYfGgvEkQGalNuH+QyVA/gTm+3qWJUCXZJUW9+glQDDERDFzOyZAySP0S++NJkBig6Nma+AmQPriUoHnMidAk0ICnGOFJ0AsorG239cnQMUBYdFbKihAXmEQ7Nd8KED3wL8GVM8oQI8gbyHQISlAKIAePEx0KUDB381WyMYpQFo/fXFEGSpA854sjMBrKkCL/tumPL4qQCRei8G4ECtAvb063DRjK0BWHer2sLUrQO98mREtCCxAiNxILKlaLEAgPPhGJa0sQLmbp2Gh/yxAUvtWfB1SLUDrWgaXmaQtQIS6tbEV9y1AHBplzJFJLkC1eRTnDZwuQE7ZwwGK7i5A5zhzHAZBL0CAmCI3gpMvQBj40VH+5S9A2atANj0cMEAAAAAAAAAAADTm16sGn8Q/NObXqwaf1D9O2cMBiu7ePzTm16sGn+Q/wd/NVsjG6T9O2cMBiu7uP27pXNYlC/I/NObXqwaf9D/64lKB5zL3P8HfzVbIxvk/iNxILKla/D9O2cMBiu7+Pwprn2s1wQBAbulc1iULAkDRZxpBFlUDQDTm16sGnwRAl2SVFvfoBUD64lKB5zIHQF5hEOzXfAhAwd/NVsjGCUAkXovBuBALQIjcSCypWgxA61oGl5mkDUBO2cMBiu4OQNmrQDY9HBBACmufazXBEEA8Kv6gLWYRQG7pXNYlCxJAn6i7Cx6wEkDRZxpBFlUTQAIneXYO+hNANObXqwafFEBmpTbh/kMVQJdklRb36BVAySP0S++NFkD64lKB5zIXQCyisbbf1xdAXmEQ7Nd8GECPIG8h0CEZQMHfzVbIxhlA854sjMBrGkAkXovBuBAbQFYd6vawtRtAiNxILKlaHEC5m6dhof8cQOtaBpeZpB1AHBplzJFJHkBO2cMBiu4eQICYIjeCkx9A2atANj0cIEBxC/BQuW4gQAprn2s1wSBAo8pOhrETIUA8Kv6gLWYhQNWJrbupuCFAbulc1iULIkAGSQzxoV0iQJ+ouwsesCJAOAhrJpoCI0DRZxpBFlUjQGrHyVuSpyNAAid5dg76I0CbhiiRikwkQDTm16sGnyRAzUWHxoLxJEBmpTbh/kMlQP4E5vt6liVAl2SVFvfoJUAwxEQxczsmQMkj9EvvjSZAYoOjZmvgJkD64lKB5zInQJNCApxjhSdALKKxtt/XJ0DFAWHRWyooQF5hEOzXfChA98C/BlTPKECPIG8h0CEpQCiAHjxMdClAwd/NVsjGKUBaP31xRBkqQPOeLIzAaypAi/7bpjy+KkAkXovBuBArQL29Otw0YytAVh3q9rC1K0DvfJkRLQgsQIjcSCypWixAIDz4RiWtLEC5m6dhof8sQFL7VnwdUi1A61oGl5mkLUCEurWxFfctQBwaZcyRSS5AtXkU5w2cLkBO2cMBiu4uQOc4cxwGQS9AgJgiN4KTL0AY+NFR/uUvQNmrQDY9HDBAAAAAAAAAAAA05terBp/EPzTm16sGn9Q/TtnDAYru3j805terBp/kP8HfzVbIxuk/TtnDAYru7j9u6VzWJQvyPzTm16sGn/Q/+uJSgecy9z/B381WyMb5P4jcSCypWvw/TtnDAYru/j8Ka59rNcEAQG7pXNYlCwJA0WcaQRZVA0A05terBp8EQJdklRb36AVA+uJSgecyB0BeYRDs13wIQMHfzVbIxglAJF6LwbgQC0CI3EgsqVoMQOtaBpeZpA1ATtnDAYruDkDZq0A2PRwQQAprn2s1wRBAPCr+oC1mEUBu6VzWJQsSQJ+ouwsesBJA0WcaQRZVE0ACJ3l2DvoTQDTm16sGnxRAZqU24f5DFUCXZJUW9+gVQMkj9EvvjRZA+uJSgecyF0AsorG239cXQF5hEOzXfBhAjyBvIdAhGUDB381WyMYZQPOeLIzAaxpAJF6LwbgQG0BWHer2sLUbQIjcSCypWhxAuZunYaH/HEDrWgaXmaQdQBwaZcyRSR5ATtnDAYruHkCAmCI3gpMfQNmrQDY9HCBAcQvwULluIEAKa59rNcEgQKPKToaxEyFAPCr+oC1mIUDVia27qbghQG7pXNYlCyJABkkM8aFdIkCfqLsLHrAiQDgIayaaAiNA0WcaQRZVI0Bqx8lbkqcjQAIneXYO+iNAm4YokYpMJEA05terBp8kQM1Fh8aC8SRAZqU24f5DJUD+BOb7epYlQJdklRb36CVAMMREMXM7JkDJI/RL740mQGKDo2Zr4CZA+uJSgecyJ0CTQgKcY4UnQCyisbbf1ydAxQFh0VsqKEBeYRDs13woQPfAvwZUzyhAjyBvIdAhKUAogB48THQpQMHfzVbIxilAWj99cUQZKkDzniyMwGsqQIv+26Y8vipAJF6LwbgQK0C9vTrcNGMrQFYd6vawtStA73yZES0ILECI3EgsqVosQCA8+EYlrSxAuZunYaH/LEBS+1Z8HVItQOtaBpeZpC1AhLq1sRX3LUAcGmXMkUkuQLV5FOcNnC5ATtnDAYruLkDnOHMcBkEvQICYIjeCky9AGPjRUf7lL0DZq0A2PRwwQAAAAAAAAAAANObXqwafxD805terBp/UP07ZwwGK7t4/NObXqwaf5D/B381WyMbpP07ZwwGK7u4/bulc1iUL8j805terBp/0P/riUoHnMvc/wd/NVsjG+T+I3EgsqVr8P07ZwwGK7v4/CmufazXBAEBu6VzWJQsCQNFnGkEWVQNANObXqwafBECXZJUW9+gFQPriUoHnMgdAXmEQ7Nd8CEDB381WyMYJQCRei8G4EAtAiNxILKlaDEDrWgaXmaQNQE7ZwwGK7g5A2atANj0cEEAKa59rNcEQQDwq/qAtZhFAbulc1iULEkCfqLsLHrASQNFnGkEWVRNAAid5dg76E0A05terBp8UQGalNuH+QxVAl2SVFvfoFUDJI/RL740WQPriUoHnMhdALKKxtt/XF0BeYRDs13wYQI8gbyHQIRlAwd/NVsjGGUDzniyMwGsaQCRei8G4EBtAVh3q9rC1G0CI3EgsqVocQLmbp2Gh/xxA61oGl5mkHUAcGmXMkUkeQE7ZwwGK7h5AgJgiN4KTH0DZq0A2PRwgQHEL8FC5biBACmufazXBIECjyk6GsRMhQDwq/qAtZiFA1Ymtu6m4IUBu6VzWJQsiQAZJDPGhXSJAn6i7Cx6wIkA4CGsmmgIjQNFnGkEWVSNAasfJW5KnI0ACJ3l2DvojQJuGKJGKTCRANObXqwafJEDNRYfGgvEkQGalNuH+QyVA/gTm+3qWJUCXZJUW9+glQDDERDFzOyZAySP0S++NJkBig6Nma+AmQPriUoHnMidAk0ICnGOFJ0AsorG239cnQMUBYdFbKihAXmEQ7Nd8KED3wL8GVM8oQI8gbyHQISlAKIAePEx0KUDB381WyMYpQFo/fXFEGSpA854sjMBrKkCL/tumPL4qQCRei8G4ECtAvb063DRjK0BWHer2sLUrQO98mREtCCxAiNxILKlaLEAgPPhGJa0sQLmbp2Gh/yxAUvtWfB1SLUDrWgaXmaQtQIS6tbEV9y1AHBplzJFJLkC1eRTnDZwuQE7ZwwGK7i5A5zhzHAZBL0CAmCI3gpMvQBj40VH+5S9A2atANj0cMEAAAAAAAAAAADTm16sGn8Q/NObXqwaf1D9O2cMBiu7ePzTm16sGn+Q/wd/NVsjG6T9O2cMBiu7uP27pXNYlC/I/NObXqwaf9D/64lKB5zL3P8HfzVbIxvk/iNxILKla/D9O2cMBiu7+Pwprn2s1wQBAbulc1iULAkDRZxpBFlUDQDTm16sGnwRAl2SVFvfoBUD64lKB5zIHQF5hEOzXfAhAwd/NVsjGCUAkXovBuBALQIjcSCypWgxA61oGl5mkDUBO2cMBiu4OQNmrQDY9HBBACmufazXBEEA8Kv6gLWYRQG7pXNYlCxJAn6i7Cx6wEkDRZxpBFlUTQAIneXYO+hNANObXqwafFEBmpTbh/kMVQJdklRb36BVAySP0S++NFkD64lKB5zIXQCyisbbf1xdAXmEQ7Nd8GECPIG8h0CEZQMHfzVbIxhlA854sjMBrGkAkXovBuBAbQFYd6vawtRtAiNxILKlaHEC5m6dhof8cQOtaBpeZpB1AHBplzJFJHkBO2cMBiu4eQICYIjeCkx9A2atANj0cIEBxC/BQuW4gQAprn2s1wSBAo8pOhrETIUA8Kv6gLWYhQNWJrbupuCFAbulc1iULIkAGSQzxoV0iQJ+ouwsesCJAOAhrJpoCI0DRZxpBFlUjQGrHyVuSpyNAAid5dg76I0CbhiiRikwkQDTm16sGnyRAzUWHxoLxJEBmpTbh/kMlQP4E5vt6liVAl2SVFvfoJUAwxEQxczsmQMkj9EvvjSZAYoOjZmvgJkD64lKB5zInQJNCApxjhSdALKKxtt/XJ0DFAWHRWyooQF5hEOzXfChA98C/BlTPKECPIG8h0CEpQCiAHjxMdClAwd/NVsjGKUBaP31xRBkqQPOeLIzAaypAi/7bpjy+KkAkXovBuBArQL29Otw0YytAVh3q9rC1K0DvfJkRLQgsQIjcSCypWixAIDz4RiWtLEC5m6dhof8sQFL7VnwdUi1A61oGl5mkLUCEurWxFfctQBwaZcyRSS5AtXkU5w2cLkBO2cMBiu4uQOc4cxwGQS9AgJgiN4KTL0AY+NFR/uUvQNmrQDY9HDBAAAAAAAAAAAA05terBp/EPzTm16sGn9Q/TtnDAYru3j805terBp/kP8HfzVbIxuk/TtnDAYru7j9u6VzWJQvyPzTm16sGn/Q/+uJSgecy9z/B381WyMb5P4jcSCypWvw/TtnDAYru/j8Ka59rNcEAQG7pXNYlCwJA0WcaQRZVA0A05terBp8EQJdklRb36AVA+uJSgecyB0BeYRDs13wIQMHfzVbIxglAJF6LwbgQC0CI3EgsqVoMQOtaBpeZpA1ATtnDAYruDkDZq0A2PRwQQAprn2s1wRBAPCr+oC1mEUBu6VzWJQsSQJ+ouwsesBJA0WcaQRZVE0ACJ3l2DvoTQDTm16sGnxRAZqU24f5DFUCXZJUW9+gVQMkj9EvvjRZA+uJSgecyF0AsorG239cXQF5hEOzXfBhAjyBvIdAhGUDB381WyMYZQPOeLIzAaxpAJF6LwbgQG0BWHer2sLUbQIjcSCypWhxAuZunYaH/HEDrWgaXmaQdQBwaZcyRSR5ATtnDAYruHkCAmCI3gpMfQNmrQDY9HCBAcQvwULluIEAKa59rNcEgQKPKToaxEyFAPCr+oC1mIUDVia27qbghQG7pXNYlCyJABkkM8aFdIkCfqLsLHrAiQDgIayaaAiNA0WcaQRZVI0Bqx8lbkqcjQAIneXYO+iNAm4YokYpMJEA05terBp8kQM1Fh8aC8SRAZqU24f5DJUD+BOb7epYlQJdklRb36CVAMMREMXM7JkDJI/RL740mQGKDo2Zr4CZA+uJSgecyJ0CTQgKcY4UnQCyisbbf1ydAxQFh0VsqKEBeYRDs13woQPfAvwZUzyhAjyBvIdAhKUAogB48THQpQMHfzVbIxilAWj99cUQZKkDzniyMwGsqQIv+26Y8vipAJF6LwbgQK0C9vTrcNGMrQFYd6vawtStA73yZES0ILECI3EgsqVosQCA8+EYlrSxAuZunYaH/LEBS+1Z8HVItQOtaBpeZpC1AhLq1sRX3LUAcGmXMkUkuQLV5FOcNnC5ATtnDAYruLkDnOHMcBkEvQICYIjeCky9AGPjRUf7lL0DZq0A2PRwwQAAAAAAAAAAANObXqwafxD805terBp/UP07ZwwGK7t4/NObXqwaf5D/B381WyMbpP07ZwwGK7u4/bulc1iUL8j805terBp/0P/riUoHnMvc/wd/NVsjG+T+I3EgsqVr8P07ZwwGK7v4/CmufazXBAEBu6VzWJQsCQNFnGkEWVQNANObXqwafBECXZJUW9+gFQPriUoHnMgdAXmEQ7Nd8CEDB381WyMYJQCRei8G4EAtAiNxILKlaDEDrWgaXmaQNQE7ZwwGK7g5A2atANj0cEEAKa59rNcEQQDwq/qAtZhFAbulc1iULEkCfqLsLHrASQNFnGkEWVRNAAid5dg76E0A05terBp8UQGalNuH+QxVAl2SVFvfoFUDJI/RL740WQPriUoHnMhdALKKxtt/XF0BeYRDs13wYQI8gbyHQIRlAwd/NVsjGGUDzniyMwGsaQCRei8G4EBtAVh3q9rC1G0CI3EgsqVocQLmbp2Gh/xxA61oGl5mkHUAcGmXMkUkeQE7ZwwGK7h5AgJgiN4KTH0DZq0A2PRwgQHEL8FC5biBACmufazXBIECjyk6GsRMhQDwq/qAtZiFA1Ymtu6m4IUBu6VzWJQsiQAZJDPGhXSJAn6i7Cx6wIkA4CGsmmgIjQNFnGkEWVSNAasfJW5KnI0ACJ3l2DvojQJuGKJGKTCRANObXqwafJEDNRYfGgvEkQGalNuH+QyVA/gTm+3qWJUCXZJUW9+glQDDERDFzOyZAySP0S++NJkBig6Nma+AmQPriUoHnMidAk0ICnGOFJ0AsorG239cnQMUBYdFbKihAXmEQ7Nd8KED3wL8GVM8oQI8gbyHQISlAKIAePEx0KUDB381WyMYpQFo/fXFEGSpA854sjMBrKkCL/tumPL4qQCRei8G4ECtAvb063DRjK0BWHer2sLUrQO98mREtCCxAiNxILKlaLEAgPPhGJa0sQLmbp2Gh/yxAUvtWfB1SLUDrWgaXmaQtQIS6tbEV9y1AHBplzJFJLkC1eRTnDZwuQE7ZwwGK7i5A5zhzHAZBL0CAmCI3gpMvQBj40VH+5S9A2atANj0cMEAAAAAAAAAAADTm16sGn8Q/NObXqwaf1D9O2cMBiu7ePzTm16sGn+Q/wd/NVsjG6T9O2cMBiu7uP27pXNYlC/I/NObXqwaf9D/64lKB5zL3P8HfzVbIxvk/iNxILKla/D9O2cMBiu7+Pwprn2s1wQBAbulc1iULAkDRZxpBFlUDQDTm16sGnwRAl2SVFvfoBUD64lKB5zIHQF5hEOzXfAhAwd/NVsjGCUAkXovBuBALQIjcSCypWgxA61oGl5mkDUBO2cMBiu4OQNmrQDY9HBBACmufazXBEEA8Kv6gLWYRQG7pXNYlCxJAn6i7Cx6wEkDRZxpBFlUTQAIneXYO+hNANObXqwafFEBmpTbh/kMVQJdklRb36BVAySP0S++NFkD64lKB5zIXQCyisbbf1xdAXmEQ7Nd8GECPIG8h0CEZQMHfzVbIxhlA854sjMBrGkAkXovBuBAbQFYd6vawtRtAiNxILKlaHEC5m6dhof8cQOtaBpeZpB1AHBplzJFJHkBO2cMBiu4eQICYIjeCkx9A2atANj0cIEBxC/BQuW4gQAprn2s1wSBAo8pOhrETIUA8Kv6gLWYhQNWJrbupuCFAbulc1iULIkAGSQzxoV0iQJ+ouwsesCJAOAhrJpoCI0DRZxpBFlUjQGrHyVuSpyNAAid5dg76I0CbhiiRikwkQDTm16sGnyRAzUWHxoLxJEBmpTbh/kMlQP4E5vt6liVAl2SVFvfoJUAwxEQxczsmQMkj9EvvjSZAYoOjZmvgJkD64lKB5zInQJNCApxjhSdALKKxtt/XJ0DFAWHRWyooQF5hEOzXfChA98C/BlTPKECPIG8h0CEpQCiAHjxMdClAwd/NVsjGKUBaP31xRBkqQPOeLIzAaypAi/7bpjy+KkAkXovBuBArQL29Otw0YytAVh3q9rC1K0DvfJkRLQgsQIjcSCypWixAIDz4RiWtLEC5m6dhof8sQFL7VnwdUi1A61oGl5mkLUCEurWxFfctQBwaZcyRSS5AtXkU5w2cLkBO2cMBiu4uQOc4cxwGQS9AgJgiN4KTL0AY+NFR/uUvQNmrQDY9HDBAAAAAAAAAAAA05terBp/EPzTm16sGn9Q/TtnDAYru3j805terBp/kP8HfzVbIxuk/TtnDAYru7j9u6VzWJQvyPzTm16sGn/Q/+uJSgecy9z/B381WyMb5P4jcSCypWvw/TtnDAYru/j8Ka59rNcEAQG7pXNYlCwJA0WcaQRZVA0A05terBp8EQJdklRb36AVA+uJSgecyB0BeYRDs13wIQMHfzVbIxglAJF6LwbgQC0CI3EgsqVoMQOtaBpeZpA1ATtnDAYruDkDZq0A2PRwQQAprn2s1wRBAPCr+oC1mEUBu6VzWJQsSQJ+ouwsesBJA0WcaQRZVE0ACJ3l2DvoTQDTm16sGnxRAZqU24f5DFUCXZJUW9+gVQMkj9EvvjRZA+uJSgecyF0AsorG239cXQF5hEOzXfBhAjyBvIdAhGUDB381WyMYZQPOeLIzAaxpAJF6LwbgQG0BWHer2sLUbQIjcSCypWhxAuZunYaH/HEDrWgaXmaQdQBwaZcyRSR5ATtnDAYruHkCAmCI3gpMfQNmrQDY9HCBAcQvwULluIEAKa59rNcEgQKPKToaxEyFAPCr+oC1mIUDVia27qbghQG7pXNYlCyJABkkM8aFdIkCfqLsLHrAiQDgIayaaAiNA0WcaQRZVI0Bqx8lbkqcjQAIneXYO+iNAm4YokYpMJEA05terBp8kQM1Fh8aC8SRAZqU24f5DJUD+BOb7epYlQJdklRb36CVAMMREMXM7JkDJI/RL740mQGKDo2Zr4CZA+uJSgecyJ0CTQgKcY4UnQCyisbbf1ydAxQFh0VsqKEBeYRDs13woQPfAvwZUzyhAjyBvIdAhKUAogB48THQpQMHfzVbIxilAWj99cUQZKkDzniyMwGsqQIv+26Y8vipAJF6LwbgQK0C9vTrcNGMrQFYd6vawtStA73yZES0ILECI3EgsqVosQCA8+EYlrSxAuZunYaH/LEBS+1Z8HVItQOtaBpeZpC1AhLq1sRX3LUAcGmXMkUkuQLV5FOcNnC5ATtnDAYruLkDnOHMcBkEvQICYIjeCky9AGPjRUf7lL0DZq0A2PRwwQAAAAAAAAAAANObXqwafxD805terBp/UP07ZwwGK7t4/NObXqwaf5D/B381WyMbpP07ZwwGK7u4/bulc1iUL8j805terBp/0P/riUoHnMvc/wd/NVsjG+T+I3EgsqVr8P07ZwwGK7v4/CmufazXBAEBu6VzWJQsCQNFnGkEWVQNANObXqwafBECXZJUW9+gFQPriUoHnMgdAXmEQ7Nd8CEDB381WyMYJQCRei8G4EAtAiNxILKlaDEDrWgaXmaQNQE7ZwwGK7g5A2atANj0cEEAKa59rNcEQQDwq/qAtZhFAbulc1iULEkCfqLsLHrASQNFnGkEWVRNAAid5dg76E0A05terBp8UQGalNuH+QxVAl2SVFvfoFUDJI/RL740WQPriUoHnMhdALKKxtt/XF0BeYRDs13wYQI8gbyHQIRlAwd/NVsjGGUDzniyMwGsaQCRei8G4EBtAVh3q9rC1G0CI3EgsqVocQLmbp2Gh/xxA61oGl5mkHUAcGmXMkUkeQE7ZwwGK7h5AgJgiN4KTH0DZq0A2PRwgQHEL8FC5biBACmufazXBIECjyk6GsRMhQDwq/qAtZiFA1Ymtu6m4IUBu6VzWJQsiQAZJDPGhXSJAn6i7Cx6wIkA4CGsmmgIjQNFnGkEWVSNAasfJW5KnI0ACJ3l2DvojQJuGKJGKTCRANObXqwafJEDNRYfGgvEkQGalNuH+QyVA/gTm+3qWJUCXZJUW9+glQDDERDFzOyZAySP0S++NJkBig6Nma+AmQPriUoHnMidAk0ICnGOFJ0AsorG239cnQMUBYdFbKihAXmEQ7Nd8KED3wL8GVM8oQI8gbyHQISlAKIAePEx0KUDB381WyMYpQFo/fXFEGSpA854sjMBrKkCL/tumPL4qQCRei8G4ECtAvb063DRjK0BWHer2sLUrQO98mREtCCxAiNxILKlaLEAgPPhGJa0sQLmbp2Gh/yxAUvtWfB1SLUDrWgaXmaQtQIS6tbEV9y1AHBplzJFJLkC1eRTnDZwuQE7ZwwGK7i5A5zhzHAZBL0CAmCI3gpMvQBj40VH+5S9A2atANj0cMEAAAAAAAAAAADTm16sGn8Q/NObXqwaf1D9O2cMBiu7ePzTm16sGn+Q/wd/NVsjG6T9O2cMBiu7uP27pXNYlC/I/NObXqwaf9D/64lKB5zL3P8HfzVbIxvk/iNxILKla/D9O2cMBiu7+Pwprn2s1wQBAbulc1iULAkDRZxpBFlUDQDTm16sGnwRAl2SVFvfoBUD64lKB5zIHQF5hEOzXfAhAwd/NVsjGCUAkXovBuBALQIjcSCypWgxA61oGl5mkDUBO2cMBiu4OQNmrQDY9HBBACmufazXBEEA8Kv6gLWYRQG7pXNYlCxJAn6i7Cx6wEkDRZxpBFlUTQAIneXYO+hNANObXqwafFEBmpTbh/kMVQJdklRb36BVAySP0S++NFkD64lKB5zIXQCyisbbf1xdAXmEQ7Nd8GECPIG8h0CEZQMHfzVbIxhlA854sjMBrGkAkXovBuBAbQFYd6vawtRtAiNxILKlaHEC5m6dhof8cQOtaBpeZpB1AHBplzJFJHkBO2cMBiu4eQICYIjeCkx9A2atANj0cIEBxC/BQuW4gQAprn2s1wSBAo8pOhrETIUA8Kv6gLWYhQNWJrbupuCFAbulc1iULIkAGSQzxoV0iQJ+ouwsesCJAOAhrJpoCI0DRZxpBFlUjQGrHyVuSpyNAAid5dg76I0CbhiiRikwkQDTm16sGnyRAzUWHxoLxJEBmpTbh/kMlQP4E5vt6liVAl2SVFvfoJUAwxEQxczsmQMkj9EvvjSZAYoOjZmvgJkD64lKB5zInQJNCApxjhSdALKKxtt/XJ0DFAWHRWyooQF5hEOzXfChA98C/BlTPKECPIG8h0CEpQCiAHjxMdClAwd/NVsjGKUBaP31xRBkqQPOeLIzAaypAi/7bpjy+KkAkXovBuBArQL29Otw0YytAVh3q9rC1K0DvfJkRLQgsQIjcSCypWixAIDz4RiWtLEC5m6dhof8sQFL7VnwdUi1A61oGl5mkLUCEurWxFfctQBwaZcyRSS5AtXkU5w2cLkBO2cMBiu4uQOc4cxwGQS9AgJgiN4KTL0AY+NFR/uUvQNmrQDY9HDBAAAAAAAAAAAA05terBp/EPzTm16sGn9Q/TtnDAYru3j805terBp/kP8HfzVbIxuk/TtnDAYru7j9u6VzWJQvyPzTm16sGn/Q/+uJSgecy9z/B381WyMb5P4jcSCypWvw/TtnDAYru/j8Ka59rNcEAQG7pXNYlCwJA0WcaQRZVA0A05terBp8EQJdklRb36AVA+uJSgecyB0BeYRDs13wIQMHfzVbIxglAJF6LwbgQC0CI3EgsqVoMQOtaBpeZpA1ATtnDAYruDkDZq0A2PRwQQAprn2s1wRBAPCr+oC1mEUBu6VzWJQsSQJ+ouwsesBJA0WcaQRZVE0ACJ3l2DvoTQDTm16sGnxRAZqU24f5DFUCXZJUW9+gVQMkj9EvvjRZA+uJSgecyF0AsorG239cXQF5hEOzXfBhAjyBvIdAhGUDB381WyMYZQPOeLIzAaxpAJF6LwbgQG0BWHer2sLUbQIjcSCypWhxAuZunYaH/HEDrWgaXmaQdQBwaZcyRSR5ATtnDAYruHkCAmCI3gpMfQNmrQDY9HCBAcQvwULluIEAKa59rNcEgQKPKToaxEyFAPCr+oC1mIUDVia27qbghQG7pXNYlCyJABkkM8aFdIkCfqLsLHrAiQDgIayaaAiNA0WcaQRZVI0Bqx8lbkqcjQAIneXYO+iNAm4YokYpMJEA05terBp8kQM1Fh8aC8SRAZqU24f5DJUD+BOb7epYlQJdklRb36CVAMMREMXM7JkDJI/RL740mQGKDo2Zr4CZA+uJSgecyJ0CTQgKcY4UnQCyisbbf1ydAxQFh0VsqKEBeYRDs13woQPfAvwZUzyhAjyBvIdAhKUAogB48THQpQMHfzVbIxilAWj99cUQZKkDzniyMwGsqQIv+26Y8vipAJF6LwbgQK0C9vTrcNGMrQFYd6vawtStA73yZES0ILECI3EgsqVosQCA8+EYlrSxAuZunYaH/LEBS+1Z8HVItQOtaBpeZpC1AhLq1sRX3LUAcGmXMkUkuQLV5FOcNnC5ATtnDAYruLkDnOHMcBkEvQICYIjeCky9AGPjRUf7lL0DZq0A2PRwwQAAAAAAAAAAANObXqwafxD805terBp/UP07ZwwGK7t4/NObXqwaf5D/B381WyMbpP07ZwwGK7u4/bulc1iUL8j805terBp/0P/riUoHnMvc/wd/NVsjG+T+I3EgsqVr8P07ZwwGK7v4/CmufazXBAEBu6VzWJQsCQNFnGkEWVQNANObXqwafBECXZJUW9+gFQPriUoHnMgdAXmEQ7Nd8CEDB381WyMYJQCRei8G4EAtAiNxILKlaDEDrWgaXmaQNQE7ZwwGK7g5A2atANj0cEEAKa59rNcEQQDwq/qAtZhFAbulc1iULEkCfqLsLHrASQNFnGkEWVRNAAid5dg76E0A05terBp8UQGalNuH+QxVAl2SVFvfoFUDJI/RL740WQPriUoHnMhdALKKxtt/XF0BeYRDs13wYQI8gbyHQIRlAwd/NVsjGGUDzniyMwGsaQCRei8G4EBtAVh3q9rC1G0CI3EgsqVocQLmbp2Gh/xxA61oGl5mkHUAcGmXMkUkeQE7ZwwGK7h5AgJgiN4KTH0DZq0A2PRwgQHEL8FC5biBACmufazXBIECjyk6GsRMhQDwq/qAtZiFA1Ymtu6m4IUBu6VzWJQsiQAZJDPGhXSJAn6i7Cx6wIkA4CGsmmgIjQNFnGkEWVSNAasfJW5KnI0ACJ3l2DvojQJuGKJGKTCRANObXqwafJEDNRYfGgvEkQGalNuH+QyVA/gTm+3qWJUCXZJUW9+glQDDERDFzOyZAySP0S++NJkBig6Nma+AmQPriUoHnMidAk0ICnGOFJ0AsorG239cnQMUBYdFbKihAXmEQ7Nd8KED3wL8GVM8oQI8gbyHQISlAKIAePEx0KUDB381WyMYpQFo/fXFEGSpA854sjMBrKkCL/tumPL4qQCRei8G4ECtAvb063DRjK0BWHer2sLUrQO98mREtCCxAiNxILKlaLEAgPPhGJa0sQLmbp2Gh/yxAUvtWfB1SLUDrWgaXmaQtQIS6tbEV9y1AHBplzJFJLkC1eRTnDZwuQE7ZwwGK7i5A5zhzHAZBL0CAmCI3gpMvQBj40VH+5S9A2atANj0cMEAAAAAAAAAAADTm16sGn8Q/NObXqwaf1D9O2cMBiu7ePzTm16sGn+Q/wd/NVsjG6T9O2cMBiu7uP27pXNYlC/I/NObXqwaf9D/64lKB5zL3P8HfzVbIxvk/iNxILKla/D9O2cMBiu7+Pwprn2s1wQBAbulc1iULAkDRZxpBFlUDQDTm16sGnwRAl2SVFvfoBUD64lKB5zIHQF5hEOzXfAhAwd/NVsjGCUAkXovBuBALQIjcSCypWgxA61oGl5mkDUBO2cMBiu4OQNmrQDY9HBBACmufazXBEEA8Kv6gLWYRQG7pXNYlCxJAn6i7Cx6wEkDRZxpBFlUTQAIneXYO+hNANObXqwafFEBmpTbh/kMVQJdklRb36BVAySP0S++NFkD64lKB5zIXQCyisbbf1xdAXmEQ7Nd8GECPIG8h0CEZQMHfzVbIxhlA854sjMBrGkAkXovBuBAbQFYd6vawtRtAiNxILKlaHEC5m6dhof8cQOtaBpeZpB1AHBplzJFJHkBO2cMBiu4eQICYIjeCkx9A2atANj0cIEBxC/BQuW4gQAprn2s1wSBAo8pOhrETIUA8Kv6gLWYhQNWJrbupuCFAbulc1iULIkAGSQzxoV0iQJ+ouwsesCJAOAhrJpoCI0DRZxpBFlUjQGrHyVuSpyNAAid5dg76I0CbhiiRikwkQDTm16sGnyRAzUWHxoLxJEBmpTbh/kMlQP4E5vt6liVAl2SVFvfoJUAwxEQxczsmQMkj9EvvjSZAYoOjZmvgJkD64lKB5zInQJNCApxjhSdALKKxtt/XJ0DFAWHRWyooQF5hEOzXfChA98C/BlTPKECPIG8h0CEpQCiAHjxMdClAwd/NVsjGKUBaP31xRBkqQPOeLIzAaypAi/7bpjy+KkAkXovBuBArQL29Otw0YytAVh3q9rC1K0DvfJkRLQgsQIjcSCypWixAIDz4RiWtLEC5m6dhof8sQFL7VnwdUi1A61oGl5mkLUCEurWxFfctQBwaZcyRSS5AtXkU5w2cLkBO2cMBiu4uQOc4cxwGQS9AgJgiN4KTL0AY+NFR/uUvQNmrQDY9HDBAAAAAAAAAAAA05terBp/EPzTm16sGn9Q/TtnDAYru3j805terBp/kP8HfzVbIxuk/TtnDAYru7j9u6VzWJQvyPzTm16sGn/Q/+uJSgecy9z/B381WyMb5P4jcSCypWvw/TtnDAYru/j8Ka59rNcEAQG7pXNYlCwJA0WcaQRZVA0A05terBp8EQJdklRb36AVA+uJSgecyB0BeYRDs13wIQMHfzVbIxglAJF6LwbgQC0CI3EgsqVoMQOtaBpeZpA1ATtnDAYruDkDZq0A2PRwQQAprn2s1wRBAPCr+oC1mEUBu6VzWJQsSQJ+ouwsesBJA0WcaQRZVE0ACJ3l2DvoTQDTm16sGnxRAZqU24f5DFUCXZJUW9+gVQMkj9EvvjRZA+uJSgecyF0AsorG239cXQF5hEOzXfBhAjyBvIdAhGUDB381WyMYZQPOeLIzAaxpAJF6LwbgQG0BWHer2sLUbQIjcSCypWhxAuZunYaH/HEDrWgaXmaQdQBwaZcyRSR5ATtnDAYruHkCAmCI3gpMfQNmrQDY9HCBAcQvwULluIEAKa59rNcEgQKPKToaxEyFAPCr+oC1mIUDVia27qbghQG7pXNYlCyJABkkM8aFdIkCfqLsLHrAiQDgIayaaAiNA0WcaQRZVI0Bqx8lbkqcjQAIneXYO+iNAm4YokYpMJEA05terBp8kQM1Fh8aC8SRAZqU24f5DJUD+BOb7epYlQJdklRb36CVAMMREMXM7JkDJI/RL740mQGKDo2Zr4CZA+uJSgecyJ0CTQgKcY4UnQCyisbbf1ydAxQFh0VsqKEBeYRDs13woQPfAvwZUzyhAjyBvIdAhKUAogB48THQpQMHfzVbIxilAWj99cUQZKkDzniyMwGsqQIv+26Y8vipAJF6LwbgQK0C9vTrcNGMrQFYd6vawtStA73yZES0ILECI3EgsqVosQCA8+EYlrSxAuZunYaH/LEBS+1Z8HVItQOtaBpeZpC1AhLq1sRX3LUAcGmXMkUkuQLV5FOcNnC5ATtnDAYruLkDnOHMcBkEvQICYIjeCky9AGPjRUf7lL0DZq0A2PRwwQAAAAAAAAAAANObXqwafxD805terBp/UP07ZwwGK7t4/NObXqwaf5D/B381WyMbpP07ZwwGK7u4/bulc1iUL8j805terBp/0P/riUoHnMvc/wd/NVsjG+T+I3EgsqVr8P07ZwwGK7v4/CmufazXBAEBu6VzWJQsCQNFnGkEWVQNANObXqwafBECXZJUW9+gFQPriUoHnMgdAXmEQ7Nd8CEDB381WyMYJQCRei8G4EAtAiNxILKlaDEDrWgaXmaQNQE7ZwwGK7g5A2atANj0cEEAKa59rNcEQQDwq/qAtZhFAbulc1iULEkCfqLsLHrASQNFnGkEWVRNAAid5dg76E0A05terBp8UQGalNuH+QxVAl2SVFvfoFUDJI/RL740WQPriUoHnMhdALKKxtt/XF0BeYRDs13wYQI8gbyHQIRlAwd/NVsjGGUDzniyMwGsaQCRei8G4EBtAVh3q9rC1G0CI3EgsqVocQLmbp2Gh/xxA61oGl5mkHUAcGmXMkUkeQE7ZwwGK7h5AgJgiN4KTH0DZq0A2PRwgQHEL8FC5biBACmufazXBIECjyk6GsRMhQDwq/qAtZiFA1Ymtu6m4IUBu6VzWJQsiQAZJDPGhXSJAn6i7Cx6wIkA4CGsmmgIjQNFnGkEWVSNAasfJW5KnI0ACJ3l2DvojQJuGKJGKTCRANObXqwafJEDNRYfGgvEkQGalNuH+QyVA/gTm+3qWJUCXZJUW9+glQDDERDFzOyZAySP0S++NJkBig6Nma+AmQPriUoHnMidAk0ICnGOFJ0AsorG239cnQMUBYdFbKihAXmEQ7Nd8KED3wL8GVM8oQI8gbyHQISlAKIAePEx0KUDB381WyMYpQFo/fXFEGSpA854sjMBrKkCL/tumPL4qQCRei8G4ECtAvb063DRjK0BWHer2sLUrQO98mREtCCxAiNxILKlaLEAgPPhGJa0sQLmbp2Gh/yxAUvtWfB1SLUDrWgaXmaQtQIS6tbEV9y1AHBplzJFJLkC1eRTnDZwuQE7ZwwGK7i5A5zhzHAZBL0CAmCI3gpMvQBj40VH+5S9A2atANj0cMEAAAAAAAAAAADTm16sGn8Q/NObXqwaf1D9O2cMBiu7ePzTm16sGn+Q/wd/NVsjG6T9O2cMBiu7uP27pXNYlC/I/NObXqwaf9D/64lKB5zL3P8HfzVbIxvk/iNxILKla/D9O2cMBiu7+Pwprn2s1wQBAbulc1iULAkDRZxpBFlUDQDTm16sGnwRAl2SVFvfoBUD64lKB5zIHQF5hEOzXfAhAwd/NVsjGCUAkXovBuBALQIjcSCypWgxA61oGl5mkDUBO2cMBiu4OQNmrQDY9HBBACmufazXBEEA8Kv6gLWYRQG7pXNYlCxJAn6i7Cx6wEkDRZxpBFlUTQAIneXYO+hNANObXqwafFEBmpTbh/kMVQJdklRb36BVAySP0S++NFkD64lKB5zIXQCyisbbf1xdAXmEQ7Nd8GECPIG8h0CEZQMHfzVbIxhlA854sjMBrGkAkXovBuBAbQFYd6vawtRtAiNxILKlaHEC5m6dhof8cQOtaBpeZpB1AHBplzJFJHkBO2cMBiu4eQICYIjeCkx9A2atANj0cIEBxC/BQuW4gQAprn2s1wSBAo8pOhrETIUA8Kv6gLWYhQNWJrbupuCFAbulc1iULIkAGSQzxoV0iQJ+ouwsesCJAOAhrJpoCI0DRZxpBFlUjQGrHyVuSpyNAAid5dg76I0CbhiiRikwkQDTm16sGnyRAzUWHxoLxJEBmpTbh/kMlQP4E5vt6liVAl2SVFvfoJUAwxEQxczsmQMkj9EvvjSZAYoOjZmvgJkD64lKB5zInQJNCApxjhSdALKKxtt/XJ0DFAWHRWyooQF5hEOzXfChA98C/BlTPKECPIG8h0CEpQCiAHjxMdClAwd/NVsjGKUBaP31xRBkqQPOeLIzAaypAi/7bpjy+KkAkXovBuBArQL29Otw0YytAVh3q9rC1K0DvfJkRLQgsQIjcSCypWixAIDz4RiWtLEC5m6dhof8sQFL7VnwdUi1A61oGl5mkLUCEurWxFfctQBwaZcyRSS5AtXkU5w2cLkBO2cMBiu4uQOc4cxwGQS9AgJgiN4KTL0AY+NFR/uUvQNmrQDY9HDBA",
          "dtype": "f8",
          "shape": "24, 101"
         },
         "z": {
          "bdata": "AAAAAAAAAAAAAAAAAAAAAAAAAAAAAAAAAAAAAAAAAAAAAAAAAAAAAAAAAAAAAAAAAAAAAAAAAAAAAAAAAAAAAAAAAAAAAAAAAAAAAAAAAAAAAAAAAAAAAAAAAAAAAAAAAAAAAAABAQEBAQEBAQEBAQEBAQEBAQEBAQEBAQEBAQEBAQEBAQEBAQEBAQEBAQEBAQEBAQEBAQEBAQEBAQEBAQEBAQEBAQEBAQEBAQEBAQEBAQEBAQEBAQEBAQEBAQEBAQEBAQEBAQEBAQICAgICAgICAgICAgICAgICAgICAgICAgICAgICAgICAgICAgICAgICAgICAgICAgICAgICAgICAgICAgICAgICAgICAgICAgICAgICAgICAgICAgICAgICAgICAgICAgICAgICAwMDAwMDAwMDAwMDAwMDAwMDAwMDAwMDAwMDAwMDAwMDAwMDAwMDAwMDAwMDAwMDAwMDAwMDAwMDAwMDAwMDAwMDAwMDAwMDAwMDAwMDAwMDAwMDAwMDAwMDAwMDAwMDAwMDAwMEBAQEBAQEBAQEBAQEBAQEBAQEBAQEBAQEBAQEBAQEBAQEBAQEBAQEBAQEBAQEBAQEBAQEBAQEBAQEBAQEBAQEBAQEBAQEBAQEBAQEBAQEBAQEBAQEBAQEBAQEBAQEBAQEBAQEBAUFBQUFBQUFBQUFBQUFBQUFBQUFBQUFBQUFBQUFBQUFBQUFBQUFBQUFBQUFBQUFBQUFBQUFBQUFBQUFBQUFBQUFBQUFBQUFBQUFBQUFBQUFBQUFBQUFBQUFBQUFBQUFBQUFBQUFBgYGBgYGBgYGBgYGBgYGBgYGBgYGBgYGBgYGBgYGBgYGBgYGBgYGBgYGBgYGBgYGBgYGBgYGBgYGBgYGBgYGBgYGBgYGBgYGBgYGBgYGBgYGBgYGBgYGBgYGBgYGBgYGBgYGBgYHBwcHBwcHBwcHBwcHBwcHBwcHBwcHBwcHBwcHBwcHBwcHBwcHBwcHBwcHBwcHBwcHBwcHBwcHBwcHBwcHBwcHBwcHBwcHBwcHBwcHBwcHBwcHBwcHBwcHBwcHBwcHBwcHBwcHBwgICAgICAgICAgICAgICAgICAgICAgICAgICAgICAgICAgICAgICAgICAgICAgICAgICAgICAgICAgICAgICAgICAgICAgICAgICAgICAgICAgICAgICAgICAgICAgICAgICAgICQkJCQkJCQkJCQkJCQkJCQkJCQkJCQkJCQkJCQkJCQkJCQkJCQkJCQkJCQkJCQkJCQkJCQkJCQkJCQkJCQkJCQkJCQkJCQkJCQkJCQkJCQkJCQkJCQkJCQkJCQkJCQkJCQkJCQkKCgoKCgoKCgoKCgoKCgoKCgoKCgoKCgoKCgoKCgoKCgoKCgoKCgoKCgoKCgoKCgoKCgoKCgoKCgoKCgoKCgoKCgoKCgoKCgoKCgoKCgoKCgoKCgoKCgoKCgoKCgoKCgoKCgoKCgsLCwsLCwsLCwsLCwsLCwsLCwsLCwsLCwsLCwsLCwsLCwsLCwsLCwsLCwsLCwsLCwsLCwsLCwsLCwsLCwsLCwsLCwsLCwsLCwsLCwsLCwsLCwsLCwsLCwsLCwsLCwsLCwsLCwsLDAwMDAwMDAwMDAwMDAwMDAwMDAwMDAwMDAwMDAwMDAwMDAwMDAwMDAwMDAwMDAwMDAwMDAwMDAwMDAwMDAwMDAwMDAwMDAwMDAwMDAwMDAwMDAwMDAwMDAwMDAwMDAwMDAwMDAwNDQ0NDQ0NDQ0NDQ0NDQ0NDQ0NDQ0NDQ0NDQ0NDQ0NDQ0NDQ0NDQ0NDQ0NDQ0NDQ0NDQ0NDQ0NDQ0NDQ0NDQ0NDQ0NDQ0NDQ0NDQ0NDQ0NDQ0NDQ0NDQ0NDQ0NDQ0NDQ0NDQ0NDQ4ODg4ODg4ODg4ODg4ODg4ODg4ODg4ODg4ODg4ODg4ODg4ODg4ODg4ODg4ODg4ODg4ODg4ODg4ODg4ODg4ODg4ODg4ODg4ODg4ODg4ODg4ODg4ODg4ODg4ODg4ODg4ODg4ODg4ODw8PDw8PDw8PDw8PDw8PDw8PDw8PDw8PDw8PDw8PDw8PDw8PDw8PDw8PDw8PDw8PDw8PDw8PDw8PDw8PDw8PDw8PDw8PDw8PDw8PDw8PDw8PDw8PDw8PDw8PDw8PDw8PDw8PDw8QEBAQEBAQEBAQEBAQEBAQEBAQEBAQEBAQEBAQEBAQEBAQEBAQEBAQEBAQEBAQEBAQEBAQEBAQEBAQEBAQEBAQEBAQEBAQEBAQEBAQEBAQEBAQEBAQEBAQEBAQEBAQEBAQEBAQEBEREREREREREREREREREREREREREREREREREREREREREREREREREREREREREREREREREREREREREREREREREREREREREREREREREREREREREREREREREREREREREREREREREREREhISEhISEhISEhISEhISEhISEhISEhISEhISEhISEhISEhISEhISEhISEhISEhISEhISEhISEhISEhISEhISEhISEhISEhISEhISEhISEhISEhISEhISEhISEhISEhISEhISEhITExMTExMTExMTExMTExMTExMTExMTExMTExMTExMTExMTExMTExMTExMTExMTExMTExMTExMTExMTExMTExMTExMTExMTExMTExMTExMTExMTExMTExMTExMTExMTExMTExMTExQUFBQUFBQUFBQUFBQUFBQUFBQUFBQUFBQUFBQUFBQUFBQUFBQUFBQUFBQUFBQUFBQUFBQUFBQUFBQUFBQUFBQUFBQUFBQUFBQUFBQUFBQUFBQUFBQUFBQUFBQUFBQUFBQUFBQUFRUVFRUVFRUVFRUVFRUVFRUVFRUVFRUVFRUVFRUVFRUVFRUVFRUVFRUVFRUVFRUVFRUVFRUVFRUVFRUVFRUVFRUVFRUVFRUVFRUVFRUVFRUVFRUVFRUVFRUVFRUVFRUVFRUVFRUWFhYWFhYWFhYWFhYWFhYWFhYWFhYWFhYWFhYWFhYWFhYWFhYWFhYWFhYWFhYWFhYWFhYWFhYWFhYWFhYWFhYWFhYWFhYWFhYWFhYWFhYWFhYWFhYWFhYWFhYWFhYWFhYWFhYWFhcXFxcXFxcXFxcXFxcXFxcXFxcXFxcXFxcXFxcXFxcXFxcXFxcXFxcXFxcXFxcXFxcXFxcXFxcXFxcXFxcXFxcXFxcXFxcXFxcXFxcXFxcXFxcXFxcXFxcXFxcXFxcXFxcXFxcX",
          "dtype": "i1",
          "shape": "24, 101"
         }
        }
       ],
       "layout": {
        "height": 900,
        "scene": {
         "xaxis": {
          "title": {
           "text": "Birth"
          }
         },
         "yaxis": {
          "title": {
           "text": "Death"
          }
         },
         "zaxis": {
          "title": {
           "text": "Time"
          }
         }
        },
        "showlegend": true,
        "template": {
         "data": {
          "bar": [
           {
            "error_x": {
             "color": "#2a3f5f"
            },
            "error_y": {
             "color": "#2a3f5f"
            },
            "marker": {
             "line": {
              "color": "#E5ECF6",
              "width": 0.5
             },
             "pattern": {
              "fillmode": "overlay",
              "size": 10,
              "solidity": 0.2
             }
            },
            "type": "bar"
           }
          ],
          "barpolar": [
           {
            "marker": {
             "line": {
              "color": "#E5ECF6",
              "width": 0.5
             },
             "pattern": {
              "fillmode": "overlay",
              "size": 10,
              "solidity": 0.2
             }
            },
            "type": "barpolar"
           }
          ],
          "carpet": [
           {
            "aaxis": {
             "endlinecolor": "#2a3f5f",
             "gridcolor": "white",
             "linecolor": "white",
             "minorgridcolor": "white",
             "startlinecolor": "#2a3f5f"
            },
            "baxis": {
             "endlinecolor": "#2a3f5f",
             "gridcolor": "white",
             "linecolor": "white",
             "minorgridcolor": "white",
             "startlinecolor": "#2a3f5f"
            },
            "type": "carpet"
           }
          ],
          "choropleth": [
           {
            "colorbar": {
             "outlinewidth": 0,
             "ticks": ""
            },
            "type": "choropleth"
           }
          ],
          "contour": [
           {
            "colorbar": {
             "outlinewidth": 0,
             "ticks": ""
            },
            "colorscale": [
             [
              0,
              "#0d0887"
             ],
             [
              0.1111111111111111,
              "#46039f"
             ],
             [
              0.2222222222222222,
              "#7201a8"
             ],
             [
              0.3333333333333333,
              "#9c179e"
             ],
             [
              0.4444444444444444,
              "#bd3786"
             ],
             [
              0.5555555555555556,
              "#d8576b"
             ],
             [
              0.6666666666666666,
              "#ed7953"
             ],
             [
              0.7777777777777778,
              "#fb9f3a"
             ],
             [
              0.8888888888888888,
              "#fdca26"
             ],
             [
              1,
              "#f0f921"
             ]
            ],
            "type": "contour"
           }
          ],
          "contourcarpet": [
           {
            "colorbar": {
             "outlinewidth": 0,
             "ticks": ""
            },
            "type": "contourcarpet"
           }
          ],
          "heatmap": [
           {
            "colorbar": {
             "outlinewidth": 0,
             "ticks": ""
            },
            "colorscale": [
             [
              0,
              "#0d0887"
             ],
             [
              0.1111111111111111,
              "#46039f"
             ],
             [
              0.2222222222222222,
              "#7201a8"
             ],
             [
              0.3333333333333333,
              "#9c179e"
             ],
             [
              0.4444444444444444,
              "#bd3786"
             ],
             [
              0.5555555555555556,
              "#d8576b"
             ],
             [
              0.6666666666666666,
              "#ed7953"
             ],
             [
              0.7777777777777778,
              "#fb9f3a"
             ],
             [
              0.8888888888888888,
              "#fdca26"
             ],
             [
              1,
              "#f0f921"
             ]
            ],
            "type": "heatmap"
           }
          ],
          "histogram": [
           {
            "marker": {
             "pattern": {
              "fillmode": "overlay",
              "size": 10,
              "solidity": 0.2
             }
            },
            "type": "histogram"
           }
          ],
          "histogram2d": [
           {
            "colorbar": {
             "outlinewidth": 0,
             "ticks": ""
            },
            "colorscale": [
             [
              0,
              "#0d0887"
             ],
             [
              0.1111111111111111,
              "#46039f"
             ],
             [
              0.2222222222222222,
              "#7201a8"
             ],
             [
              0.3333333333333333,
              "#9c179e"
             ],
             [
              0.4444444444444444,
              "#bd3786"
             ],
             [
              0.5555555555555556,
              "#d8576b"
             ],
             [
              0.6666666666666666,
              "#ed7953"
             ],
             [
              0.7777777777777778,
              "#fb9f3a"
             ],
             [
              0.8888888888888888,
              "#fdca26"
             ],
             [
              1,
              "#f0f921"
             ]
            ],
            "type": "histogram2d"
           }
          ],
          "histogram2dcontour": [
           {
            "colorbar": {
             "outlinewidth": 0,
             "ticks": ""
            },
            "colorscale": [
             [
              0,
              "#0d0887"
             ],
             [
              0.1111111111111111,
              "#46039f"
             ],
             [
              0.2222222222222222,
              "#7201a8"
             ],
             [
              0.3333333333333333,
              "#9c179e"
             ],
             [
              0.4444444444444444,
              "#bd3786"
             ],
             [
              0.5555555555555556,
              "#d8576b"
             ],
             [
              0.6666666666666666,
              "#ed7953"
             ],
             [
              0.7777777777777778,
              "#fb9f3a"
             ],
             [
              0.8888888888888888,
              "#fdca26"
             ],
             [
              1,
              "#f0f921"
             ]
            ],
            "type": "histogram2dcontour"
           }
          ],
          "mesh3d": [
           {
            "colorbar": {
             "outlinewidth": 0,
             "ticks": ""
            },
            "type": "mesh3d"
           }
          ],
          "parcoords": [
           {
            "line": {
             "colorbar": {
              "outlinewidth": 0,
              "ticks": ""
             }
            },
            "type": "parcoords"
           }
          ],
          "pie": [
           {
            "automargin": true,
            "type": "pie"
           }
          ],
          "scatter": [
           {
            "fillpattern": {
             "fillmode": "overlay",
             "size": 10,
             "solidity": 0.2
            },
            "type": "scatter"
           }
          ],
          "scatter3d": [
           {
            "line": {
             "colorbar": {
              "outlinewidth": 0,
              "ticks": ""
             }
            },
            "marker": {
             "colorbar": {
              "outlinewidth": 0,
              "ticks": ""
             }
            },
            "type": "scatter3d"
           }
          ],
          "scattercarpet": [
           {
            "marker": {
             "colorbar": {
              "outlinewidth": 0,
              "ticks": ""
             }
            },
            "type": "scattercarpet"
           }
          ],
          "scattergeo": [
           {
            "marker": {
             "colorbar": {
              "outlinewidth": 0,
              "ticks": ""
             }
            },
            "type": "scattergeo"
           }
          ],
          "scattergl": [
           {
            "marker": {
             "colorbar": {
              "outlinewidth": 0,
              "ticks": ""
             }
            },
            "type": "scattergl"
           }
          ],
          "scattermap": [
           {
            "marker": {
             "colorbar": {
              "outlinewidth": 0,
              "ticks": ""
             }
            },
            "type": "scattermap"
           }
          ],
          "scattermapbox": [
           {
            "marker": {
             "colorbar": {
              "outlinewidth": 0,
              "ticks": ""
             }
            },
            "type": "scattermapbox"
           }
          ],
          "scatterpolar": [
           {
            "marker": {
             "colorbar": {
              "outlinewidth": 0,
              "ticks": ""
             }
            },
            "type": "scatterpolar"
           }
          ],
          "scatterpolargl": [
           {
            "marker": {
             "colorbar": {
              "outlinewidth": 0,
              "ticks": ""
             }
            },
            "type": "scatterpolargl"
           }
          ],
          "scatterternary": [
           {
            "marker": {
             "colorbar": {
              "outlinewidth": 0,
              "ticks": ""
             }
            },
            "type": "scatterternary"
           }
          ],
          "surface": [
           {
            "colorbar": {
             "outlinewidth": 0,
             "ticks": ""
            },
            "colorscale": [
             [
              0,
              "#0d0887"
             ],
             [
              0.1111111111111111,
              "#46039f"
             ],
             [
              0.2222222222222222,
              "#7201a8"
             ],
             [
              0.3333333333333333,
              "#9c179e"
             ],
             [
              0.4444444444444444,
              "#bd3786"
             ],
             [
              0.5555555555555556,
              "#d8576b"
             ],
             [
              0.6666666666666666,
              "#ed7953"
             ],
             [
              0.7777777777777778,
              "#fb9f3a"
             ],
             [
              0.8888888888888888,
              "#fdca26"
             ],
             [
              1,
              "#f0f921"
             ]
            ],
            "type": "surface"
           }
          ],
          "table": [
           {
            "cells": {
             "fill": {
              "color": "#EBF0F8"
             },
             "line": {
              "color": "white"
             }
            },
            "header": {
             "fill": {
              "color": "#C8D4E3"
             },
             "line": {
              "color": "white"
             }
            },
            "type": "table"
           }
          ]
         },
         "layout": {
          "annotationdefaults": {
           "arrowcolor": "#2a3f5f",
           "arrowhead": 0,
           "arrowwidth": 1
          },
          "autotypenumbers": "strict",
          "coloraxis": {
           "colorbar": {
            "outlinewidth": 0,
            "ticks": ""
           }
          },
          "colorscale": {
           "diverging": [
            [
             0,
             "#8e0152"
            ],
            [
             0.1,
             "#c51b7d"
            ],
            [
             0.2,
             "#de77ae"
            ],
            [
             0.3,
             "#f1b6da"
            ],
            [
             0.4,
             "#fde0ef"
            ],
            [
             0.5,
             "#f7f7f7"
            ],
            [
             0.6,
             "#e6f5d0"
            ],
            [
             0.7,
             "#b8e186"
            ],
            [
             0.8,
             "#7fbc41"
            ],
            [
             0.9,
             "#4d9221"
            ],
            [
             1,
             "#276419"
            ]
           ],
           "sequential": [
            [
             0,
             "#0d0887"
            ],
            [
             0.1111111111111111,
             "#46039f"
            ],
            [
             0.2222222222222222,
             "#7201a8"
            ],
            [
             0.3333333333333333,
             "#9c179e"
            ],
            [
             0.4444444444444444,
             "#bd3786"
            ],
            [
             0.5555555555555556,
             "#d8576b"
            ],
            [
             0.6666666666666666,
             "#ed7953"
            ],
            [
             0.7777777777777778,
             "#fb9f3a"
            ],
            [
             0.8888888888888888,
             "#fdca26"
            ],
            [
             1,
             "#f0f921"
            ]
           ],
           "sequentialminus": [
            [
             0,
             "#0d0887"
            ],
            [
             0.1111111111111111,
             "#46039f"
            ],
            [
             0.2222222222222222,
             "#7201a8"
            ],
            [
             0.3333333333333333,
             "#9c179e"
            ],
            [
             0.4444444444444444,
             "#bd3786"
            ],
            [
             0.5555555555555556,
             "#d8576b"
            ],
            [
             0.6666666666666666,
             "#ed7953"
            ],
            [
             0.7777777777777778,
             "#fb9f3a"
            ],
            [
             0.8888888888888888,
             "#fdca26"
            ],
            [
             1,
             "#f0f921"
            ]
           ]
          },
          "colorway": [
           "#636efa",
           "#EF553B",
           "#00cc96",
           "#ab63fa",
           "#FFA15A",
           "#19d3f3",
           "#FF6692",
           "#B6E880",
           "#FF97FF",
           "#FECB52"
          ],
          "font": {
           "color": "#2a3f5f"
          },
          "geo": {
           "bgcolor": "white",
           "lakecolor": "white",
           "landcolor": "#E5ECF6",
           "showlakes": true,
           "showland": true,
           "subunitcolor": "white"
          },
          "hoverlabel": {
           "align": "left"
          },
          "hovermode": "closest",
          "mapbox": {
           "style": "light"
          },
          "paper_bgcolor": "white",
          "plot_bgcolor": "#E5ECF6",
          "polar": {
           "angularaxis": {
            "gridcolor": "white",
            "linecolor": "white",
            "ticks": ""
           },
           "bgcolor": "#E5ECF6",
           "radialaxis": {
            "gridcolor": "white",
            "linecolor": "white",
            "ticks": ""
           }
          },
          "scene": {
           "xaxis": {
            "backgroundcolor": "#E5ECF6",
            "gridcolor": "white",
            "gridwidth": 2,
            "linecolor": "white",
            "showbackground": true,
            "ticks": "",
            "zerolinecolor": "white"
           },
           "yaxis": {
            "backgroundcolor": "#E5ECF6",
            "gridcolor": "white",
            "gridwidth": 2,
            "linecolor": "white",
            "showbackground": true,
            "ticks": "",
            "zerolinecolor": "white"
           },
           "zaxis": {
            "backgroundcolor": "#E5ECF6",
            "gridcolor": "white",
            "gridwidth": 2,
            "linecolor": "white",
            "showbackground": true,
            "ticks": "",
            "zerolinecolor": "white"
           }
          },
          "shapedefaults": {
           "line": {
            "color": "#2a3f5f"
           }
          },
          "ternary": {
           "aaxis": {
            "gridcolor": "white",
            "linecolor": "white",
            "ticks": ""
           },
           "baxis": {
            "gridcolor": "white",
            "linecolor": "white",
            "ticks": ""
           },
           "bgcolor": "#E5ECF6",
           "caxis": {
            "gridcolor": "white",
            "linecolor": "white",
            "ticks": ""
           }
          },
          "title": {
           "x": 0.05
          },
          "xaxis": {
           "automargin": true,
           "gridcolor": "white",
           "linecolor": "white",
           "ticks": "",
           "title": {
            "standoff": 15
           },
           "zerolinecolor": "white",
           "zerolinewidth": 2
          },
          "yaxis": {
           "automargin": true,
           "gridcolor": "white",
           "linecolor": "white",
           "ticks": "",
           "title": {
            "standoff": 15
           },
           "zerolinecolor": "white",
           "zerolinewidth": 2
          }
         }
        },
        "title": {
         "text": "Persistent Vines"
        },
        "width": 1000
       }
      },
      "image/png": "[encoded data removed]"
     },
     "metadata": {},
     "output_type": "display_data"
    }
   ],
   "source": [
    "vineyard.plot_interactive(start_k=0, end_k=None,show_legend=True, start_timestep=0, end_timestep=None)\n",
    "plt.show()\n"
   ]
  }
 ],
 "metadata": {
  "kernelspec": {
   "display_name": "Python 3 (ipykernel)",
   "language": "python",
   "name": "python3"
  },
  "language_info": {
   "codemirror_mode": {
    "name": "ipython",
    "version": 3
   },
   "file_extension": ".py",
   "mimetype": "text/x-python",
   "name": "python",
   "nbconvert_exporter": "python",
   "pygments_lexer": "ipython3",
   "version": "3.9.7"
  }
 },
 "nbformat": 4,
 "nbformat_minor": 5
}
