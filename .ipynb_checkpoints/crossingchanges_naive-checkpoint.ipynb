{
 "cells": [
  {
   "cell_type": "code",
   "execution_count": 4,
   "id": "ad528ebe-c10c-45a8-a895-a58aae54a193",
   "metadata": {
    "tags": []
   },
   "outputs": [],
   "source": [
    "import numpy as np\n",
    "import matplotlib.pyplot as plt\n",
    "from mpl_toolkits.mplot3d import Axes3D\n",
    "import math\n"
   ]
  },
  {
   "cell_type": "code",
   "execution_count": null,
   "id": "b43bc8d7-2a13-48dc-9043-6a88fc7b8e2f",
   "metadata": {},
   "outputs": [],
   "source": [
    "##---get 8\n",
    "import numpy as np\n",
    "\n",
    "n_atoms = 20\n",
    "n_timesteps = 20\n",
    "\n",
    "# Generazione dei punti su un otto tridimensionale → ciclizzato progressivamente in cerchio\n",
    "def generate_frame(timestep):\n",
    "    t = np.linspace(0, 2*np.pi, n_atoms, endpoint=False)\n",
    "    morph = timestep / (n_timesteps - 1)  # da 0 a 1\n",
    "\n",
    "    # Otto tridimensionale (figure-eight / lemniscata) deformata\n",
    "    x8 = np.sin(t)\n",
    "    y8 = np.sin(t) * np.cos(t)\n",
    "    z8 = np.cos(t)\n",
    "\n",
    "    # Cerchio 3D\n",
    "    xC = np.cos(t)\n",
    "    yC = np.sin(t)\n",
    "    zC = np.zeros_like(t)\n",
    "\n",
    "    # Interpolazione tra otto e cerchio\n",
    "    x = (1 - morph) * x8 + morph * xC\n",
    "    y = (1 - morph) * y8 + morph * yC\n",
    "    z = (1 - morph) * z8 + morph * zC\n",
    "\n",
    "    # Scala e shift per visualizzazione\n",
    "    return np.stack([x*5 + 5, y*5 + 5, z*5 + 5], axis=1)\n",
    "\n",
    "with open(\"otto_evolve.xyz\", \"w\") as f:\n",
    "    for step in range(n_timesteps):\n",
    "        f.write(f\"{n_atoms}\\n\")\n",
    "        f.write(f\"Atoms. Timestep: {step}\\n\")\n",
    "        frame = generate_frame(step)\n",
    "        for atom in frame:\n",
    "            f.write(f\"O {atom[0]:.5f} {atom[1]:.5f} {atom[2]:.5f}\\n\")"
   ]
  },
  {
   "cell_type": "code",
   "execution_count": 5,
   "id": "7de0a50a-6960-4b15-8fdb-6a418c1d2baf",
   "metadata": {
    "tags": []
   },
   "outputs": [
    {
     "data": {
      "text/plain": [
       "'\\n    fig = plt.figure()\\n    ax = fig.add_subplot(111, projection=\\'3d\\')\\n\\n\\n    ax.plot(x_c, y_c, z_c,\\n            marker=\\'o\\', linestyle=\\'-\\', color=\\'blue\\', label=\\'Cerchio1\\')\\n\\n\\n    ax.plot(x, y, z,\\n            marker=\\'o\\', linestyle=\\'-\\', color=\\'red\\', label=\\'Cerchio2\\')\\n\\n\\n    ax.set_xlabel(\"X\")\\n    ax.set_ylabel(\"Y\")\\n    ax.set_zlabel(\"Z\")\\n    ax.legend()\\n    ax.set_box_aspect([1, 1, 1])\\n    plt.show()\\n'"
      ]
     },
     "execution_count": 5,
     "metadata": {},
     "output_type": "execute_result"
    }
   ],
   "source": [
    "##Anelli\n",
    "\n",
    "### cerchio1 \n",
    "raggio = 2\n",
    "steps=15\n",
    "c=raggio/2\n",
    "delta=(raggio+c)/steps\n",
    "numero_pt = 15\n",
    "perturbazione = 0.1  \n",
    "##cerchio1\n",
    "angoli = np.linspace(0, 2 * np.pi, numero_pt, endpoint=False)\n",
    "x_c = raggio * np.sin(angoli)\n",
    "y_c = np.zeros_like(x_c)\n",
    "z_c = raggio * np.cos(angoli)\n",
    "\n",
    "pt_cerchio1 = np.column_stack((x_c, y_c, z_c))\n",
    "\n",
    "\n",
    "\n",
    "# Aggiungi rumore casuale (uniforme tra -perturbazione e +perturbazione)\n",
    "pt_cerchio1 = pt_cerchio1 + np.random.uniform(-perturbazione, perturbazione, size=pt_cerchio1.shape)\n",
    "\n",
    "\n",
    "### cerchio2 \n",
    "raggio=2.5\n",
    "numero_pt = 20\n",
    "x = raggio * np.cos(angoli)+2.5\n",
    "y = raggio * np.sin(angoli)\n",
    "z = np.zeros_like(x)\n",
    "pt_cerchio2 = np.column_stack((x, y, z))\n",
    "pt_cerchio2 = pt_cerchio2 + np.random.uniform(-perturbazione, perturbazione, size=pt_cerchio2.shape)\n",
    "\n",
    "\n",
    "##\n",
    "pt_cerchio1 = pt_cerchio1 + np.random.uniform(-perturbazione, perturbazione, size=pt_cerchio1.shape)##salva punti in file txt\n",
    "pt_cerchio2 = pt_cerchio2 + np.random.uniform(-perturbazione, perturbazione, size=pt_cerchio2.shape)\n",
    "\n",
    "punti_totali = np.vstack((pt_cerchio1, pt_cerchio2))\n",
    "np.savetxt(\"rings/rings0.txt\", punti_totali, fmt=\"%.6f\", delimiter=' ')\n",
    "\n",
    "\n",
    "\n",
    "for i in range (steps+8):\n",
    "    x = x+delta\n",
    "    \n",
    "    pt_cerchio2 = np.column_stack((x, y, z))\n",
    "    pt_cerchio2 = pt_cerchio2 + np.random.uniform(-perturbazione, perturbazione, size=pt_cerchio2.shape)\n",
    "\n",
    "\n",
    "    ##salva punti in file txt\n",
    "    punti_totali = np.vstack((pt_cerchio1, pt_cerchio2))\n",
    "    np.savetxt(\"rings/rings\"+str(i+1)+\".txt\", punti_totali, fmt=\"%.6f\", delimiter=' ')\n",
    "    \n",
    "\n",
    "\n",
    "## Plot\n",
    "\"\"\"\n",
    "    fig = plt.figure()\n",
    "    ax = fig.add_subplot(111, projection='3d')\n",
    "\n",
    "\n",
    "    ax.plot(x_c, y_c, z_c,\n",
    "            marker='o', linestyle='-', color='blue', label='Cerchio1')\n",
    "\n",
    "\n",
    "    ax.plot(x, y, z,\n",
    "            marker='o', linestyle='-', color='red', label='Cerchio2')\n",
    "\n",
    "\n",
    "    ax.set_xlabel(\"X\")\n",
    "    ax.set_ylabel(\"Y\")\n",
    "    ax.set_zlabel(\"Z\")\n",
    "    ax.legend()\n",
    "    ax.set_box_aspect([1, 1, 1])\n",
    "    plt.show()\n",
    "\"\"\""
   ]
  },
  {
   "cell_type": "code",
   "execution_count": 1,
   "id": "879daffb-7dcd-4226-abd4-1e298a4af265",
   "metadata": {
    "tags": []
   },
   "outputs": [
    {
     "ename": "NameError",
     "evalue": "name 'np' is not defined",
     "output_type": "error",
     "traceback": [
      "\u001b[0;31m---------------------------------------------------------------------------\u001b[0m",
      "\u001b[0;31mNameError\u001b[0m                                 Traceback (most recent call last)",
      "Cell \u001b[0;32mIn[1], line 7\u001b[0m\n\u001b[1;32m      5\u001b[0m a \u001b[38;5;241m=\u001b[39m \u001b[38;5;241m2\u001b[39m \u001b[38;5;66;03m# ampiezza parabole\u001b[39;00m\n\u001b[1;32m      6\u001b[0m c \u001b[38;5;241m=\u001b[39m \u001b[38;5;241m5\u001b[39m  \u001b[38;5;66;03m# traslazione iniziale\u001b[39;00m\n\u001b[0;32m----> 7\u001b[0m theta \u001b[38;5;241m=\u001b[39m \u001b[38;5;241m85\u001b[39m\u001b[38;5;241m*\u001b[39m\u001b[43mnp\u001b[49m\u001b[38;5;241m.\u001b[39mpi\u001b[38;5;241m/\u001b[39m\u001b[38;5;241m180\u001b[39m \u001b[38;5;66;03m# angolo di rotazione per parabola 2\u001b[39;00m\n\u001b[1;32m      8\u001b[0m rotazione\u001b[38;5;241m=\u001b[39m\u001b[38;5;28;01mFalse\u001b[39;00m\n\u001b[1;32m     12\u001b[0m \u001b[38;5;66;03m#Parabola 1 nel piano z = 0 \u001b[39;00m\n",
      "\u001b[0;31mNameError\u001b[0m: name 'np' is not defined"
     ]
    }
   ],
   "source": [
    "\n",
    "\"\"\"\n",
    "# Parametri\n",
    "steps=20\n",
    "n_pt = 40\n",
    "p=int(n_pt/2)\n",
    "a = 2 # ampiezza parabole\n",
    "c = 5  # traslazione iniziale\n",
    "theta = 85*np.pi/180 # angolo di rotazione per parabola 2\n",
    "rotazione=False\n",
    "\n",
    " \n",
    "\n",
    "#Parabola 1 nel piano z = 0 \n",
    "x = np.linspace(-2, 2, p)\n",
    "y = a * x**2\n",
    "z = np.zeros_like(x)\n",
    "punti_p1=np.column_stack((x, y, z))\n",
    "\n",
    "\n",
    "#add noise\n",
    "perturbazione = 0.1 * 4 \n",
    "noise = np.random.normal(0, perturbazione, size=punti_totali.shape)\n",
    "pert=False\n",
    "\n",
    "\n",
    "\n",
    "#Parabola 2 nel piano x=0\n",
    "\n",
    "z_rot = np.linspace(-2, 2, p)\n",
    "y_rot = -a*z_rot**2+c\n",
    "x_rot = np.zeros_like(z_rot)\n",
    "\n",
    "#aggiungi rotazione\n",
    "if rotazione==True:\n",
    "    points = np.vstack((x_rot, y_rot, z_rot))  # forma (3, p)\n",
    "\n",
    "    # Matrice di rotazione attorno a Y\n",
    "    Ry = np.array([\n",
    "        [np.cos(theta), 0, np.sin(theta)],\n",
    "        [0, 1, 0],\n",
    "        [-np.sin(theta), 0, np.cos(theta)]\n",
    "    ])\n",
    "\n",
    "    # Rotazione: prodotto matrice x punti\n",
    "    points_rotated = Ry @ points\n",
    "\n",
    "    # Estraggo coordinate ruotate\n",
    "    x_rot= points_rotated[0, :]\n",
    "    y_rot = points_rotated[1, :]\n",
    "    z_rot = points_rotated[2, :]\n",
    "\n",
    "\n",
    "punti_p2=np.column_stack((x_rot, y_rot, z_rot))\n",
    "punti_totali = np.vstack((punti_p1, punti_p2))\n",
    "if pert==True:\n",
    "    punti_totali = np.vstack((punti_p1, punti_p2))+ noise\n",
    "\n",
    "#np.savetxt(\"par/par0.txt\", punti_totali, fmt=\"%.6f\", delimiter=' ')\n",
    "\n",
    "delta=c/steps\n",
    "\n",
    "for i in range (steps+10):\n",
    "    y_rot = y_rot - delta\n",
    "   # z_rot = -x_rot * np.sin(theta)\n",
    "    #y_rot = -a * x_rot**2 + c\n",
    "    \n",
    "    punti_p2 = np.column_stack((x_rot, y_rot, z_rot))\n",
    "    \n",
    "\n",
    "\n",
    "    ##salva punti in file txt\n",
    "    punti_totali = np.vstack((punti_p1, punti_p2))\n",
    "    if pert==True:\n",
    "        punti_totali = np.vstack((punti_p1, punti_p2))+ noise\n",
    "    #np.savetxt(\"par/par\"+str(i+1)+\".txt\", punti_totali, fmt=\"%.6f\", delimiter=' ')\n",
    "   \n",
    "\n",
    "    ## Plot\n",
    "\n",
    "    fig = plt.figure()\n",
    "    ax = fig.add_subplot(111, projection='3d')\n",
    "\n",
    "\n",
    "    ax.plot(x, y, z,\n",
    "            marker='o', linestyle='-', color='blue', label='Par1')\n",
    "\n",
    "\n",
    "    ax.plot(x_rot, y_rot, z_rot,\n",
    "            marker='o', linestyle='-', color='red', label='Par2')\n",
    "\n",
    "    ax.plot(punti_totali[:,0],punti_totali[:,1],punti_totali[:,2],\n",
    "            marker='o', color='green', label='Par1')\n",
    "\n",
    "\n",
    "    ax.set_xlabel(\"X\")\n",
    "    ax.set_ylabel(\"Y\")\n",
    "    ax.set_zlabel(\"Z\")\n",
    "    ax.legend()\n",
    "    ax.set_box_aspect([1, 1, 1])\n",
    "    plt.show()\n",
    "\"\"\"\n",
    "    "
   ]
  },
  {
   "cell_type": "code",
   "execution_count": 1,
   "id": "ef5b13a6-16b9-4b1e-832a-6cdf74b02176",
   "metadata": {},
   "outputs": [],
   "source": [
    "import numpy as np\n",
    "import matplotlib.pyplot as plt\n",
    "from mpl_toolkits.mplot3d import Axes3D\n",
    "import math\n",
    "\n",
    "\n",
    "#parametri\n",
    "a=2 #eccentricità degli ellissi\n",
    "#t=30  #time_Steps\n",
    "#n=50 #n_punti\n",
    "\n",
    "for t in [20,30,40]:\n",
    "    for n in [20,30,40,50]:\n",
    "        \n",
    "        steps=int(2*t/3)\n",
    "        delta=a/steps #fino a tangenza\n",
    "        p=int(n/2)\n",
    "        pert=True\n",
    "        rotazione=True\n",
    "        angle=85\n",
    "        alpha = angle*np.pi/180 # angolo di rotazione per parabola 2\n",
    "\n",
    "\n",
    "        # Ellisse 1: sul piano xy (orizzontale, tratteggiata)\n",
    "        theta = np.linspace(0, 2 * np.pi, p)\n",
    "        x1 =  np.cos(theta)\n",
    "        y1 = a * np.sin(theta)\n",
    "        z1 = np.zeros_like(theta)\n",
    "\n",
    "\n",
    "        punti_p1=np.column_stack((x1, y1, z1))\n",
    "        # Ellisse 2: sul piano verticale (yz), sollevata verso l'alto\n",
    "          # semiassi\n",
    "        x2 = np.zeros_like(theta)\n",
    "        y2 = a * np.cos(theta) + a\n",
    "        z2 = np.sin(theta)\n",
    "        punti_p2=np.column_stack((x2, y2, z2))\n",
    "\n",
    "        \"\"\"\n",
    "        #aggiungi rotazione\n",
    "        if rotazione==True:\n",
    "            points = np.vstack((x2, y2, z2))  # forma (3, p)\n",
    "\n",
    "            # Matrice di rotazione attorno a Y\n",
    "            Ry = np.array([\n",
    "                [np.cos(alpha), 0, np.sin(alpha)],\n",
    "                [0, 1, 0],\n",
    "                [-np.sin(alpha), 0, np.cos(alpha)]\n",
    "            ])\n",
    "\n",
    "            # Rotazione: prodotto matrice x punti\n",
    "            points_rotated = Ry @ points\n",
    "\n",
    "            # Estraggo coordinate ruotate\n",
    "            x_rot= points_rotated[0, :]\n",
    "            y_rot = points_rotated[1, :]\n",
    "            z_rot = points_rotated[2, :]\n",
    "\n",
    "        punti_p2=np.column_stack((x_rot, y_rot, z_rot))\n",
    "\n",
    "        \"\"\"\n",
    "        punti_totali = np.vstack((punti_p1, punti_p2))\n",
    "\n",
    "        #----Add noise\n",
    "        perturbazione = 0.15 * math.dist(punti_p1[0],punti_p1[1]) #percentuale rispetto a dist tra pt adiacenti\n",
    "        noise = np.random.normal(0, perturbazione, size=punti_totali.shape)\n",
    "\n",
    "        if pert==True:\n",
    "            punti_totali = punti_totali+ noise\n",
    "        if rotazione==True:\n",
    "            np.savetxt(\"ell_n\"+str(n)+\"_t\"+str(t)+\"_r\"+str(angle)+\"/ell0.txt\", punti_totali, fmt=\"%.6f\", delimiter=' ')\n",
    "        else:\n",
    "            np.savetxt(\"ell_n\"+str(n)+\"_t\"+str(t)+\"/ell0.txt\", punti_totali, fmt=\"%.6f\", delimiter=' ')\n",
    "        \n",
    "\n",
    "      #  np.savetxt(\"ell_n\"+str(n)+\"_t\"+str(t)+\"_r/ell0.txt\", punti_totali, fmt=\"%.6f\", delimiter=' ')\n",
    "        #np.savetxt(\"ell_n\"+str(n)+\"_t\"+str(t)+\"_r\"+str(rot)+\"/ell0.txt\", punti_totali, fmt=\"%.6f\", delimiter=' ')\n",
    "\n",
    "\n",
    "\n",
    "        for i in range (steps+int(t/3)):\n",
    "            y2 = y2 + delta\n",
    "\n",
    "            punti_p2 = np.column_stack((x2, y2, z2))\n",
    "\n",
    "\n",
    "            ##salva punti in file txt\n",
    "            punti_totali = np.vstack((punti_p1, punti_p2))\n",
    "            if pert==True:\n",
    "                punti_totali = punti_totali + noise\n",
    "            if rotazione==True:\n",
    "                np.savetxt(\"ell_n\"+str(n)+\"_t\"+str(t)+\"_r\"+str(angle)+\"/ell\"+str(i+1)+\".txt\", punti_totali, fmt=\"%.6f\", delimiter=' ')\n",
    "            else:\n",
    "                np.savetxt(\"ell_n\"+str(n)+\"_t\"+str(t)+\"/ell\"+str(i+1)+\".txt\", punti_totali, fmt=\"%.6f\", delimiter=' ')\n",
    "            # Plotting\n",
    "            \"\"\"\n",
    "            fig = plt.figure()\n",
    "            ax = fig.add_subplot(111, projection='3d')\n",
    "\n",
    "            # Ellisse 1 (orizzontale, tratteggiata)\n",
    "            ax.plot(x1, y1, z1, 'r', linewidth=3)\n",
    "\n",
    "            # Ellisse 2 (verticale)\n",
    "            ax.plot(x2, y2, z2, 'b', linewidth=3)\n",
    "\n",
    "\n",
    "            # Etichette\n",
    "            ax.set_xlabel('X')\n",
    "            ax.set_ylabel('Y')\n",
    "            ax.set_zlabel('Z')\n",
    "\n",
    "\n",
    "            plt.show()\n",
    "\n",
    "            \"\"\""
   ]
  },
  {
   "cell_type": "code",
   "execution_count": 7,
   "id": "def05586-fa40-4c78-bf1a-fcd8b5fd2ecc",
   "metadata": {
    "tags": []
   },
   "outputs": [
    {
     "name": "stdout",
     "output_type": "stream",
     "text": [
      "5\n"
     ]
    }
   ],
   "source": [
    "alpha\n",
    "casa=False\n",
    "\n",
    "if casa==True:\n",
    "    print(4)\n",
    "else:\n",
    "        print(5)\n",
    "        "
   ]
  },
  {
   "cell_type": "code",
   "execution_count": 11,
   "id": "cb121c47-4afb-4ebb-ac9d-3f26dd94bc62",
   "metadata": {
    "tags": []
   },
   "outputs": [
    {
     "name": "stdout",
     "output_type": "stream",
     "text": [
      "-1.9931689860133397 1.9931689860133397 -0.9863613034027224 1.0\n",
      "0.027277393194555133 4.0 -0.9965844930066698 0.9965844930066698\n"
     ]
    }
   ],
   "source": [
    "print(min(y1),\n",
    "    max(y1),\n",
    "    min(x1),\n",
    "    max(x1))\n",
    "print(min(y2),\n",
    "    max(y2),\n",
    "    min(z2),\n",
    "    max(z2))"
   ]
  },
  {
   "cell_type": "code",
   "execution_count": 16,
   "id": "58b90c78-1080-4e18-92f5-fd86b035053b",
   "metadata": {},
   "outputs": [
    {
     "data": {
      "application/vnd.plotly.v1+json": {
       "config": {
        "plotlyServerURL": "https://plot.ly"
       },
       "data": [
        {
         "line": {
          "color": "blue",
          "dash": "dash"
         },
         "mode": "lines",
         "name": "Ellisse 1 (xy)",
         "type": "scatter3d",
         "x": [
          1,
          0.9659258262890683,
          0.8660254037844387,
          0.7071067811865476,
          0.5000000000000001,
          0.25881904510252096,
          6.123233995736766e-17,
          -0.25881904510252063,
          -0.4999999999999998,
          -0.7071067811865475,
          -0.8660254037844385,
          -0.9659258262890682,
          -1,
          -0.9659258262890684,
          -0.8660254037844388,
          -0.7071067811865479,
          -0.5000000000000004,
          -0.25881904510252146,
          -1.8369701987210297e-16,
          0.2588190451025203,
          0.4999999999999993,
          0.7071067811865474,
          0.8660254037844384,
          0.9659258262890681,
          1
         ],
         "y": [
          0,
          0.5176380902050415,
          0.9999999999999999,
          1.414213562373095,
          1.7320508075688772,
          1.9318516525781364,
          2,
          1.9318516525781366,
          1.7320508075688776,
          1.4142135623730951,
          1.0000000000000007,
          0.517638090205042,
          2.4492935982947064e-16,
          -0.5176380902050407,
          -0.9999999999999996,
          -1.4142135623730943,
          -1.7320508075688767,
          -1.9318516525781362,
          -2,
          -1.9318516525781368,
          -1.732050807568878,
          -1.4142135623730954,
          -1.0000000000000009,
          -0.517638090205043,
          -4.898587196589413e-16
         ],
         "z": [
          0,
          0,
          0,
          0,
          0,
          0,
          0,
          0,
          0,
          0,
          0,
          0,
          0,
          0,
          0,
          0,
          0,
          0,
          0,
          0,
          0,
          0,
          0,
          0,
          0
         ]
        },
        {
         "line": {
          "color": "green"
         },
         "mode": "lines",
         "name": "Ellisse 2 (yz)",
         "type": "scatter3d",
         "x": [
          0,
          0,
          0,
          0,
          0,
          0,
          0,
          0,
          0,
          0,
          0,
          0,
          0,
          0,
          0,
          0,
          0,
          0,
          0,
          0,
          0,
          0,
          0,
          0,
          0
         ],
         "y": [
          6.999999999999989,
          6.931851652578126,
          6.732050807568869,
          6.414213562373088,
          5.999999999999995,
          5.51763809020504,
          5.000000000000001,
          4.482361909794961,
          4.0000000000000036,
          3.5857864376269077,
          3.267949192431125,
          3.068148347421865,
          3.0000000000000013,
          3.0681483474218645,
          3.267949192431124,
          3.585786437626907,
          4.000000000000003,
          4.482361909794959,
          5,
          5.517638090205039,
          5.999999999999994,
          6.414213562373088,
          6.732050807568868,
          6.931851652578126,
          6.999999999999989
         ],
         "z": [
          0,
          0.25881904510252074,
          0.49999999999999994,
          0.7071067811865475,
          0.8660254037844386,
          0.9659258262890682,
          1,
          0.9659258262890683,
          0.8660254037844388,
          0.7071067811865476,
          0.5000000000000003,
          0.258819045102521,
          1.2246467991473532e-16,
          -0.25881904510252035,
          -0.4999999999999998,
          -0.7071067811865471,
          -0.8660254037844384,
          -0.9659258262890681,
          -1,
          -0.9659258262890684,
          -0.866025403784439,
          -0.7071067811865477,
          -0.5000000000000004,
          -0.2588190451025215,
          -2.4492935982947064e-16
         ]
        }
       ],
       "layout": {
        "height": 600,
        "scene": {
         "aspectmode": "data",
         "aspectratio": {
          "x": 0.6057068642773802,
          "y": 2.7256808892482076,
          "z": 0.6057068642773802
         },
         "camera": {
          "center": {
           "x": 0,
           "y": 0,
           "z": 0
          },
          "eye": {
           "x": 2.1204545316570504,
           "y": 0.2746753933623424,
           "z": 0.3401852546133089
          },
          "projection": {
           "type": "perspective"
          },
          "up": {
           "x": 0,
           "y": 0,
           "z": 1
          }
         },
         "xaxis": {
          "title": {
           "text": "X"
          },
          "type": "linear"
         },
         "yaxis": {
          "title": {
           "text": "Y"
          },
          "type": "linear"
         },
         "zaxis": {
          "title": {
           "text": "Z"
          },
          "type": "linear"
         }
        },
        "template": {
         "data": {
          "bar": [
           {
            "error_x": {
             "color": "#2a3f5f"
            },
            "error_y": {
             "color": "#2a3f5f"
            },
            "marker": {
             "line": {
              "color": "#E5ECF6",
              "width": 0.5
             },
             "pattern": {
              "fillmode": "overlay",
              "size": 10,
              "solidity": 0.2
             }
            },
            "type": "bar"
           }
          ],
          "barpolar": [
           {
            "marker": {
             "line": {
              "color": "#E5ECF6",
              "width": 0.5
             },
             "pattern": {
              "fillmode": "overlay",
              "size": 10,
              "solidity": 0.2
             }
            },
            "type": "barpolar"
           }
          ],
          "carpet": [
           {
            "aaxis": {
             "endlinecolor": "#2a3f5f",
             "gridcolor": "white",
             "linecolor": "white",
             "minorgridcolor": "white",
             "startlinecolor": "#2a3f5f"
            },
            "baxis": {
             "endlinecolor": "#2a3f5f",
             "gridcolor": "white",
             "linecolor": "white",
             "minorgridcolor": "white",
             "startlinecolor": "#2a3f5f"
            },
            "type": "carpet"
           }
          ],
          "choropleth": [
           {
            "colorbar": {
             "outlinewidth": 0,
             "ticks": ""
            },
            "type": "choropleth"
           }
          ],
          "contour": [
           {
            "colorbar": {
             "outlinewidth": 0,
             "ticks": ""
            },
            "colorscale": [
             [
              0,
              "#0d0887"
             ],
             [
              0.1111111111111111,
              "#46039f"
             ],
             [
              0.2222222222222222,
              "#7201a8"
             ],
             [
              0.3333333333333333,
              "#9c179e"
             ],
             [
              0.4444444444444444,
              "#bd3786"
             ],
             [
              0.5555555555555556,
              "#d8576b"
             ],
             [
              0.6666666666666666,
              "#ed7953"
             ],
             [
              0.7777777777777778,
              "#fb9f3a"
             ],
             [
              0.8888888888888888,
              "#fdca26"
             ],
             [
              1,
              "#f0f921"
             ]
            ],
            "type": "contour"
           }
          ],
          "contourcarpet": [
           {
            "colorbar": {
             "outlinewidth": 0,
             "ticks": ""
            },
            "type": "contourcarpet"
           }
          ],
          "heatmap": [
           {
            "colorbar": {
             "outlinewidth": 0,
             "ticks": ""
            },
            "colorscale": [
             [
              0,
              "#0d0887"
             ],
             [
              0.1111111111111111,
              "#46039f"
             ],
             [
              0.2222222222222222,
              "#7201a8"
             ],
             [
              0.3333333333333333,
              "#9c179e"
             ],
             [
              0.4444444444444444,
              "#bd3786"
             ],
             [
              0.5555555555555556,
              "#d8576b"
             ],
             [
              0.6666666666666666,
              "#ed7953"
             ],
             [
              0.7777777777777778,
              "#fb9f3a"
             ],
             [
              0.8888888888888888,
              "#fdca26"
             ],
             [
              1,
              "#f0f921"
             ]
            ],
            "type": "heatmap"
           }
          ],
          "heatmapgl": [
           {
            "colorbar": {
             "outlinewidth": 0,
             "ticks": ""
            },
            "colorscale": [
             [
              0,
              "#0d0887"
             ],
             [
              0.1111111111111111,
              "#46039f"
             ],
             [
              0.2222222222222222,
              "#7201a8"
             ],
             [
              0.3333333333333333,
              "#9c179e"
             ],
             [
              0.4444444444444444,
              "#bd3786"
             ],
             [
              0.5555555555555556,
              "#d8576b"
             ],
             [
              0.6666666666666666,
              "#ed7953"
             ],
             [
              0.7777777777777778,
              "#fb9f3a"
             ],
             [
              0.8888888888888888,
              "#fdca26"
             ],
             [
              1,
              "#f0f921"
             ]
            ],
            "type": "heatmapgl"
           }
          ],
          "histogram": [
           {
            "marker": {
             "pattern": {
              "fillmode": "overlay",
              "size": 10,
              "solidity": 0.2
             }
            },
            "type": "histogram"
           }
          ],
          "histogram2d": [
           {
            "colorbar": {
             "outlinewidth": 0,
             "ticks": ""
            },
            "colorscale": [
             [
              0,
              "#0d0887"
             ],
             [
              0.1111111111111111,
              "#46039f"
             ],
             [
              0.2222222222222222,
              "#7201a8"
             ],
             [
              0.3333333333333333,
              "#9c179e"
             ],
             [
              0.4444444444444444,
              "#bd3786"
             ],
             [
              0.5555555555555556,
              "#d8576b"
             ],
             [
              0.6666666666666666,
              "#ed7953"
             ],
             [
              0.7777777777777778,
              "#fb9f3a"
             ],
             [
              0.8888888888888888,
              "#fdca26"
             ],
             [
              1,
              "#f0f921"
             ]
            ],
            "type": "histogram2d"
           }
          ],
          "histogram2dcontour": [
           {
            "colorbar": {
             "outlinewidth": 0,
             "ticks": ""
            },
            "colorscale": [
             [
              0,
              "#0d0887"
             ],
             [
              0.1111111111111111,
              "#46039f"
             ],
             [
              0.2222222222222222,
              "#7201a8"
             ],
             [
              0.3333333333333333,
              "#9c179e"
             ],
             [
              0.4444444444444444,
              "#bd3786"
             ],
             [
              0.5555555555555556,
              "#d8576b"
             ],
             [
              0.6666666666666666,
              "#ed7953"
             ],
             [
              0.7777777777777778,
              "#fb9f3a"
             ],
             [
              0.8888888888888888,
              "#fdca26"
             ],
             [
              1,
              "#f0f921"
             ]
            ],
            "type": "histogram2dcontour"
           }
          ],
          "mesh3d": [
           {
            "colorbar": {
             "outlinewidth": 0,
             "ticks": ""
            },
            "type": "mesh3d"
           }
          ],
          "parcoords": [
           {
            "line": {
             "colorbar": {
              "outlinewidth": 0,
              "ticks": ""
             }
            },
            "type": "parcoords"
           }
          ],
          "pie": [
           {
            "automargin": true,
            "type": "pie"
           }
          ],
          "scatter": [
           {
            "fillpattern": {
             "fillmode": "overlay",
             "size": 10,
             "solidity": 0.2
            },
            "type": "scatter"
           }
          ],
          "scatter3d": [
           {
            "line": {
             "colorbar": {
              "outlinewidth": 0,
              "ticks": ""
             }
            },
            "marker": {
             "colorbar": {
              "outlinewidth": 0,
              "ticks": ""
             }
            },
            "type": "scatter3d"
           }
          ],
          "scattercarpet": [
           {
            "marker": {
             "colorbar": {
              "outlinewidth": 0,
              "ticks": ""
             }
            },
            "type": "scattercarpet"
           }
          ],
          "scattergeo": [
           {
            "marker": {
             "colorbar": {
              "outlinewidth": 0,
              "ticks": ""
             }
            },
            "type": "scattergeo"
           }
          ],
          "scattergl": [
           {
            "marker": {
             "colorbar": {
              "outlinewidth": 0,
              "ticks": ""
             }
            },
            "type": "scattergl"
           }
          ],
          "scattermapbox": [
           {
            "marker": {
             "colorbar": {
              "outlinewidth": 0,
              "ticks": ""
             }
            },
            "type": "scattermapbox"
           }
          ],
          "scatterpolar": [
           {
            "marker": {
             "colorbar": {
              "outlinewidth": 0,
              "ticks": ""
             }
            },
            "type": "scatterpolar"
           }
          ],
          "scatterpolargl": [
           {
            "marker": {
             "colorbar": {
              "outlinewidth": 0,
              "ticks": ""
             }
            },
            "type": "scatterpolargl"
           }
          ],
          "scatterternary": [
           {
            "marker": {
             "colorbar": {
              "outlinewidth": 0,
              "ticks": ""
             }
            },
            "type": "scatterternary"
           }
          ],
          "surface": [
           {
            "colorbar": {
             "outlinewidth": 0,
             "ticks": ""
            },
            "colorscale": [
             [
              0,
              "#0d0887"
             ],
             [
              0.1111111111111111,
              "#46039f"
             ],
             [
              0.2222222222222222,
              "#7201a8"
             ],
             [
              0.3333333333333333,
              "#9c179e"
             ],
             [
              0.4444444444444444,
              "#bd3786"
             ],
             [
              0.5555555555555556,
              "#d8576b"
             ],
             [
              0.6666666666666666,
              "#ed7953"
             ],
             [
              0.7777777777777778,
              "#fb9f3a"
             ],
             [
              0.8888888888888888,
              "#fdca26"
             ],
             [
              1,
              "#f0f921"
             ]
            ],
            "type": "surface"
           }
          ],
          "table": [
           {
            "cells": {
             "fill": {
              "color": "#EBF0F8"
             },
             "line": {
              "color": "white"
             }
            },
            "header": {
             "fill": {
              "color": "#C8D4E3"
             },
             "line": {
              "color": "white"
             }
            },
            "type": "table"
           }
          ]
         },
         "layout": {
          "annotationdefaults": {
           "arrowcolor": "#2a3f5f",
           "arrowhead": 0,
           "arrowwidth": 1
          },
          "autotypenumbers": "strict",
          "coloraxis": {
           "colorbar": {
            "outlinewidth": 0,
            "ticks": ""
           }
          },
          "colorscale": {
           "diverging": [
            [
             0,
             "#8e0152"
            ],
            [
             0.1,
             "#c51b7d"
            ],
            [
             0.2,
             "#de77ae"
            ],
            [
             0.3,
             "#f1b6da"
            ],
            [
             0.4,
             "#fde0ef"
            ],
            [
             0.5,
             "#f7f7f7"
            ],
            [
             0.6,
             "#e6f5d0"
            ],
            [
             0.7,
             "#b8e186"
            ],
            [
             0.8,
             "#7fbc41"
            ],
            [
             0.9,
             "#4d9221"
            ],
            [
             1,
             "#276419"
            ]
           ],
           "sequential": [
            [
             0,
             "#0d0887"
            ],
            [
             0.1111111111111111,
             "#46039f"
            ],
            [
             0.2222222222222222,
             "#7201a8"
            ],
            [
             0.3333333333333333,
             "#9c179e"
            ],
            [
             0.4444444444444444,
             "#bd3786"
            ],
            [
             0.5555555555555556,
             "#d8576b"
            ],
            [
             0.6666666666666666,
             "#ed7953"
            ],
            [
             0.7777777777777778,
             "#fb9f3a"
            ],
            [
             0.8888888888888888,
             "#fdca26"
            ],
            [
             1,
             "#f0f921"
            ]
           ],
           "sequentialminus": [
            [
             0,
             "#0d0887"
            ],
            [
             0.1111111111111111,
             "#46039f"
            ],
            [
             0.2222222222222222,
             "#7201a8"
            ],
            [
             0.3333333333333333,
             "#9c179e"
            ],
            [
             0.4444444444444444,
             "#bd3786"
            ],
            [
             0.5555555555555556,
             "#d8576b"
            ],
            [
             0.6666666666666666,
             "#ed7953"
            ],
            [
             0.7777777777777778,
             "#fb9f3a"
            ],
            [
             0.8888888888888888,
             "#fdca26"
            ],
            [
             1,
             "#f0f921"
            ]
           ]
          },
          "colorway": [
           "#636efa",
           "#EF553B",
           "#00cc96",
           "#ab63fa",
           "#FFA15A",
           "#19d3f3",
           "#FF6692",
           "#B6E880",
           "#FF97FF",
           "#FECB52"
          ],
          "font": {
           "color": "#2a3f5f"
          },
          "geo": {
           "bgcolor": "white",
           "lakecolor": "white",
           "landcolor": "#E5ECF6",
           "showlakes": true,
           "showland": true,
           "subunitcolor": "white"
          },
          "hoverlabel": {
           "align": "left"
          },
          "hovermode": "closest",
          "mapbox": {
           "style": "light"
          },
          "paper_bgcolor": "white",
          "plot_bgcolor": "#E5ECF6",
          "polar": {
           "angularaxis": {
            "gridcolor": "white",
            "linecolor": "white",
            "ticks": ""
           },
           "bgcolor": "#E5ECF6",
           "radialaxis": {
            "gridcolor": "white",
            "linecolor": "white",
            "ticks": ""
           }
          },
          "scene": {
           "xaxis": {
            "backgroundcolor": "#E5ECF6",
            "gridcolor": "white",
            "gridwidth": 2,
            "linecolor": "white",
            "showbackground": true,
            "ticks": "",
            "zerolinecolor": "white"
           },
           "yaxis": {
            "backgroundcolor": "#E5ECF6",
            "gridcolor": "white",
            "gridwidth": 2,
            "linecolor": "white",
            "showbackground": true,
            "ticks": "",
            "zerolinecolor": "white"
           },
           "zaxis": {
            "backgroundcolor": "#E5ECF6",
            "gridcolor": "white",
            "gridwidth": 2,
            "linecolor": "white",
            "showbackground": true,
            "ticks": "",
            "zerolinecolor": "white"
           }
          },
          "shapedefaults": {
           "line": {
            "color": "#2a3f5f"
           }
          },
          "ternary": {
           "aaxis": {
            "gridcolor": "white",
            "linecolor": "white",
            "ticks": ""
           },
           "baxis": {
            "gridcolor": "white",
            "linecolor": "white",
            "ticks": ""
           },
           "bgcolor": "#E5ECF6",
           "caxis": {
            "gridcolor": "white",
            "linecolor": "white",
            "ticks": ""
           }
          },
          "title": {
           "x": 0.05
          },
          "xaxis": {
           "automargin": true,
           "gridcolor": "white",
           "linecolor": "white",
           "ticks": "",
           "title": {
            "standoff": 15
           },
           "zerolinecolor": "white",
           "zerolinewidth": 2
          },
          "yaxis": {
           "automargin": true,
           "gridcolor": "white",
           "linecolor": "white",
           "ticks": "",
           "title": {
            "standoff": 15
           },
           "zerolinecolor": "white",
           "zerolinewidth": 2
          }
         }
        },
        "title": {
         "text": "Distanza minima tra due ellissi 3D (interattivo)"
        },
        "width": 800
       }
      },
      "image/png": "[encoded data removed]",
      "text/html": [
       "<div>                            <div id=\"b1009674-120d-4bda-b9e8-1bccf71095b1\" class=\"plotly-graph-div\" style=\"height:600px; width:800px;\"></div>            <script type=\"text/javascript\">                require([\"plotly\"], function(Plotly) {                    window.PLOTLYENV=window.PLOTLYENV || {};                                    if (document.getElementById(\"b1009674-120d-4bda-b9e8-1bccf71095b1\")) {                    Plotly.newPlot(                        \"b1009674-120d-4bda-b9e8-1bccf71095b1\",                        [{\"line\":{\"color\":\"blue\",\"dash\":\"dash\"},\"mode\":\"lines\",\"name\":\"Ellisse 1 (xy)\",\"x\":[1.0,0.9659258262890683,0.8660254037844387,0.7071067811865476,0.5000000000000001,0.25881904510252096,6.123233995736766e-17,-0.25881904510252063,-0.4999999999999998,-0.7071067811865475,-0.8660254037844385,-0.9659258262890682,-1.0,-0.9659258262890684,-0.8660254037844388,-0.7071067811865479,-0.5000000000000004,-0.25881904510252146,-1.8369701987210297e-16,0.2588190451025203,0.4999999999999993,0.7071067811865474,0.8660254037844384,0.9659258262890681,1.0],\"y\":[0.0,0.5176380902050415,0.9999999999999999,1.414213562373095,1.7320508075688772,1.9318516525781364,2.0,1.9318516525781366,1.7320508075688776,1.4142135623730951,1.0000000000000007,0.517638090205042,2.4492935982947064e-16,-0.5176380902050407,-0.9999999999999996,-1.4142135623730943,-1.7320508075688767,-1.9318516525781362,-2.0,-1.9318516525781368,-1.732050807568878,-1.4142135623730954,-1.0000000000000009,-0.517638090205043,-4.898587196589413e-16],\"z\":[0.0,0.0,0.0,0.0,0.0,0.0,0.0,0.0,0.0,0.0,0.0,0.0,0.0,0.0,0.0,0.0,0.0,0.0,0.0,0.0,0.0,0.0,0.0,0.0,0.0],\"type\":\"scatter3d\"},{\"line\":{\"color\":\"green\"},\"mode\":\"lines\",\"name\":\"Ellisse 2 (yz)\",\"x\":[0.0,0.0,0.0,0.0,0.0,0.0,0.0,0.0,0.0,0.0,0.0,0.0,0.0,0.0,0.0,0.0,0.0,0.0,0.0,0.0,0.0,0.0,0.0,0.0,0.0],\"y\":[6.999999999999989,6.931851652578126,6.732050807568869,6.414213562373088,5.999999999999995,5.51763809020504,5.000000000000001,4.482361909794961,4.0000000000000036,3.5857864376269077,3.267949192431125,3.068148347421865,3.0000000000000013,3.0681483474218645,3.267949192431124,3.585786437626907,4.000000000000003,4.482361909794959,5.0,5.517638090205039,5.999999999999994,6.414213562373088,6.732050807568868,6.931851652578126,6.999999999999989],\"z\":[0.0,0.25881904510252074,0.49999999999999994,0.7071067811865475,0.8660254037844386,0.9659258262890682,1.0,0.9659258262890683,0.8660254037844388,0.7071067811865476,0.5000000000000003,0.258819045102521,1.2246467991473532e-16,-0.25881904510252035,-0.4999999999999998,-0.7071067811865471,-0.8660254037844384,-0.9659258262890681,-1.0,-0.9659258262890684,-0.866025403784439,-0.7071067811865477,-0.5000000000000004,-0.2588190451025215,-2.4492935982947064e-16],\"type\":\"scatter3d\"}],                        {\"template\":{\"data\":{\"histogram2dcontour\":[{\"type\":\"histogram2dcontour\",\"colorbar\":{\"outlinewidth\":0,\"ticks\":\"\"},\"colorscale\":[[0.0,\"#0d0887\"],[0.1111111111111111,\"#46039f\"],[0.2222222222222222,\"#7201a8\"],[0.3333333333333333,\"#9c179e\"],[0.4444444444444444,\"#bd3786\"],[0.5555555555555556,\"#d8576b\"],[0.6666666666666666,\"#ed7953\"],[0.7777777777777778,\"#fb9f3a\"],[0.8888888888888888,\"#fdca26\"],[1.0,\"#f0f921\"]]}],\"choropleth\":[{\"type\":\"choropleth\",\"colorbar\":{\"outlinewidth\":0,\"ticks\":\"\"}}],\"histogram2d\":[{\"type\":\"histogram2d\",\"colorbar\":{\"outlinewidth\":0,\"ticks\":\"\"},\"colorscale\":[[0.0,\"#0d0887\"],[0.1111111111111111,\"#46039f\"],[0.2222222222222222,\"#7201a8\"],[0.3333333333333333,\"#9c179e\"],[0.4444444444444444,\"#bd3786\"],[0.5555555555555556,\"#d8576b\"],[0.6666666666666666,\"#ed7953\"],[0.7777777777777778,\"#fb9f3a\"],[0.8888888888888888,\"#fdca26\"],[1.0,\"#f0f921\"]]}],\"heatmap\":[{\"type\":\"heatmap\",\"colorbar\":{\"outlinewidth\":0,\"ticks\":\"\"},\"colorscale\":[[0.0,\"#0d0887\"],[0.1111111111111111,\"#46039f\"],[0.2222222222222222,\"#7201a8\"],[0.3333333333333333,\"#9c179e\"],[0.4444444444444444,\"#bd3786\"],[0.5555555555555556,\"#d8576b\"],[0.6666666666666666,\"#ed7953\"],[0.7777777777777778,\"#fb9f3a\"],[0.8888888888888888,\"#fdca26\"],[1.0,\"#f0f921\"]]}],\"heatmapgl\":[{\"type\":\"heatmapgl\",\"colorbar\":{\"outlinewidth\":0,\"ticks\":\"\"},\"colorscale\":[[0.0,\"#0d0887\"],[0.1111111111111111,\"#46039f\"],[0.2222222222222222,\"#7201a8\"],[0.3333333333333333,\"#9c179e\"],[0.4444444444444444,\"#bd3786\"],[0.5555555555555556,\"#d8576b\"],[0.6666666666666666,\"#ed7953\"],[0.7777777777777778,\"#fb9f3a\"],[0.8888888888888888,\"#fdca26\"],[1.0,\"#f0f921\"]]}],\"contourcarpet\":[{\"type\":\"contourcarpet\",\"colorbar\":{\"outlinewidth\":0,\"ticks\":\"\"}}],\"contour\":[{\"type\":\"contour\",\"colorbar\":{\"outlinewidth\":0,\"ticks\":\"\"},\"colorscale\":[[0.0,\"#0d0887\"],[0.1111111111111111,\"#46039f\"],[0.2222222222222222,\"#7201a8\"],[0.3333333333333333,\"#9c179e\"],[0.4444444444444444,\"#bd3786\"],[0.5555555555555556,\"#d8576b\"],[0.6666666666666666,\"#ed7953\"],[0.7777777777777778,\"#fb9f3a\"],[0.8888888888888888,\"#fdca26\"],[1.0,\"#f0f921\"]]}],\"surface\":[{\"type\":\"surface\",\"colorbar\":{\"outlinewidth\":0,\"ticks\":\"\"},\"colorscale\":[[0.0,\"#0d0887\"],[0.1111111111111111,\"#46039f\"],[0.2222222222222222,\"#7201a8\"],[0.3333333333333333,\"#9c179e\"],[0.4444444444444444,\"#bd3786\"],[0.5555555555555556,\"#d8576b\"],[0.6666666666666666,\"#ed7953\"],[0.7777777777777778,\"#fb9f3a\"],[0.8888888888888888,\"#fdca26\"],[1.0,\"#f0f921\"]]}],\"mesh3d\":[{\"type\":\"mesh3d\",\"colorbar\":{\"outlinewidth\":0,\"ticks\":\"\"}}],\"scatter\":[{\"fillpattern\":{\"fillmode\":\"overlay\",\"size\":10,\"solidity\":0.2},\"type\":\"scatter\"}],\"parcoords\":[{\"type\":\"parcoords\",\"line\":{\"colorbar\":{\"outlinewidth\":0,\"ticks\":\"\"}}}],\"scatterpolargl\":[{\"type\":\"scatterpolargl\",\"marker\":{\"colorbar\":{\"outlinewidth\":0,\"ticks\":\"\"}}}],\"bar\":[{\"error_x\":{\"color\":\"#2a3f5f\"},\"error_y\":{\"color\":\"#2a3f5f\"},\"marker\":{\"line\":{\"color\":\"#E5ECF6\",\"width\":0.5},\"pattern\":{\"fillmode\":\"overlay\",\"size\":10,\"solidity\":0.2}},\"type\":\"bar\"}],\"scattergeo\":[{\"type\":\"scattergeo\",\"marker\":{\"colorbar\":{\"outlinewidth\":0,\"ticks\":\"\"}}}],\"scatterpolar\":[{\"type\":\"scatterpolar\",\"marker\":{\"colorbar\":{\"outlinewidth\":0,\"ticks\":\"\"}}}],\"histogram\":[{\"marker\":{\"pattern\":{\"fillmode\":\"overlay\",\"size\":10,\"solidity\":0.2}},\"type\":\"histogram\"}],\"scattergl\":[{\"type\":\"scattergl\",\"marker\":{\"colorbar\":{\"outlinewidth\":0,\"ticks\":\"\"}}}],\"scatter3d\":[{\"type\":\"scatter3d\",\"line\":{\"colorbar\":{\"outlinewidth\":0,\"ticks\":\"\"}},\"marker\":{\"colorbar\":{\"outlinewidth\":0,\"ticks\":\"\"}}}],\"scattermapbox\":[{\"type\":\"scattermapbox\",\"marker\":{\"colorbar\":{\"outlinewidth\":0,\"ticks\":\"\"}}}],\"scatterternary\":[{\"type\":\"scatterternary\",\"marker\":{\"colorbar\":{\"outlinewidth\":0,\"ticks\":\"\"}}}],\"scattercarpet\":[{\"type\":\"scattercarpet\",\"marker\":{\"colorbar\":{\"outlinewidth\":0,\"ticks\":\"\"}}}],\"carpet\":[{\"aaxis\":{\"endlinecolor\":\"#2a3f5f\",\"gridcolor\":\"white\",\"linecolor\":\"white\",\"minorgridcolor\":\"white\",\"startlinecolor\":\"#2a3f5f\"},\"baxis\":{\"endlinecolor\":\"#2a3f5f\",\"gridcolor\":\"white\",\"linecolor\":\"white\",\"minorgridcolor\":\"white\",\"startlinecolor\":\"#2a3f5f\"},\"type\":\"carpet\"}],\"table\":[{\"cells\":{\"fill\":{\"color\":\"#EBF0F8\"},\"line\":{\"color\":\"white\"}},\"header\":{\"fill\":{\"color\":\"#C8D4E3\"},\"line\":{\"color\":\"white\"}},\"type\":\"table\"}],\"barpolar\":[{\"marker\":{\"line\":{\"color\":\"#E5ECF6\",\"width\":0.5},\"pattern\":{\"fillmode\":\"overlay\",\"size\":10,\"solidity\":0.2}},\"type\":\"barpolar\"}],\"pie\":[{\"automargin\":true,\"type\":\"pie\"}]},\"layout\":{\"autotypenumbers\":\"strict\",\"colorway\":[\"#636efa\",\"#EF553B\",\"#00cc96\",\"#ab63fa\",\"#FFA15A\",\"#19d3f3\",\"#FF6692\",\"#B6E880\",\"#FF97FF\",\"#FECB52\"],\"font\":{\"color\":\"#2a3f5f\"},\"hovermode\":\"closest\",\"hoverlabel\":{\"align\":\"left\"},\"paper_bgcolor\":\"white\",\"plot_bgcolor\":\"#E5ECF6\",\"polar\":{\"bgcolor\":\"#E5ECF6\",\"angularaxis\":{\"gridcolor\":\"white\",\"linecolor\":\"white\",\"ticks\":\"\"},\"radialaxis\":{\"gridcolor\":\"white\",\"linecolor\":\"white\",\"ticks\":\"\"}},\"ternary\":{\"bgcolor\":\"#E5ECF6\",\"aaxis\":{\"gridcolor\":\"white\",\"linecolor\":\"white\",\"ticks\":\"\"},\"baxis\":{\"gridcolor\":\"white\",\"linecolor\":\"white\",\"ticks\":\"\"},\"caxis\":{\"gridcolor\":\"white\",\"linecolor\":\"white\",\"ticks\":\"\"}},\"coloraxis\":{\"colorbar\":{\"outlinewidth\":0,\"ticks\":\"\"}},\"colorscale\":{\"sequential\":[[0.0,\"#0d0887\"],[0.1111111111111111,\"#46039f\"],[0.2222222222222222,\"#7201a8\"],[0.3333333333333333,\"#9c179e\"],[0.4444444444444444,\"#bd3786\"],[0.5555555555555556,\"#d8576b\"],[0.6666666666666666,\"#ed7953\"],[0.7777777777777778,\"#fb9f3a\"],[0.8888888888888888,\"#fdca26\"],[1.0,\"#f0f921\"]],\"sequentialminus\":[[0.0,\"#0d0887\"],[0.1111111111111111,\"#46039f\"],[0.2222222222222222,\"#7201a8\"],[0.3333333333333333,\"#9c179e\"],[0.4444444444444444,\"#bd3786\"],[0.5555555555555556,\"#d8576b\"],[0.6666666666666666,\"#ed7953\"],[0.7777777777777778,\"#fb9f3a\"],[0.8888888888888888,\"#fdca26\"],[1.0,\"#f0f921\"]],\"diverging\":[[0,\"#8e0152\"],[0.1,\"#c51b7d\"],[0.2,\"#de77ae\"],[0.3,\"#f1b6da\"],[0.4,\"#fde0ef\"],[0.5,\"#f7f7f7\"],[0.6,\"#e6f5d0\"],[0.7,\"#b8e186\"],[0.8,\"#7fbc41\"],[0.9,\"#4d9221\"],[1,\"#276419\"]]},\"xaxis\":{\"gridcolor\":\"white\",\"linecolor\":\"white\",\"ticks\":\"\",\"title\":{\"standoff\":15},\"zerolinecolor\":\"white\",\"automargin\":true,\"zerolinewidth\":2},\"yaxis\":{\"gridcolor\":\"white\",\"linecolor\":\"white\",\"ticks\":\"\",\"title\":{\"standoff\":15},\"zerolinecolor\":\"white\",\"automargin\":true,\"zerolinewidth\":2},\"scene\":{\"xaxis\":{\"backgroundcolor\":\"#E5ECF6\",\"gridcolor\":\"white\",\"linecolor\":\"white\",\"showbackground\":true,\"ticks\":\"\",\"zerolinecolor\":\"white\",\"gridwidth\":2},\"yaxis\":{\"backgroundcolor\":\"#E5ECF6\",\"gridcolor\":\"white\",\"linecolor\":\"white\",\"showbackground\":true,\"ticks\":\"\",\"zerolinecolor\":\"white\",\"gridwidth\":2},\"zaxis\":{\"backgroundcolor\":\"#E5ECF6\",\"gridcolor\":\"white\",\"linecolor\":\"white\",\"showbackground\":true,\"ticks\":\"\",\"zerolinecolor\":\"white\",\"gridwidth\":2}},\"shapedefaults\":{\"line\":{\"color\":\"#2a3f5f\"}},\"annotationdefaults\":{\"arrowcolor\":\"#2a3f5f\",\"arrowhead\":0,\"arrowwidth\":1},\"geo\":{\"bgcolor\":\"white\",\"landcolor\":\"#E5ECF6\",\"subunitcolor\":\"white\",\"showland\":true,\"showlakes\":true,\"lakecolor\":\"white\"},\"title\":{\"x\":0.05},\"mapbox\":{\"style\":\"light\"}}},\"scene\":{\"xaxis\":{\"title\":{\"text\":\"X\"}},\"yaxis\":{\"title\":{\"text\":\"Y\"}},\"zaxis\":{\"title\":{\"text\":\"Z\"}},\"aspectmode\":\"data\"},\"title\":{\"text\":\"Distanza minima tra due ellissi 3D (interattivo)\"},\"width\":800,\"height\":600},                        {\"responsive\": true}                    ).then(function(){\n",
       "                            \n",
       "var gd = document.getElementById('b1009674-120d-4bda-b9e8-1bccf71095b1');\n",
       "var x = new MutationObserver(function (mutations, observer) {{\n",
       "        var display = window.getComputedStyle(gd).display;\n",
       "        if (!display || display === 'none') {{\n",
       "            console.log([gd, 'removed!']);\n",
       "            Plotly.purge(gd);\n",
       "            observer.disconnect();\n",
       "        }}\n",
       "}});\n",
       "\n",
       "// Listen for the removal of the full notebook cells\n",
       "var notebookContainer = gd.closest('#notebook-container');\n",
       "if (notebookContainer) {{\n",
       "    x.observe(notebookContainer, {childList: true});\n",
       "}}\n",
       "\n",
       "// Listen for the clearing of the current output cell\n",
       "var outputEl = gd.closest('.output');\n",
       "if (outputEl) {{\n",
       "    x.observe(outputEl, {childList: true});\n",
       "}}\n",
       "\n",
       "                        })                };                });            </script>        </div>"
      ]
     },
     "metadata": {},
     "output_type": "display_data"
    }
   ],
   "source": [
    "import plotly.graph_objects as go\n",
    "fig = go.Figure()\n",
    "\n",
    "# Ellisse 1\n",
    "fig.add_trace(go.Scatter3d(\n",
    "    x=x1, y=y1, z=z1,\n",
    "    mode='lines',\n",
    "    name='Ellisse 1 (xy)',\n",
    "    line=dict(color='blue', dash='dash')\n",
    "))\n",
    "\n",
    "# Ellisse 2\n",
    "fig.add_trace(go.Scatter3d(\n",
    "    x=x2, y=y2, z=z2,\n",
    "    mode='lines',\n",
    "    name='Ellisse 2 (yz)',\n",
    "    line=dict(color='green')\n",
    "))\n",
    "\n",
    "# Layout\n",
    "fig.update_layout(\n",
    "    title='Distanza minima tra due ellissi 3D (interattivo)',\n",
    "    scene=dict(\n",
    "        xaxis_title='X',\n",
    "        yaxis_title='Y',\n",
    "        zaxis_title='Z',\n",
    "        aspectmode='data'  # scala proporzionale\n",
    "    ),\n",
    "    width=800,\n",
    "    height=600\n",
    ")\n",
    "\n",
    "fig.show()\n"
   ]
  },
  {
   "cell_type": "code",
   "execution_count": null,
   "id": "b487e764-6641-4efd-9272-6517e09ba024",
   "metadata": {},
   "outputs": [],
   "source": []
  }
 ],
 "metadata": {
  "kernelspec": {
   "display_name": "Python 3 (ipykernel)",
   "language": "python",
   "name": "python3"
  },
  "language_info": {
   "codemirror_mode": {
    "name": "ipython",
    "version": 3
   },
   "file_extension": ".py",
   "mimetype": "text/x-python",
   "name": "python",
   "nbconvert_exporter": "python",
   "pygments_lexer": "ipython3",
   "version": "3.12.2"
  }
 },
 "nbformat": 4,
 "nbformat_minor": 5
}
