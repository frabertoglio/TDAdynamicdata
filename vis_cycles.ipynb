{
 "cells": [
  {
   "cell_type": "code",
   "execution_count": 8,
   "id": "dd072286-c7de-4fe0-97a3-cde0827d9673",
   "metadata": {
    "tags": []
   },
   "outputs": [],
   "source": [
    "import numpy as np\n",
    "import pandas as pd\n",
    "import matplotlib.pyplot as plt\n",
    "import plotly.graph_objects as go\n",
    "from plotly.subplots import make_subplots\n",
    "import plotly.express as px\n",
    "import json\n",
    "from pathlib import Path\n"
   ]
  },
  {
   "cell_type": "code",
   "execution_count": 2,
   "id": "49cdc488-4bc4-4959-8328-03e311eeea08",
   "metadata": {
    "tags": []
   },
   "outputs": [],
   "source": [
    "COLOR_PALETTE = [\"#c55d88\",\n",
    "\"#57a75a\",\n",
    "\"#b45ac2\",\n",
    "\"#9c9c3e\",\n",
    "\"#7179cb\",\n",
    "\"#c98443\",\n",
    "\"#45b2c4\",\n",
    "\"#cb4f42\"]"
   ]
  },
  {
   "cell_type": "code",
   "execution_count": 3,
   "id": "7033e984-71e9-4980-a4f1-f792582e12bb",
   "metadata": {
    "tags": []
   },
   "outputs": [],
   "source": [
    "def plot(data):\n",
    "    df = pd.DataFrame.from_records(data, columns=['X', 'Y', 'Z'])\n",
    "    fig = go.Figure()\n",
    "    fig.add_trace(go.Scatter3d(\n",
    "    x=df['X'], y=df['Y'], z=df['Z'], \n",
    "    name = 'Knot',    \n",
    "    mode = 'lines',    \n",
    "    marker=dict(\n",
    "        size=8,\n",
    "        color = 'grey'\n",
    "    ),\n",
    "        \n",
    "    line=dict(\n",
    "        width=8,\n",
    "        color =  'grey',)\n",
    "        ,\n",
    "    ))\n",
    "    fig.update_layout(scene=dict(xaxis = dict(\n",
    "                         backgroundcolor=\"rgb(200, 200, 230)\",\n",
    "                         gridcolor='rgba(0,0,0,0)',\n",
    "                         showbackground=False,\n",
    "                         zerolinecolor='rgba(0,0,0,0)',showticklabels=False,),\n",
    "    yaxis = dict(\n",
    "                         backgroundcolor=\"rgb(200, 200, 230)\",\n",
    "                         gridcolor='rgba(0,0,0,0)',\n",
    "                         showbackground=False,\n",
    "                         zerolinecolor='rgba(0,0,0,0)',showticklabels=False),\n",
    "               zaxis = dict(\n",
    "                         backgroundcolor=\"rgb(200, 200, 230)\",\n",
    "                         gridcolor='rgba(0,0,0,0)',\n",
    "                         showbackground=False,\n",
    "                         zerolinecolor='rgba(0,0,0,0)',showticklabels=False),\n",
    "        ))\n",
    "                  \n",
    "    fig.update_layout(scene = dict(\n",
    "                    xaxis_title=' ',\n",
    "                    yaxis_title=' ',\n",
    "                    zaxis_title=' '))\n",
    "    return fig\n",
    "\n",
    "\n",
    "def plot_cycle(data,cycle, fig, color, label):\n",
    "    cycle = [a-1 for a in cycle]\n",
    "    cycle = [data[a] for a in cycle]\n",
    "    df = pd.DataFrame.from_records(cycle, columns=['X', 'Y', 'Z'])\n",
    "    fig.add_trace(go.Scatter3d(\n",
    "    x=df['X'], y=df['Y'], z=df['Z'], \n",
    "    name = label,    \n",
    "    mode= 'markers',    \n",
    "    marker=dict(\n",
    "        size=8,\n",
    "        color = color\n",
    "    ),\n",
    "        \n",
    "    line=dict(\n",
    "        width=8,\n",
    "        color = color)\n",
    "        ,\n",
    "    ))\n",
    "    fig.update_layout(scene=dict(xaxis = dict(\n",
    "                         backgroundcolor=\"rgb(200, 200, 230)\",\n",
    "                         gridcolor='rgba(0,0,0,0)',\n",
    "                         showbackground=False,\n",
    "                         zerolinecolor='rgba(0,0,0,0)',showticklabels=False,),\n",
    "    yaxis = dict(\n",
    "                         backgroundcolor=\"rgb(200, 200, 230)\",\n",
    "                         gridcolor='rgba(0,0,0,0)',\n",
    "                         showbackground=False,\n",
    "                         zerolinecolor='rgba(0,0,0,0)',showticklabels=False),\n",
    "               zaxis = dict(\n",
    "                         backgroundcolor=\"rgb(200, 200, 230)\",\n",
    "                         gridcolor='rgba(0,0,0,0)',\n",
    "                         showbackground=False,\n",
    "                         zerolinecolor='rgba(0,0,0,0)',showticklabels=False),\n",
    "        ))\n",
    "                  \n",
    "    fig.update_layout(scene = dict(\n",
    "                    xaxis_title=' ',\n",
    "                    yaxis_title=' ',\n",
    "                    zaxis_title=' '))\n",
    "    return fig   \n",
    "    "
   ]
  },
  {
   "cell_type": "code",
   "execution_count": null,
   "id": "3144889b-5c3d-48df-839f-018219d73bcb",
   "metadata": {
    "tags": []
   },
   "outputs": [],
   "source": []
  },
  {
   "cell_type": "code",
   "execution_count": 9,
   "id": "23570d53-65b0-48b8-a5f1-b3eb8ad23732",
   "metadata": {},
   "outputs": [],
   "source": [
    "##---Inputs\n",
    "name = \"rings\"\n",
    "step = 10\n",
    "base_path = Path.cwd()\n",
    "\n",
    "curve = np.loadtxt(base_path / \"simulations\" / name / f\"{name}{step}.txt\")\n",
    "#curve = load_step(name, step)"
   ]
  },
  {
   "cell_type": "code",
   "execution_count": 11,
   "id": "f3b0788a-71ba-4454-ac55-33cd500a59aa",
   "metadata": {
    "tags": []
   },
   "outputs": [],
   "source": [
    "file_path = base_path / \"PH\" / f\"PH_{name}\" / f\"PH_{step}.json\"\n",
    "\n",
    "with open(file_path, \"r\") as f:\n",
    "    PH = json.load(f)\n"
   ]
  },
  {
   "cell_type": "code",
   "execution_count": 12,
   "id": "0b461d01-8958-47c0-a558-7d0071222dfe",
   "metadata": {
    "tags": []
   },
   "outputs": [
    {
     "data": {
      "text/plain": [
       "[[3.0676849739870615, 2.764037556803272],\n",
       " [10.593104072512881, 8.310983187729537]]"
      ]
     },
     "execution_count": 12,
     "metadata": {},
     "output_type": "execute_result"
    }
   ],
   "source": [
    "PH['barcode']"
   ]
  },
  {
   "cell_type": "code",
   "execution_count": 13,
   "id": "a2de601e-91bb-40f2-bd87-14465381413c",
   "metadata": {
    "tags": []
   },
   "outputs": [],
   "source": [
    "PH[\"representatives\"];"
   ]
  },
  {
   "cell_type": "code",
   "execution_count": 14,
   "id": "23302bca-a767-4e67-9d11-b92b14b36901",
   "metadata": {
    "tags": []
   },
   "outputs": [],
   "source": [
    "fig = plot(curve)"
   ]
  },
  {
   "cell_type": "code",
   "execution_count": 15,
   "id": "28076536-aeb9-4157-a225-801e68906b32",
   "metadata": {
    "tags": []
   },
   "outputs": [
    {
     "data": {
      "application/vnd.plotly.v1+json": {
       "config": {
        "plotlyServerURL": "https://plot.ly"
       },
       "data": [
        {
         "line": {
          "color": "grey",
          "width": 8
         },
         "marker": {
          "color": "grey",
          "size": 8
         },
         "mode": "lines",
         "name": "Knot",
         "type": "scatter3d",
         "x": {
          "bdata": "DWyVYHFIIMDwpfCg2QUbwAbYR6eunBHAOPktOlkKDsBBLQYP034NwGWLpN3ogxHAX16AfXQKF8A8SiU8oZccwFjjbDoCcCLAn47HDFSmJsBYVwVqMWApwI9srprn6CnAPSe9b3wFKsCXyXA8n+knwE6dR8X/vSTAySHi5lRCIUA5K6Im+owgQMxjzcggNxtAFJhO6zb4EECCAYQPJRr9P6GgFK3cC+S/c9anHJNlAcCq1sIstFMJwGmoUUgyCw3ALQlQU8s2AcALRE/KpIblv8Wtghjo2v4/r1qZ8EvtEUAD6zh+qIQZQMzQeCKISyBA",
          "dtype": "f8"
         },
         "y": {
          "bdata": "JTs2AvH6C0BOtRZmoR0QQIOFkzR/LA5AISOgwhGEDkBfeZCeIkcLQEhuTbot8QpAzv5AuW3/DEDkaI6s/PILQEWeJF0zuQpAaahRSDIrDUBAUdmwprILQG3IPzOIbwpAS1ZFuMkIDUBdbcX+spsNQLzoK0gzNgtANqypLAq7CkDLu+oB8xAZQLQ8D+7OCiBAejiB6bSGIkAn3CvzVq0jQDi/YaJBqiFAntFWJZEdHUAWTtL8MR0UQDlFR3L5DwRAdQRws3ixxr8R/kXQmEn9vztwzojS3gPAGY9SCU9oAsBtcvikE4nyv8WM8PYgBO0/",
          "dtype": "f8"
         },
         "z": {
          "bdata": "76tyofK/EUBgyyvX2xYRQMSxLm6jwQZAm6vmOSKf9j+zlZf8T/7ov/WgoBStHATAAfp9/+blEcAAqyNHOpMTwP9AuW3f4xPAo8ow7gaxEcDfF5eqtOUCwEfku5S6ZOe/nFPJAFAF9j8tIR/0bNYHQET9LmzNBhBARgpl4evr4L89ZMqHoGrKv6QzMPKyJte/bO7of7kW4r8jZ2FPO/zLv9KowMk2cL+/bJih8UQQz78GL/oK0ozQv3/eVKTC2Nm/vFruzATD4L8NqDej5qvevxWOIJViR8u/4E237BD/1b8EIVnABG7Dv7ZpbK8Fvda/",
          "dtype": "f8"
         }
        }
       ],
       "layout": {
        "scene": {
         "xaxis": {
          "backgroundcolor": "rgb(200, 200, 230)",
          "gridcolor": "rgba(0,0,0,0)",
          "showbackground": false,
          "showticklabels": false,
          "title": {
           "text": " "
          },
          "zerolinecolor": "rgba(0,0,0,0)"
         },
         "yaxis": {
          "backgroundcolor": "rgb(200, 200, 230)",
          "gridcolor": "rgba(0,0,0,0)",
          "showbackground": false,
          "showticklabels": false,
          "title": {
           "text": " "
          },
          "zerolinecolor": "rgba(0,0,0,0)"
         },
         "zaxis": {
          "backgroundcolor": "rgb(200, 200, 230)",
          "gridcolor": "rgba(0,0,0,0)",
          "showbackground": false,
          "showticklabels": false,
          "title": {
           "text": " "
          },
          "zerolinecolor": "rgba(0,0,0,0)"
         }
        },
        "template": {
         "data": {
          "bar": [
           {
            "error_x": {
             "color": "#2a3f5f"
            },
            "error_y": {
             "color": "#2a3f5f"
            },
            "marker": {
             "line": {
              "color": "#E5ECF6",
              "width": 0.5
             },
             "pattern": {
              "fillmode": "overlay",
              "size": 10,
              "solidity": 0.2
             }
            },
            "type": "bar"
           }
          ],
          "barpolar": [
           {
            "marker": {
             "line": {
              "color": "#E5ECF6",
              "width": 0.5
             },
             "pattern": {
              "fillmode": "overlay",
              "size": 10,
              "solidity": 0.2
             }
            },
            "type": "barpolar"
           }
          ],
          "carpet": [
           {
            "aaxis": {
             "endlinecolor": "#2a3f5f",
             "gridcolor": "white",
             "linecolor": "white",
             "minorgridcolor": "white",
             "startlinecolor": "#2a3f5f"
            },
            "baxis": {
             "endlinecolor": "#2a3f5f",
             "gridcolor": "white",
             "linecolor": "white",
             "minorgridcolor": "white",
             "startlinecolor": "#2a3f5f"
            },
            "type": "carpet"
           }
          ],
          "choropleth": [
           {
            "colorbar": {
             "outlinewidth": 0,
             "ticks": ""
            },
            "type": "choropleth"
           }
          ],
          "contour": [
           {
            "colorbar": {
             "outlinewidth": 0,
             "ticks": ""
            },
            "colorscale": [
             [
              0,
              "#0d0887"
             ],
             [
              0.1111111111111111,
              "#46039f"
             ],
             [
              0.2222222222222222,
              "#7201a8"
             ],
             [
              0.3333333333333333,
              "#9c179e"
             ],
             [
              0.4444444444444444,
              "#bd3786"
             ],
             [
              0.5555555555555556,
              "#d8576b"
             ],
             [
              0.6666666666666666,
              "#ed7953"
             ],
             [
              0.7777777777777778,
              "#fb9f3a"
             ],
             [
              0.8888888888888888,
              "#fdca26"
             ],
             [
              1,
              "#f0f921"
             ]
            ],
            "type": "contour"
           }
          ],
          "contourcarpet": [
           {
            "colorbar": {
             "outlinewidth": 0,
             "ticks": ""
            },
            "type": "contourcarpet"
           }
          ],
          "heatmap": [
           {
            "colorbar": {
             "outlinewidth": 0,
             "ticks": ""
            },
            "colorscale": [
             [
              0,
              "#0d0887"
             ],
             [
              0.1111111111111111,
              "#46039f"
             ],
             [
              0.2222222222222222,
              "#7201a8"
             ],
             [
              0.3333333333333333,
              "#9c179e"
             ],
             [
              0.4444444444444444,
              "#bd3786"
             ],
             [
              0.5555555555555556,
              "#d8576b"
             ],
             [
              0.6666666666666666,
              "#ed7953"
             ],
             [
              0.7777777777777778,
              "#fb9f3a"
             ],
             [
              0.8888888888888888,
              "#fdca26"
             ],
             [
              1,
              "#f0f921"
             ]
            ],
            "type": "heatmap"
           }
          ],
          "histogram": [
           {
            "marker": {
             "pattern": {
              "fillmode": "overlay",
              "size": 10,
              "solidity": 0.2
             }
            },
            "type": "histogram"
           }
          ],
          "histogram2d": [
           {
            "colorbar": {
             "outlinewidth": 0,
             "ticks": ""
            },
            "colorscale": [
             [
              0,
              "#0d0887"
             ],
             [
              0.1111111111111111,
              "#46039f"
             ],
             [
              0.2222222222222222,
              "#7201a8"
             ],
             [
              0.3333333333333333,
              "#9c179e"
             ],
             [
              0.4444444444444444,
              "#bd3786"
             ],
             [
              0.5555555555555556,
              "#d8576b"
             ],
             [
              0.6666666666666666,
              "#ed7953"
             ],
             [
              0.7777777777777778,
              "#fb9f3a"
             ],
             [
              0.8888888888888888,
              "#fdca26"
             ],
             [
              1,
              "#f0f921"
             ]
            ],
            "type": "histogram2d"
           }
          ],
          "histogram2dcontour": [
           {
            "colorbar": {
             "outlinewidth": 0,
             "ticks": ""
            },
            "colorscale": [
             [
              0,
              "#0d0887"
             ],
             [
              0.1111111111111111,
              "#46039f"
             ],
             [
              0.2222222222222222,
              "#7201a8"
             ],
             [
              0.3333333333333333,
              "#9c179e"
             ],
             [
              0.4444444444444444,
              "#bd3786"
             ],
             [
              0.5555555555555556,
              "#d8576b"
             ],
             [
              0.6666666666666666,
              "#ed7953"
             ],
             [
              0.7777777777777778,
              "#fb9f3a"
             ],
             [
              0.8888888888888888,
              "#fdca26"
             ],
             [
              1,
              "#f0f921"
             ]
            ],
            "type": "histogram2dcontour"
           }
          ],
          "mesh3d": [
           {
            "colorbar": {
             "outlinewidth": 0,
             "ticks": ""
            },
            "type": "mesh3d"
           }
          ],
          "parcoords": [
           {
            "line": {
             "colorbar": {
              "outlinewidth": 0,
              "ticks": ""
             }
            },
            "type": "parcoords"
           }
          ],
          "pie": [
           {
            "automargin": true,
            "type": "pie"
           }
          ],
          "scatter": [
           {
            "fillpattern": {
             "fillmode": "overlay",
             "size": 10,
             "solidity": 0.2
            },
            "type": "scatter"
           }
          ],
          "scatter3d": [
           {
            "line": {
             "colorbar": {
              "outlinewidth": 0,
              "ticks": ""
             }
            },
            "marker": {
             "colorbar": {
              "outlinewidth": 0,
              "ticks": ""
             }
            },
            "type": "scatter3d"
           }
          ],
          "scattercarpet": [
           {
            "marker": {
             "colorbar": {
              "outlinewidth": 0,
              "ticks": ""
             }
            },
            "type": "scattercarpet"
           }
          ],
          "scattergeo": [
           {
            "marker": {
             "colorbar": {
              "outlinewidth": 0,
              "ticks": ""
             }
            },
            "type": "scattergeo"
           }
          ],
          "scattergl": [
           {
            "marker": {
             "colorbar": {
              "outlinewidth": 0,
              "ticks": ""
             }
            },
            "type": "scattergl"
           }
          ],
          "scattermap": [
           {
            "marker": {
             "colorbar": {
              "outlinewidth": 0,
              "ticks": ""
             }
            },
            "type": "scattermap"
           }
          ],
          "scattermapbox": [
           {
            "marker": {
             "colorbar": {
              "outlinewidth": 0,
              "ticks": ""
             }
            },
            "type": "scattermapbox"
           }
          ],
          "scatterpolar": [
           {
            "marker": {
             "colorbar": {
              "outlinewidth": 0,
              "ticks": ""
             }
            },
            "type": "scatterpolar"
           }
          ],
          "scatterpolargl": [
           {
            "marker": {
             "colorbar": {
              "outlinewidth": 0,
              "ticks": ""
             }
            },
            "type": "scatterpolargl"
           }
          ],
          "scatterternary": [
           {
            "marker": {
             "colorbar": {
              "outlinewidth": 0,
              "ticks": ""
             }
            },
            "type": "scatterternary"
           }
          ],
          "surface": [
           {
            "colorbar": {
             "outlinewidth": 0,
             "ticks": ""
            },
            "colorscale": [
             [
              0,
              "#0d0887"
             ],
             [
              0.1111111111111111,
              "#46039f"
             ],
             [
              0.2222222222222222,
              "#7201a8"
             ],
             [
              0.3333333333333333,
              "#9c179e"
             ],
             [
              0.4444444444444444,
              "#bd3786"
             ],
             [
              0.5555555555555556,
              "#d8576b"
             ],
             [
              0.6666666666666666,
              "#ed7953"
             ],
             [
              0.7777777777777778,
              "#fb9f3a"
             ],
             [
              0.8888888888888888,
              "#fdca26"
             ],
             [
              1,
              "#f0f921"
             ]
            ],
            "type": "surface"
           }
          ],
          "table": [
           {
            "cells": {
             "fill": {
              "color": "#EBF0F8"
             },
             "line": {
              "color": "white"
             }
            },
            "header": {
             "fill": {
              "color": "#C8D4E3"
             },
             "line": {
              "color": "white"
             }
            },
            "type": "table"
           }
          ]
         },
         "layout": {
          "annotationdefaults": {
           "arrowcolor": "#2a3f5f",
           "arrowhead": 0,
           "arrowwidth": 1
          },
          "autotypenumbers": "strict",
          "coloraxis": {
           "colorbar": {
            "outlinewidth": 0,
            "ticks": ""
           }
          },
          "colorscale": {
           "diverging": [
            [
             0,
             "#8e0152"
            ],
            [
             0.1,
             "#c51b7d"
            ],
            [
             0.2,
             "#de77ae"
            ],
            [
             0.3,
             "#f1b6da"
            ],
            [
             0.4,
             "#fde0ef"
            ],
            [
             0.5,
             "#f7f7f7"
            ],
            [
             0.6,
             "#e6f5d0"
            ],
            [
             0.7,
             "#b8e186"
            ],
            [
             0.8,
             "#7fbc41"
            ],
            [
             0.9,
             "#4d9221"
            ],
            [
             1,
             "#276419"
            ]
           ],
           "sequential": [
            [
             0,
             "#0d0887"
            ],
            [
             0.1111111111111111,
             "#46039f"
            ],
            [
             0.2222222222222222,
             "#7201a8"
            ],
            [
             0.3333333333333333,
             "#9c179e"
            ],
            [
             0.4444444444444444,
             "#bd3786"
            ],
            [
             0.5555555555555556,
             "#d8576b"
            ],
            [
             0.6666666666666666,
             "#ed7953"
            ],
            [
             0.7777777777777778,
             "#fb9f3a"
            ],
            [
             0.8888888888888888,
             "#fdca26"
            ],
            [
             1,
             "#f0f921"
            ]
           ],
           "sequentialminus": [
            [
             0,
             "#0d0887"
            ],
            [
             0.1111111111111111,
             "#46039f"
            ],
            [
             0.2222222222222222,
             "#7201a8"
            ],
            [
             0.3333333333333333,
             "#9c179e"
            ],
            [
             0.4444444444444444,
             "#bd3786"
            ],
            [
             0.5555555555555556,
             "#d8576b"
            ],
            [
             0.6666666666666666,
             "#ed7953"
            ],
            [
             0.7777777777777778,
             "#fb9f3a"
            ],
            [
             0.8888888888888888,
             "#fdca26"
            ],
            [
             1,
             "#f0f921"
            ]
           ]
          },
          "colorway": [
           "#636efa",
           "#EF553B",
           "#00cc96",
           "#ab63fa",
           "#FFA15A",
           "#19d3f3",
           "#FF6692",
           "#B6E880",
           "#FF97FF",
           "#FECB52"
          ],
          "font": {
           "color": "#2a3f5f"
          },
          "geo": {
           "bgcolor": "white",
           "lakecolor": "white",
           "landcolor": "#E5ECF6",
           "showlakes": true,
           "showland": true,
           "subunitcolor": "white"
          },
          "hoverlabel": {
           "align": "left"
          },
          "hovermode": "closest",
          "mapbox": {
           "style": "light"
          },
          "paper_bgcolor": "white",
          "plot_bgcolor": "#E5ECF6",
          "polar": {
           "angularaxis": {
            "gridcolor": "white",
            "linecolor": "white",
            "ticks": ""
           },
           "bgcolor": "#E5ECF6",
           "radialaxis": {
            "gridcolor": "white",
            "linecolor": "white",
            "ticks": ""
           }
          },
          "scene": {
           "xaxis": {
            "backgroundcolor": "#E5ECF6",
            "gridcolor": "white",
            "gridwidth": 2,
            "linecolor": "white",
            "showbackground": true,
            "ticks": "",
            "zerolinecolor": "white"
           },
           "yaxis": {
            "backgroundcolor": "#E5ECF6",
            "gridcolor": "white",
            "gridwidth": 2,
            "linecolor": "white",
            "showbackground": true,
            "ticks": "",
            "zerolinecolor": "white"
           },
           "zaxis": {
            "backgroundcolor": "#E5ECF6",
            "gridcolor": "white",
            "gridwidth": 2,
            "linecolor": "white",
            "showbackground": true,
            "ticks": "",
            "zerolinecolor": "white"
           }
          },
          "shapedefaults": {
           "line": {
            "color": "#2a3f5f"
           }
          },
          "ternary": {
           "aaxis": {
            "gridcolor": "white",
            "linecolor": "white",
            "ticks": ""
           },
           "baxis": {
            "gridcolor": "white",
            "linecolor": "white",
            "ticks": ""
           },
           "bgcolor": "#E5ECF6",
           "caxis": {
            "gridcolor": "white",
            "linecolor": "white",
            "ticks": ""
           }
          },
          "title": {
           "x": 0.05
          },
          "xaxis": {
           "automargin": true,
           "gridcolor": "white",
           "linecolor": "white",
           "ticks": "",
           "title": {
            "standoff": 15
           },
           "zerolinecolor": "white",
           "zerolinewidth": 2
          },
          "yaxis": {
           "automargin": true,
           "gridcolor": "white",
           "linecolor": "white",
           "ticks": "",
           "title": {
            "standoff": 15
           },
           "zerolinecolor": "white",
           "zerolinewidth": 2
          }
         }
        }
       }
      },
      "image/png": "[encoded data removed]"
     },
     "metadata": {},
     "output_type": "display_data"
    }
   ],
   "source": [
    "fig.show()"
   ]
  },
  {
   "cell_type": "code",
   "execution_count": 16,
   "id": "a3fc8481-1e70-499c-a156-aeef9ffb97a1",
   "metadata": {
    "tags": []
   },
   "outputs": [
    {
     "data": {
      "text/plain": [
       "2"
      ]
     },
     "execution_count": 16,
     "metadata": {},
     "output_type": "execute_result"
    }
   ],
   "source": [
    "len(PH['representatives'])"
   ]
  },
  {
   "cell_type": "code",
   "execution_count": 17,
   "id": "409863a3-4cc8-4fab-9f24-4e384509d282",
   "metadata": {
    "tags": []
   },
   "outputs": [],
   "source": [
    "PH['representatives'];"
   ]
  },
  {
   "cell_type": "code",
   "execution_count": 21,
   "id": "0029adcc-2786-47a9-80ab-fd8fe461c0eb",
   "metadata": {
    "tags": []
   },
   "outputs": [
    {
     "data": {
      "application/vnd.plotly.v1+json": {
       "config": {
        "plotlyServerURL": "https://plot.ly"
       },
       "data": [
        {
         "line": {
          "color": "grey",
          "width": 8
         },
         "marker": {
          "color": "grey",
          "size": 8
         },
         "mode": "lines",
         "name": "Knot",
         "type": "scatter3d",
         "x": {
          "bdata": "DWyVYHFIIMDwpfCg2QUbwAbYR6eunBHAOPktOlkKDsBBLQYP034NwGWLpN3ogxHAX16AfXQKF8A8SiU8oZccwFjjbDoCcCLAn47HDFSmJsBYVwVqMWApwI9srprn6CnAPSe9b3wFKsCXyXA8n+knwE6dR8X/vSTAySHi5lRCIUA5K6Im+owgQMxjzcggNxtAFJhO6zb4EECCAYQPJRr9P6GgFK3cC+S/c9anHJNlAcCq1sIstFMJwGmoUUgyCw3ALQlQU8s2AcALRE/KpIblv8Wtghjo2v4/r1qZ8EvtEUAD6zh+qIQZQMzQeCKISyBA",
          "dtype": "f8"
         },
         "y": {
          "bdata": "JTs2AvH6C0BOtRZmoR0QQIOFkzR/LA5AISOgwhGEDkBfeZCeIkcLQEhuTbot8QpAzv5AuW3/DEDkaI6s/PILQEWeJF0zuQpAaahRSDIrDUBAUdmwprILQG3IPzOIbwpAS1ZFuMkIDUBdbcX+spsNQLzoK0gzNgtANqypLAq7CkDLu+oB8xAZQLQ8D+7OCiBAejiB6bSGIkAn3CvzVq0jQDi/YaJBqiFAntFWJZEdHUAWTtL8MR0UQDlFR3L5DwRAdQRws3ixxr8R/kXQmEn9vztwzojS3gPAGY9SCU9oAsBtcvikE4nyv8WM8PYgBO0/",
          "dtype": "f8"
         },
         "z": {
          "bdata": "76tyofK/EUBgyyvX2xYRQMSxLm6jwQZAm6vmOSKf9j+zlZf8T/7ov/WgoBStHATAAfp9/+blEcAAqyNHOpMTwP9AuW3f4xPAo8ow7gaxEcDfF5eqtOUCwEfku5S6ZOe/nFPJAFAF9j8tIR/0bNYHQET9LmzNBhBARgpl4evr4L89ZMqHoGrKv6QzMPKyJte/bO7of7kW4r8jZ2FPO/zLv9KowMk2cL+/bJih8UQQz78GL/oK0ozQv3/eVKTC2Nm/vFruzATD4L8NqDej5qvevxWOIJViR8u/4E237BD/1b8EIVnABG7Dv7ZpbK8Fvda/",
          "dtype": "f8"
         }
        },
        {
         "line": {
          "color": "green",
          "width": 8
         },
         "marker": {
          "color": "green",
          "size": 8
         },
         "mode": "markers",
         "name": "cycle 1",
         "type": "scatter3d",
         "x": {
          "bdata": "j2yumufoKcBpqFFIMgsNwDxKJTyhlxzADWyVYHFIIMBli6Td6IMRwFhXBWoxYCnAWONsOgJwIsCXyXA8n+knwAbYR6eunBHAX16AfXQKF8A4+S06WQoOwE6dR8X/vSTAPSe9b3wFKsDwpfCg2QUbwJ+OxwxUpibA",
          "dtype": "f8"
         },
         "y": {
          "bdata": "bcg/M4hvCkA5RUdy+Q8EQORojqz88gtAJTs2AvH6C0BIbk26LfEKQEBR2bCmsgtARZ4kXTO5CkBdbcX+spsNQIOFkzR/LA5Azv5AuW3/DEAhI6DCEYQOQLzoK0gzNgtAS1ZFuMkIDUBOtRZmoR0QQGmoUUgyKw1A",
          "dtype": "f8"
         },
         "z": {
          "bdata": "R+S7lLpk579/3lSkwtjZvwCrI0c6kxPA76tyofK/EUD1oKAUrRwEwN8Xl6q05QLA/0C5bd/jE8AtIR/0bNYHQMSxLm6jwQZAAfp9/+blEcCbq+Y5Ip/2P0T9LmzNBhBAnFPJAFAF9j9gyyvX2xYRQKPKMO4GsRHA",
          "dtype": "f8"
         }
        },
        {
         "line": {
          "color": "red",
          "width": 8
         },
         "marker": {
          "color": "red",
          "size": 8
         },
         "mode": "markers",
         "name": "cycle 2",
         "type": "scatter3d",
         "x": {
          "bdata": "ySHi5lRCIUCCAYQPJRr9P2moUUgyCw3AzNB4IohLIECvWpnwS+0RQDkroib6jCBAqtbCLLRTCcAUmE7rNvgQQHPWpxyTZQHAA+s4fqiEGUAtCVBTyzYBwKGgFK3cC+S/xa2CGOja/j/MY83IIDcbQAtET8qkhuW/",
          "dtype": "f8"
         },
         "y": {
          "bdata": "NqypLAq7CkAn3CvzVq0jQDlFR3L5DwRAxYzw9iAE7T8Zj1IJT2gCwMu76gHzEBlAFk7S/DEdFEB6OIHptIYiQJ7RViWRHR1AbXL4pBOJ8r91BHCzeLHGvzi/YaJBqiFAO3DOiNLeA8C0PA/uzgogQBH+RdCYSf2/",
          "dtype": "f8"
         },
         "z": {
          "bdata": "Rgpl4evr4L8jZ2FPO/zLv3/eVKTC2Nm/tmlsrwW91r/gTbfsEP/Vvz1kyoegasq/Bi/6CtKM0L9s7uh/uRbiv2yYofFEEM+/BCFZwARuw7+8Wu7MBMPgv9KowMk2cL+/FY4glWJHy7+kMzDysibXvw2oN6Pmq96/",
          "dtype": "f8"
         }
        }
       ],
       "layout": {
        "scene": {
         "xaxis": {
          "backgroundcolor": "rgb(200, 200, 230)",
          "gridcolor": "rgba(0,0,0,0)",
          "showbackground": false,
          "showticklabels": false,
          "title": {
           "text": " "
          },
          "zerolinecolor": "rgba(0,0,0,0)"
         },
         "yaxis": {
          "backgroundcolor": "rgb(200, 200, 230)",
          "gridcolor": "rgba(0,0,0,0)",
          "showbackground": false,
          "showticklabels": false,
          "title": {
           "text": " "
          },
          "zerolinecolor": "rgba(0,0,0,0)"
         },
         "zaxis": {
          "backgroundcolor": "rgb(200, 200, 230)",
          "gridcolor": "rgba(0,0,0,0)",
          "showbackground": false,
          "showticklabels": false,
          "title": {
           "text": " "
          },
          "zerolinecolor": "rgba(0,0,0,0)"
         }
        },
        "template": {
         "data": {
          "bar": [
           {
            "error_x": {
             "color": "#2a3f5f"
            },
            "error_y": {
             "color": "#2a3f5f"
            },
            "marker": {
             "line": {
              "color": "#E5ECF6",
              "width": 0.5
             },
             "pattern": {
              "fillmode": "overlay",
              "size": 10,
              "solidity": 0.2
             }
            },
            "type": "bar"
           }
          ],
          "barpolar": [
           {
            "marker": {
             "line": {
              "color": "#E5ECF6",
              "width": 0.5
             },
             "pattern": {
              "fillmode": "overlay",
              "size": 10,
              "solidity": 0.2
             }
            },
            "type": "barpolar"
           }
          ],
          "carpet": [
           {
            "aaxis": {
             "endlinecolor": "#2a3f5f",
             "gridcolor": "white",
             "linecolor": "white",
             "minorgridcolor": "white",
             "startlinecolor": "#2a3f5f"
            },
            "baxis": {
             "endlinecolor": "#2a3f5f",
             "gridcolor": "white",
             "linecolor": "white",
             "minorgridcolor": "white",
             "startlinecolor": "#2a3f5f"
            },
            "type": "carpet"
           }
          ],
          "choropleth": [
           {
            "colorbar": {
             "outlinewidth": 0,
             "ticks": ""
            },
            "type": "choropleth"
           }
          ],
          "contour": [
           {
            "colorbar": {
             "outlinewidth": 0,
             "ticks": ""
            },
            "colorscale": [
             [
              0,
              "#0d0887"
             ],
             [
              0.1111111111111111,
              "#46039f"
             ],
             [
              0.2222222222222222,
              "#7201a8"
             ],
             [
              0.3333333333333333,
              "#9c179e"
             ],
             [
              0.4444444444444444,
              "#bd3786"
             ],
             [
              0.5555555555555556,
              "#d8576b"
             ],
             [
              0.6666666666666666,
              "#ed7953"
             ],
             [
              0.7777777777777778,
              "#fb9f3a"
             ],
             [
              0.8888888888888888,
              "#fdca26"
             ],
             [
              1,
              "#f0f921"
             ]
            ],
            "type": "contour"
           }
          ],
          "contourcarpet": [
           {
            "colorbar": {
             "outlinewidth": 0,
             "ticks": ""
            },
            "type": "contourcarpet"
           }
          ],
          "heatmap": [
           {
            "colorbar": {
             "outlinewidth": 0,
             "ticks": ""
            },
            "colorscale": [
             [
              0,
              "#0d0887"
             ],
             [
              0.1111111111111111,
              "#46039f"
             ],
             [
              0.2222222222222222,
              "#7201a8"
             ],
             [
              0.3333333333333333,
              "#9c179e"
             ],
             [
              0.4444444444444444,
              "#bd3786"
             ],
             [
              0.5555555555555556,
              "#d8576b"
             ],
             [
              0.6666666666666666,
              "#ed7953"
             ],
             [
              0.7777777777777778,
              "#fb9f3a"
             ],
             [
              0.8888888888888888,
              "#fdca26"
             ],
             [
              1,
              "#f0f921"
             ]
            ],
            "type": "heatmap"
           }
          ],
          "histogram": [
           {
            "marker": {
             "pattern": {
              "fillmode": "overlay",
              "size": 10,
              "solidity": 0.2
             }
            },
            "type": "histogram"
           }
          ],
          "histogram2d": [
           {
            "colorbar": {
             "outlinewidth": 0,
             "ticks": ""
            },
            "colorscale": [
             [
              0,
              "#0d0887"
             ],
             [
              0.1111111111111111,
              "#46039f"
             ],
             [
              0.2222222222222222,
              "#7201a8"
             ],
             [
              0.3333333333333333,
              "#9c179e"
             ],
             [
              0.4444444444444444,
              "#bd3786"
             ],
             [
              0.5555555555555556,
              "#d8576b"
             ],
             [
              0.6666666666666666,
              "#ed7953"
             ],
             [
              0.7777777777777778,
              "#fb9f3a"
             ],
             [
              0.8888888888888888,
              "#fdca26"
             ],
             [
              1,
              "#f0f921"
             ]
            ],
            "type": "histogram2d"
           }
          ],
          "histogram2dcontour": [
           {
            "colorbar": {
             "outlinewidth": 0,
             "ticks": ""
            },
            "colorscale": [
             [
              0,
              "#0d0887"
             ],
             [
              0.1111111111111111,
              "#46039f"
             ],
             [
              0.2222222222222222,
              "#7201a8"
             ],
             [
              0.3333333333333333,
              "#9c179e"
             ],
             [
              0.4444444444444444,
              "#bd3786"
             ],
             [
              0.5555555555555556,
              "#d8576b"
             ],
             [
              0.6666666666666666,
              "#ed7953"
             ],
             [
              0.7777777777777778,
              "#fb9f3a"
             ],
             [
              0.8888888888888888,
              "#fdca26"
             ],
             [
              1,
              "#f0f921"
             ]
            ],
            "type": "histogram2dcontour"
           }
          ],
          "mesh3d": [
           {
            "colorbar": {
             "outlinewidth": 0,
             "ticks": ""
            },
            "type": "mesh3d"
           }
          ],
          "parcoords": [
           {
            "line": {
             "colorbar": {
              "outlinewidth": 0,
              "ticks": ""
             }
            },
            "type": "parcoords"
           }
          ],
          "pie": [
           {
            "automargin": true,
            "type": "pie"
           }
          ],
          "scatter": [
           {
            "fillpattern": {
             "fillmode": "overlay",
             "size": 10,
             "solidity": 0.2
            },
            "type": "scatter"
           }
          ],
          "scatter3d": [
           {
            "line": {
             "colorbar": {
              "outlinewidth": 0,
              "ticks": ""
             }
            },
            "marker": {
             "colorbar": {
              "outlinewidth": 0,
              "ticks": ""
             }
            },
            "type": "scatter3d"
           }
          ],
          "scattercarpet": [
           {
            "marker": {
             "colorbar": {
              "outlinewidth": 0,
              "ticks": ""
             }
            },
            "type": "scattercarpet"
           }
          ],
          "scattergeo": [
           {
            "marker": {
             "colorbar": {
              "outlinewidth": 0,
              "ticks": ""
             }
            },
            "type": "scattergeo"
           }
          ],
          "scattergl": [
           {
            "marker": {
             "colorbar": {
              "outlinewidth": 0,
              "ticks": ""
             }
            },
            "type": "scattergl"
           }
          ],
          "scattermap": [
           {
            "marker": {
             "colorbar": {
              "outlinewidth": 0,
              "ticks": ""
             }
            },
            "type": "scattermap"
           }
          ],
          "scattermapbox": [
           {
            "marker": {
             "colorbar": {
              "outlinewidth": 0,
              "ticks": ""
             }
            },
            "type": "scattermapbox"
           }
          ],
          "scatterpolar": [
           {
            "marker": {
             "colorbar": {
              "outlinewidth": 0,
              "ticks": ""
             }
            },
            "type": "scatterpolar"
           }
          ],
          "scatterpolargl": [
           {
            "marker": {
             "colorbar": {
              "outlinewidth": 0,
              "ticks": ""
             }
            },
            "type": "scatterpolargl"
           }
          ],
          "scatterternary": [
           {
            "marker": {
             "colorbar": {
              "outlinewidth": 0,
              "ticks": ""
             }
            },
            "type": "scatterternary"
           }
          ],
          "surface": [
           {
            "colorbar": {
             "outlinewidth": 0,
             "ticks": ""
            },
            "colorscale": [
             [
              0,
              "#0d0887"
             ],
             [
              0.1111111111111111,
              "#46039f"
             ],
             [
              0.2222222222222222,
              "#7201a8"
             ],
             [
              0.3333333333333333,
              "#9c179e"
             ],
             [
              0.4444444444444444,
              "#bd3786"
             ],
             [
              0.5555555555555556,
              "#d8576b"
             ],
             [
              0.6666666666666666,
              "#ed7953"
             ],
             [
              0.7777777777777778,
              "#fb9f3a"
             ],
             [
              0.8888888888888888,
              "#fdca26"
             ],
             [
              1,
              "#f0f921"
             ]
            ],
            "type": "surface"
           }
          ],
          "table": [
           {
            "cells": {
             "fill": {
              "color": "#EBF0F8"
             },
             "line": {
              "color": "white"
             }
            },
            "header": {
             "fill": {
              "color": "#C8D4E3"
             },
             "line": {
              "color": "white"
             }
            },
            "type": "table"
           }
          ]
         },
         "layout": {
          "annotationdefaults": {
           "arrowcolor": "#2a3f5f",
           "arrowhead": 0,
           "arrowwidth": 1
          },
          "autotypenumbers": "strict",
          "coloraxis": {
           "colorbar": {
            "outlinewidth": 0,
            "ticks": ""
           }
          },
          "colorscale": {
           "diverging": [
            [
             0,
             "#8e0152"
            ],
            [
             0.1,
             "#c51b7d"
            ],
            [
             0.2,
             "#de77ae"
            ],
            [
             0.3,
             "#f1b6da"
            ],
            [
             0.4,
             "#fde0ef"
            ],
            [
             0.5,
             "#f7f7f7"
            ],
            [
             0.6,
             "#e6f5d0"
            ],
            [
             0.7,
             "#b8e186"
            ],
            [
             0.8,
             "#7fbc41"
            ],
            [
             0.9,
             "#4d9221"
            ],
            [
             1,
             "#276419"
            ]
           ],
           "sequential": [
            [
             0,
             "#0d0887"
            ],
            [
             0.1111111111111111,
             "#46039f"
            ],
            [
             0.2222222222222222,
             "#7201a8"
            ],
            [
             0.3333333333333333,
             "#9c179e"
            ],
            [
             0.4444444444444444,
             "#bd3786"
            ],
            [
             0.5555555555555556,
             "#d8576b"
            ],
            [
             0.6666666666666666,
             "#ed7953"
            ],
            [
             0.7777777777777778,
             "#fb9f3a"
            ],
            [
             0.8888888888888888,
             "#fdca26"
            ],
            [
             1,
             "#f0f921"
            ]
           ],
           "sequentialminus": [
            [
             0,
             "#0d0887"
            ],
            [
             0.1111111111111111,
             "#46039f"
            ],
            [
             0.2222222222222222,
             "#7201a8"
            ],
            [
             0.3333333333333333,
             "#9c179e"
            ],
            [
             0.4444444444444444,
             "#bd3786"
            ],
            [
             0.5555555555555556,
             "#d8576b"
            ],
            [
             0.6666666666666666,
             "#ed7953"
            ],
            [
             0.7777777777777778,
             "#fb9f3a"
            ],
            [
             0.8888888888888888,
             "#fdca26"
            ],
            [
             1,
             "#f0f921"
            ]
           ]
          },
          "colorway": [
           "#636efa",
           "#EF553B",
           "#00cc96",
           "#ab63fa",
           "#FFA15A",
           "#19d3f3",
           "#FF6692",
           "#B6E880",
           "#FF97FF",
           "#FECB52"
          ],
          "font": {
           "color": "#2a3f5f"
          },
          "geo": {
           "bgcolor": "white",
           "lakecolor": "white",
           "landcolor": "#E5ECF6",
           "showlakes": true,
           "showland": true,
           "subunitcolor": "white"
          },
          "hoverlabel": {
           "align": "left"
          },
          "hovermode": "closest",
          "mapbox": {
           "style": "light"
          },
          "paper_bgcolor": "white",
          "plot_bgcolor": "#E5ECF6",
          "polar": {
           "angularaxis": {
            "gridcolor": "white",
            "linecolor": "white",
            "ticks": ""
           },
           "bgcolor": "#E5ECF6",
           "radialaxis": {
            "gridcolor": "white",
            "linecolor": "white",
            "ticks": ""
           }
          },
          "scene": {
           "xaxis": {
            "backgroundcolor": "#E5ECF6",
            "gridcolor": "white",
            "gridwidth": 2,
            "linecolor": "white",
            "showbackground": true,
            "ticks": "",
            "zerolinecolor": "white"
           },
           "yaxis": {
            "backgroundcolor": "#E5ECF6",
            "gridcolor": "white",
            "gridwidth": 2,
            "linecolor": "white",
            "showbackground": true,
            "ticks": "",
            "zerolinecolor": "white"
           },
           "zaxis": {
            "backgroundcolor": "#E5ECF6",
            "gridcolor": "white",
            "gridwidth": 2,
            "linecolor": "white",
            "showbackground": true,
            "ticks": "",
            "zerolinecolor": "white"
           }
          },
          "shapedefaults": {
           "line": {
            "color": "#2a3f5f"
           }
          },
          "ternary": {
           "aaxis": {
            "gridcolor": "white",
            "linecolor": "white",
            "ticks": ""
           },
           "baxis": {
            "gridcolor": "white",
            "linecolor": "white",
            "ticks": ""
           },
           "bgcolor": "#E5ECF6",
           "caxis": {
            "gridcolor": "white",
            "linecolor": "white",
            "ticks": ""
           }
          },
          "title": {
           "x": 0.05
          },
          "xaxis": {
           "automargin": true,
           "gridcolor": "white",
           "linecolor": "white",
           "ticks": "",
           "title": {
            "standoff": 15
           },
           "zerolinecolor": "white",
           "zerolinewidth": 2
          },
          "yaxis": {
           "automargin": true,
           "gridcolor": "white",
           "linecolor": "white",
           "ticks": "",
           "title": {
            "standoff": 15
           },
           "zerolinecolor": "white",
           "zerolinewidth": 2
          }
         }
        }
       }
      },
      "image/png": "[encoded data removed]"
     },
     "metadata": {},
     "output_type": "display_data"
    }
   ],
   "source": [
    "fig = plot(curve)\n",
    "\n",
    "cycle = PH['representatives'][0]\n",
    "plot_cycle(curve, cycle, fig, 'green', 'cycle 1')\n",
    "\n",
    "cycle = PH['representatives'][1]\n",
    "plot_cycle(curve, cycle, fig, 'red', 'cycle 2')\n",
    "\n",
    "#cycle = PH['representatives'][0]\n",
    "#plot_cycle(curve, cycle, fig, 'blue', 'cycle 3')\n",
    "\n",
    "#cycle = PH['representatives'][2]\n",
    "#plot_cycle(curve, cycle, fig, 'blue', 'cycle 4')\n",
    "\n",
    "#cycle = PH['representatives'][4]\n",
    "#plot_cycle(curve, cycle, fig, 'orange', 'cycle 5')\n"
   ]
  },
  {
   "cell_type": "code",
   "execution_count": 24,
   "id": "51cca825-1166-4d7d-ae1e-3deff4d98108",
   "metadata": {
    "tags": []
   },
   "outputs": [
    {
     "data": {
      "application/vnd.plotly.v1+json": {
       "config": {
        "plotlyServerURL": "https://plot.ly"
       },
       "data": [
        {
         "line": {
          "color": "grey",
          "width": 8
         },
         "marker": {
          "color": "grey",
          "size": 8
         },
         "mode": "lines",
         "name": "Knot",
         "type": "scatter3d",
         "x": {
          "bdata": "DWyVYHFIIMDwpfCg2QUbwAbYR6eunBHAOPktOlkKDsBBLQYP034NwGWLpN3ogxHAX16AfXQKF8A8SiU8oZccwFjjbDoCcCLAn47HDFSmJsBYVwVqMWApwI9srprn6CnAPSe9b3wFKsCXyXA8n+knwE6dR8X/vSTAySHi5lRCIUA5K6Im+owgQMxjzcggNxtAFJhO6zb4EECCAYQPJRr9P6GgFK3cC+S/c9anHJNlAcCq1sIstFMJwGmoUUgyCw3ALQlQU8s2AcALRE/KpIblv8Wtghjo2v4/r1qZ8EvtEUAD6zh+qIQZQMzQeCKISyBA",
          "dtype": "f8"
         },
         "y": {
          "bdata": "JTs2AvH6C0BOtRZmoR0QQIOFkzR/LA5AISOgwhGEDkBfeZCeIkcLQEhuTbot8QpAzv5AuW3/DEDkaI6s/PILQEWeJF0zuQpAaahRSDIrDUBAUdmwprILQG3IPzOIbwpAS1ZFuMkIDUBdbcX+spsNQLzoK0gzNgtANqypLAq7CkDLu+oB8xAZQLQ8D+7OCiBAejiB6bSGIkAn3CvzVq0jQDi/YaJBqiFAntFWJZEdHUAWTtL8MR0UQDlFR3L5DwRAdQRws3ixxr8R/kXQmEn9vztwzojS3gPAGY9SCU9oAsBtcvikE4nyv8WM8PYgBO0/",
          "dtype": "f8"
         },
         "z": {
          "bdata": "76tyofK/EUBgyyvX2xYRQMSxLm6jwQZAm6vmOSKf9j+zlZf8T/7ov/WgoBStHATAAfp9/+blEcAAqyNHOpMTwP9AuW3f4xPAo8ow7gaxEcDfF5eqtOUCwEfku5S6ZOe/nFPJAFAF9j8tIR/0bNYHQET9LmzNBhBARgpl4evr4L89ZMqHoGrKv6QzMPKyJte/bO7of7kW4r8jZ2FPO/zLv9KowMk2cL+/bJih8UQQz78GL/oK0ozQv3/eVKTC2Nm/vFruzATD4L8NqDej5qvevxWOIJViR8u/4E237BD/1b8EIVnABG7Dv7ZpbK8Fvda/",
          "dtype": "f8"
         }
        },
        {
         "line": {
          "color": "green",
          "width": 8
         },
         "marker": {
          "color": "green",
          "size": 8
         },
         "mode": "markers",
         "name": "cycle 1",
         "type": "scatter3d",
         "x": {
          "bdata": "j2yumufoKcBpqFFIMgsNwDxKJTyhlxzADWyVYHFIIMBli6Td6IMRwFhXBWoxYCnAWONsOgJwIsCXyXA8n+knwAbYR6eunBHAX16AfXQKF8A4+S06WQoOwE6dR8X/vSTAPSe9b3wFKsDwpfCg2QUbwJ+OxwxUpibA",
          "dtype": "f8"
         },
         "y": {
          "bdata": "bcg/M4hvCkA5RUdy+Q8EQORojqz88gtAJTs2AvH6C0BIbk26LfEKQEBR2bCmsgtARZ4kXTO5CkBdbcX+spsNQIOFkzR/LA5Azv5AuW3/DEAhI6DCEYQOQLzoK0gzNgtAS1ZFuMkIDUBOtRZmoR0QQGmoUUgyKw1A",
          "dtype": "f8"
         },
         "z": {
          "bdata": "R+S7lLpk579/3lSkwtjZvwCrI0c6kxPA76tyofK/EUD1oKAUrRwEwN8Xl6q05QLA/0C5bd/jE8AtIR/0bNYHQMSxLm6jwQZAAfp9/+blEcCbq+Y5Ip/2P0T9LmzNBhBAnFPJAFAF9j9gyyvX2xYRQKPKMO4GsRHA",
          "dtype": "f8"
         }
        }
       ],
       "layout": {
        "scene": {
         "xaxis": {
          "backgroundcolor": "rgb(200, 200, 230)",
          "gridcolor": "rgba(0,0,0,0)",
          "showbackground": false,
          "showticklabels": false,
          "title": {
           "text": " "
          },
          "zerolinecolor": "rgba(0,0,0,0)"
         },
         "yaxis": {
          "backgroundcolor": "rgb(200, 200, 230)",
          "gridcolor": "rgba(0,0,0,0)",
          "showbackground": false,
          "showticklabels": false,
          "title": {
           "text": " "
          },
          "zerolinecolor": "rgba(0,0,0,0)"
         },
         "zaxis": {
          "backgroundcolor": "rgb(200, 200, 230)",
          "gridcolor": "rgba(0,0,0,0)",
          "showbackground": false,
          "showticklabels": false,
          "title": {
           "text": " "
          },
          "zerolinecolor": "rgba(0,0,0,0)"
         }
        },
        "template": {
         "data": {
          "bar": [
           {
            "error_x": {
             "color": "#2a3f5f"
            },
            "error_y": {
             "color": "#2a3f5f"
            },
            "marker": {
             "line": {
              "color": "#E5ECF6",
              "width": 0.5
             },
             "pattern": {
              "fillmode": "overlay",
              "size": 10,
              "solidity": 0.2
             }
            },
            "type": "bar"
           }
          ],
          "barpolar": [
           {
            "marker": {
             "line": {
              "color": "#E5ECF6",
              "width": 0.5
             },
             "pattern": {
              "fillmode": "overlay",
              "size": 10,
              "solidity": 0.2
             }
            },
            "type": "barpolar"
           }
          ],
          "carpet": [
           {
            "aaxis": {
             "endlinecolor": "#2a3f5f",
             "gridcolor": "white",
             "linecolor": "white",
             "minorgridcolor": "white",
             "startlinecolor": "#2a3f5f"
            },
            "baxis": {
             "endlinecolor": "#2a3f5f",
             "gridcolor": "white",
             "linecolor": "white",
             "minorgridcolor": "white",
             "startlinecolor": "#2a3f5f"
            },
            "type": "carpet"
           }
          ],
          "choropleth": [
           {
            "colorbar": {
             "outlinewidth": 0,
             "ticks": ""
            },
            "type": "choropleth"
           }
          ],
          "contour": [
           {
            "colorbar": {
             "outlinewidth": 0,
             "ticks": ""
            },
            "colorscale": [
             [
              0,
              "#0d0887"
             ],
             [
              0.1111111111111111,
              "#46039f"
             ],
             [
              0.2222222222222222,
              "#7201a8"
             ],
             [
              0.3333333333333333,
              "#9c179e"
             ],
             [
              0.4444444444444444,
              "#bd3786"
             ],
             [
              0.5555555555555556,
              "#d8576b"
             ],
             [
              0.6666666666666666,
              "#ed7953"
             ],
             [
              0.7777777777777778,
              "#fb9f3a"
             ],
             [
              0.8888888888888888,
              "#fdca26"
             ],
             [
              1,
              "#f0f921"
             ]
            ],
            "type": "contour"
           }
          ],
          "contourcarpet": [
           {
            "colorbar": {
             "outlinewidth": 0,
             "ticks": ""
            },
            "type": "contourcarpet"
           }
          ],
          "heatmap": [
           {
            "colorbar": {
             "outlinewidth": 0,
             "ticks": ""
            },
            "colorscale": [
             [
              0,
              "#0d0887"
             ],
             [
              0.1111111111111111,
              "#46039f"
             ],
             [
              0.2222222222222222,
              "#7201a8"
             ],
             [
              0.3333333333333333,
              "#9c179e"
             ],
             [
              0.4444444444444444,
              "#bd3786"
             ],
             [
              0.5555555555555556,
              "#d8576b"
             ],
             [
              0.6666666666666666,
              "#ed7953"
             ],
             [
              0.7777777777777778,
              "#fb9f3a"
             ],
             [
              0.8888888888888888,
              "#fdca26"
             ],
             [
              1,
              "#f0f921"
             ]
            ],
            "type": "heatmap"
           }
          ],
          "histogram": [
           {
            "marker": {
             "pattern": {
              "fillmode": "overlay",
              "size": 10,
              "solidity": 0.2
             }
            },
            "type": "histogram"
           }
          ],
          "histogram2d": [
           {
            "colorbar": {
             "outlinewidth": 0,
             "ticks": ""
            },
            "colorscale": [
             [
              0,
              "#0d0887"
             ],
             [
              0.1111111111111111,
              "#46039f"
             ],
             [
              0.2222222222222222,
              "#7201a8"
             ],
             [
              0.3333333333333333,
              "#9c179e"
             ],
             [
              0.4444444444444444,
              "#bd3786"
             ],
             [
              0.5555555555555556,
              "#d8576b"
             ],
             [
              0.6666666666666666,
              "#ed7953"
             ],
             [
              0.7777777777777778,
              "#fb9f3a"
             ],
             [
              0.8888888888888888,
              "#fdca26"
             ],
             [
              1,
              "#f0f921"
             ]
            ],
            "type": "histogram2d"
           }
          ],
          "histogram2dcontour": [
           {
            "colorbar": {
             "outlinewidth": 0,
             "ticks": ""
            },
            "colorscale": [
             [
              0,
              "#0d0887"
             ],
             [
              0.1111111111111111,
              "#46039f"
             ],
             [
              0.2222222222222222,
              "#7201a8"
             ],
             [
              0.3333333333333333,
              "#9c179e"
             ],
             [
              0.4444444444444444,
              "#bd3786"
             ],
             [
              0.5555555555555556,
              "#d8576b"
             ],
             [
              0.6666666666666666,
              "#ed7953"
             ],
             [
              0.7777777777777778,
              "#fb9f3a"
             ],
             [
              0.8888888888888888,
              "#fdca26"
             ],
             [
              1,
              "#f0f921"
             ]
            ],
            "type": "histogram2dcontour"
           }
          ],
          "mesh3d": [
           {
            "colorbar": {
             "outlinewidth": 0,
             "ticks": ""
            },
            "type": "mesh3d"
           }
          ],
          "parcoords": [
           {
            "line": {
             "colorbar": {
              "outlinewidth": 0,
              "ticks": ""
             }
            },
            "type": "parcoords"
           }
          ],
          "pie": [
           {
            "automargin": true,
            "type": "pie"
           }
          ],
          "scatter": [
           {
            "fillpattern": {
             "fillmode": "overlay",
             "size": 10,
             "solidity": 0.2
            },
            "type": "scatter"
           }
          ],
          "scatter3d": [
           {
            "line": {
             "colorbar": {
              "outlinewidth": 0,
              "ticks": ""
             }
            },
            "marker": {
             "colorbar": {
              "outlinewidth": 0,
              "ticks": ""
             }
            },
            "type": "scatter3d"
           }
          ],
          "scattercarpet": [
           {
            "marker": {
             "colorbar": {
              "outlinewidth": 0,
              "ticks": ""
             }
            },
            "type": "scattercarpet"
           }
          ],
          "scattergeo": [
           {
            "marker": {
             "colorbar": {
              "outlinewidth": 0,
              "ticks": ""
             }
            },
            "type": "scattergeo"
           }
          ],
          "scattergl": [
           {
            "marker": {
             "colorbar": {
              "outlinewidth": 0,
              "ticks": ""
             }
            },
            "type": "scattergl"
           }
          ],
          "scattermap": [
           {
            "marker": {
             "colorbar": {
              "outlinewidth": 0,
              "ticks": ""
             }
            },
            "type": "scattermap"
           }
          ],
          "scattermapbox": [
           {
            "marker": {
             "colorbar": {
              "outlinewidth": 0,
              "ticks": ""
             }
            },
            "type": "scattermapbox"
           }
          ],
          "scatterpolar": [
           {
            "marker": {
             "colorbar": {
              "outlinewidth": 0,
              "ticks": ""
             }
            },
            "type": "scatterpolar"
           }
          ],
          "scatterpolargl": [
           {
            "marker": {
             "colorbar": {
              "outlinewidth": 0,
              "ticks": ""
             }
            },
            "type": "scatterpolargl"
           }
          ],
          "scatterternary": [
           {
            "marker": {
             "colorbar": {
              "outlinewidth": 0,
              "ticks": ""
             }
            },
            "type": "scatterternary"
           }
          ],
          "surface": [
           {
            "colorbar": {
             "outlinewidth": 0,
             "ticks": ""
            },
            "colorscale": [
             [
              0,
              "#0d0887"
             ],
             [
              0.1111111111111111,
              "#46039f"
             ],
             [
              0.2222222222222222,
              "#7201a8"
             ],
             [
              0.3333333333333333,
              "#9c179e"
             ],
             [
              0.4444444444444444,
              "#bd3786"
             ],
             [
              0.5555555555555556,
              "#d8576b"
             ],
             [
              0.6666666666666666,
              "#ed7953"
             ],
             [
              0.7777777777777778,
              "#fb9f3a"
             ],
             [
              0.8888888888888888,
              "#fdca26"
             ],
             [
              1,
              "#f0f921"
             ]
            ],
            "type": "surface"
           }
          ],
          "table": [
           {
            "cells": {
             "fill": {
              "color": "#EBF0F8"
             },
             "line": {
              "color": "white"
             }
            },
            "header": {
             "fill": {
              "color": "#C8D4E3"
             },
             "line": {
              "color": "white"
             }
            },
            "type": "table"
           }
          ]
         },
         "layout": {
          "annotationdefaults": {
           "arrowcolor": "#2a3f5f",
           "arrowhead": 0,
           "arrowwidth": 1
          },
          "autotypenumbers": "strict",
          "coloraxis": {
           "colorbar": {
            "outlinewidth": 0,
            "ticks": ""
           }
          },
          "colorscale": {
           "diverging": [
            [
             0,
             "#8e0152"
            ],
            [
             0.1,
             "#c51b7d"
            ],
            [
             0.2,
             "#de77ae"
            ],
            [
             0.3,
             "#f1b6da"
            ],
            [
             0.4,
             "#fde0ef"
            ],
            [
             0.5,
             "#f7f7f7"
            ],
            [
             0.6,
             "#e6f5d0"
            ],
            [
             0.7,
             "#b8e186"
            ],
            [
             0.8,
             "#7fbc41"
            ],
            [
             0.9,
             "#4d9221"
            ],
            [
             1,
             "#276419"
            ]
           ],
           "sequential": [
            [
             0,
             "#0d0887"
            ],
            [
             0.1111111111111111,
             "#46039f"
            ],
            [
             0.2222222222222222,
             "#7201a8"
            ],
            [
             0.3333333333333333,
             "#9c179e"
            ],
            [
             0.4444444444444444,
             "#bd3786"
            ],
            [
             0.5555555555555556,
             "#d8576b"
            ],
            [
             0.6666666666666666,
             "#ed7953"
            ],
            [
             0.7777777777777778,
             "#fb9f3a"
            ],
            [
             0.8888888888888888,
             "#fdca26"
            ],
            [
             1,
             "#f0f921"
            ]
           ],
           "sequentialminus": [
            [
             0,
             "#0d0887"
            ],
            [
             0.1111111111111111,
             "#46039f"
            ],
            [
             0.2222222222222222,
             "#7201a8"
            ],
            [
             0.3333333333333333,
             "#9c179e"
            ],
            [
             0.4444444444444444,
             "#bd3786"
            ],
            [
             0.5555555555555556,
             "#d8576b"
            ],
            [
             0.6666666666666666,
             "#ed7953"
            ],
            [
             0.7777777777777778,
             "#fb9f3a"
            ],
            [
             0.8888888888888888,
             "#fdca26"
            ],
            [
             1,
             "#f0f921"
            ]
           ]
          },
          "colorway": [
           "#636efa",
           "#EF553B",
           "#00cc96",
           "#ab63fa",
           "#FFA15A",
           "#19d3f3",
           "#FF6692",
           "#B6E880",
           "#FF97FF",
           "#FECB52"
          ],
          "font": {
           "color": "#2a3f5f"
          },
          "geo": {
           "bgcolor": "white",
           "lakecolor": "white",
           "landcolor": "#E5ECF6",
           "showlakes": true,
           "showland": true,
           "subunitcolor": "white"
          },
          "hoverlabel": {
           "align": "left"
          },
          "hovermode": "closest",
          "mapbox": {
           "style": "light"
          },
          "paper_bgcolor": "white",
          "plot_bgcolor": "#E5ECF6",
          "polar": {
           "angularaxis": {
            "gridcolor": "white",
            "linecolor": "white",
            "ticks": ""
           },
           "bgcolor": "#E5ECF6",
           "radialaxis": {
            "gridcolor": "white",
            "linecolor": "white",
            "ticks": ""
           }
          },
          "scene": {
           "xaxis": {
            "backgroundcolor": "#E5ECF6",
            "gridcolor": "white",
            "gridwidth": 2,
            "linecolor": "white",
            "showbackground": true,
            "ticks": "",
            "zerolinecolor": "white"
           },
           "yaxis": {
            "backgroundcolor": "#E5ECF6",
            "gridcolor": "white",
            "gridwidth": 2,
            "linecolor": "white",
            "showbackground": true,
            "ticks": "",
            "zerolinecolor": "white"
           },
           "zaxis": {
            "backgroundcolor": "#E5ECF6",
            "gridcolor": "white",
            "gridwidth": 2,
            "linecolor": "white",
            "showbackground": true,
            "ticks": "",
            "zerolinecolor": "white"
           }
          },
          "shapedefaults": {
           "line": {
            "color": "#2a3f5f"
           }
          },
          "ternary": {
           "aaxis": {
            "gridcolor": "white",
            "linecolor": "white",
            "ticks": ""
           },
           "baxis": {
            "gridcolor": "white",
            "linecolor": "white",
            "ticks": ""
           },
           "bgcolor": "#E5ECF6",
           "caxis": {
            "gridcolor": "white",
            "linecolor": "white",
            "ticks": ""
           }
          },
          "title": {
           "x": 0.05
          },
          "xaxis": {
           "automargin": true,
           "gridcolor": "white",
           "linecolor": "white",
           "ticks": "",
           "title": {
            "standoff": 15
           },
           "zerolinecolor": "white",
           "zerolinewidth": 2
          },
          "yaxis": {
           "automargin": true,
           "gridcolor": "white",
           "linecolor": "white",
           "ticks": "",
           "title": {
            "standoff": 15
           },
           "zerolinecolor": "white",
           "zerolinewidth": 2
          }
         }
        }
       }
      },
      "image/png": "[encoded data removed]"
     },
     "metadata": {},
     "output_type": "display_data"
    }
   ],
   "source": [
    "fig = plot(curve)\n",
    "cycle = PH['representatives'][0]\n",
    "\n",
    "plot_cycle(curve, cycle, fig, 'green', 'cycle 1')"
   ]
  },
  {
   "cell_type": "code",
   "execution_count": 25,
   "id": "936706b2-9777-4622-ae83-4a7efcce27b7",
   "metadata": {
    "tags": []
   },
   "outputs": [],
   "source": [
    "bar=PH[\"barcode\"]"
   ]
  },
  {
   "cell_type": "code",
   "execution_count": 33,
   "id": "ec8a0d3b-acfb-43b9-9cba-7a28d2b0aaa1",
   "metadata": {
    "tags": []
   },
   "outputs": [],
   "source": [
    "def load_PH(step):\n",
    "    with open(\"PH/PH_rings/PH_{}.json\".format(step), \"r\") as f:\n",
    "        PH = json.load(f)\n",
    "    return PH"
   ]
  },
  {
   "cell_type": "code",
   "execution_count": 35,
   "id": "e0366333-b960-4621-8002-1389325cc894",
   "metadata": {
    "tags": []
   },
   "outputs": [],
   "source": [
    "H_all = [load_PH(s) for s in range(24)]"
   ]
  },
  {
   "cell_type": "code",
   "execution_count": 37,
   "id": "98a45aab-489c-4349-b36f-afb5fd23be84",
   "metadata": {
    "tags": []
   },
   "outputs": [],
   "source": [
    "B,D = [],[]\n",
    "dataframes = []\n",
    "for i in range(len(H_all)):\n",
    "    b,d = H_all[i][\"barcode\"]\n",
    "    B.append(max(b))\n",
    "    D.append(max(d))\n",
    "    df = pd.DataFrame()\n",
    "    df['birth'] = b\n",
    "    df['death'] = d\n",
    "    df['frame'] = i\n",
    "    df['per'] = [i for i in range(len(b))]\n",
    "    dataframes.append(df)\n",
    "Df = pd.concat(dataframes)\n",
    "Df;"
   ]
  },
  {
   "cell_type": "code",
   "execution_count": 39,
   "id": "b27d89ea-99d2-4b4c-ab93-9654b8586ccf",
   "metadata": {
    "tags": []
   },
   "outputs": [
    {
     "data": {
      "application/vnd.plotly.v1+json": {
       "config": {
        "plotlyServerURL": "https://plot.ly"
       },
       "data": [
        {
         "hovertemplate": "<b>%{hovertext}</b><br><br>frame=0<br>birth=%{x}<br>death=%{y}<br>per=%{marker.color}<extra></extra>",
         "hovertext": {
          "bdata": "AAAAAAAAAAAAAAAAAAAAAAAAAAAAAAAAAAAAAAAAAAA=",
          "dtype": "f8"
         },
         "legendgroup": "",
         "marker": {
          "color": {
           "bdata": "AAECAw==",
           "dtype": "i1"
          },
          "coloraxis": "coloraxis",
          "symbol": "circle"
         },
         "mode": "markers",
         "name": "",
         "orientation": "v",
         "showlegend": false,
         "type": "scatter",
         "x": {
          "bdata": "S/t0ho9sCEDSpbxGvxwGQKanD9ZpRRNAkdg7MfbmEUA=",
          "dtype": "f8"
         },
         "xaxis": "x",
         "y": {
          "bdata": "SvLCwJg2HEC7lfbbuecUQGb2pnlp4BNA4q0fWNkKEkA=",
          "dtype": "f8"
         },
         "yaxis": "y"
        }
       ],
       "frames": [
        {
         "data": [
          {
           "hovertemplate": "<b>%{hovertext}</b><br><br>frame=0<br>birth=%{x}<br>death=%{y}<br>per=%{marker.color}<extra></extra>",
           "hovertext": {
            "bdata": "AAAAAAAAAAAAAAAAAAAAAAAAAAAAAAAAAAAAAAAAAAA=",
            "dtype": "f8"
           },
           "legendgroup": "",
           "marker": {
            "color": {
             "bdata": "AAECAw==",
             "dtype": "i1"
            },
            "coloraxis": "coloraxis",
            "symbol": "circle"
           },
           "mode": "markers",
           "name": "",
           "orientation": "v",
           "showlegend": false,
           "type": "scatter",
           "x": {
            "bdata": "S/t0ho9sCEDSpbxGvxwGQKanD9ZpRRNAkdg7MfbmEUA=",
            "dtype": "f8"
           },
           "xaxis": "x",
           "y": {
            "bdata": "SvLCwJg2HEC7lfbbuecUQGb2pnlp4BNA4q0fWNkKEkA=",
            "dtype": "f8"
           },
           "yaxis": "y"
          }
         ],
         "name": "0"
        },
        {
         "data": [
          {
           "hovertemplate": "<b>%{hovertext}</b><br><br>frame=1<br>birth=%{x}<br>death=%{y}<br>per=%{marker.color}<extra></extra>",
           "hovertext": {
            "bdata": "AAAAAAAA8D8AAAAAAADwPwAAAAAAAPA/",
            "dtype": "f8"
           },
           "legendgroup": "",
           "marker": {
            "color": {
             "bdata": "AAEC",
             "dtype": "i1"
            },
            "coloraxis": "coloraxis",
            "symbol": "circle"
           },
           "mode": "markers",
           "name": "",
           "orientation": "v",
           "showlegend": false,
           "type": "scatter",
           "x": {
            "bdata": "AXyNwDhKB0DSpbxGvxwGQDZ3vLXscxRA",
            "dtype": "f8"
           },
           "xaxis": "x",
           "y": {
            "bdata": "NScE7GVyHkDmPxDm3JYVQOmmqWBv5BRA",
            "dtype": "f8"
           },
           "yaxis": "y"
          }
         ],
         "name": "1"
        },
        {
         "data": [
          {
           "hovertemplate": "<b>%{hovertext}</b><br><br>frame=2<br>birth=%{x}<br>death=%{y}<br>per=%{marker.color}<extra></extra>",
           "hovertext": {
            "bdata": "AAAAAAAAAEAAAAAAAAAAQA==",
            "dtype": "f8"
           },
           "legendgroup": "",
           "marker": {
            "color": {
             "bdata": "AAE=",
             "dtype": "i1"
            },
            "coloraxis": "coloraxis",
            "symbol": "circle"
           },
           "mode": "markers",
           "name": "",
           "orientation": "v",
           "showlegend": false,
           "type": "scatter",
           "x": {
            "bdata": "bucIAc0oBkAcFvu4vxwGQA==",
            "dtype": "f8"
           },
           "xaxis": "x",
           "y": {
            "bdata": "EC4MXXVKIECiVwqYZu4WQA==",
            "dtype": "f8"
           },
           "yaxis": "y"
          }
         ],
         "name": "2"
        },
        {
         "data": [
          {
           "hovertemplate": "<b>%{hovertext}</b><br><br>frame=3<br>birth=%{x}<br>death=%{y}<br>per=%{marker.color}<extra></extra>",
           "hovertext": {
            "bdata": "AAAAAAAACEAAAAAAAAAIQA==",
            "dtype": "f8"
           },
           "legendgroup": "",
           "marker": {
            "color": {
             "bdata": "AAE=",
             "dtype": "i1"
            },
            "coloraxis": "coloraxis",
            "symbol": "circle"
           },
           "mode": "markers",
           "name": "",
           "orientation": "v",
           "showlegend": false,
           "type": "scatter",
           "x": {
            "bdata": "JTRa+a1bB0AbFvu4vxwGQA==",
            "dtype": "f8"
           },
           "xaxis": "x",
           "y": {
            "bdata": "qyLmkzcAIUDlYz/P/fEYQA==",
            "dtype": "f8"
           },
           "yaxis": "y"
          }
         ],
         "name": "3"
        },
        {
         "data": [
          {
           "hovertemplate": "<b>%{hovertext}</b><br><br>frame=4<br>birth=%{x}<br>death=%{y}<br>per=%{marker.color}<extra></extra>",
           "hovertext": {
            "bdata": "AAAAAAAAEEAAAAAAAAAQQA==",
            "dtype": "f8"
           },
           "legendgroup": "",
           "marker": {
            "color": {
             "bdata": "AAE=",
             "dtype": "i1"
            },
            "coloraxis": "coloraxis",
            "symbol": "circle"
           },
           "mode": "markers",
           "name": "",
           "orientation": "v",
           "showlegend": false,
           "type": "scatter",
           "x": {
            "bdata": "d4wppaFSBkAbFvu4vxwGQA==",
            "dtype": "f8"
           },
           "xaxis": "x",
           "y": {
            "bdata": "WqPg36UEIkDF1yyFxCkbQA==",
            "dtype": "f8"
           },
           "yaxis": "y"
          }
         ],
         "name": "4"
        },
        {
         "data": [
          {
           "hovertemplate": "<b>%{hovertext}</b><br><br>frame=5<br>birth=%{x}<br>death=%{y}<br>per=%{marker.color}<extra></extra>",
           "hovertext": {
            "bdata": "AAAAAAAAFEAAAAAAAAAUQA==",
            "dtype": "f8"
           },
           "legendgroup": "",
           "marker": {
            "color": {
             "bdata": "AAE=",
             "dtype": "i1"
            },
            "coloraxis": "coloraxis",
            "symbol": "circle"
           },
           "mode": "markers",
           "name": "",
           "orientation": "v",
           "showlegend": false,
           "type": "scatter",
           "x": {
            "bdata": "1FwPXQ1RBkAbFvu4vxwGQA==",
            "dtype": "f8"
           },
           "xaxis": "x",
           "y": {
            "bdata": "KEYsG5FlIkA2KDO6454dQA==",
            "dtype": "f8"
           },
           "yaxis": "y"
          }
         ],
         "name": "5"
        },
        {
         "data": [
          {
           "hovertemplate": "<b>%{hovertext}</b><br><br>frame=6<br>birth=%{x}<br>death=%{y}<br>per=%{marker.color}<extra></extra>",
           "hovertext": {
            "bdata": "AAAAAAAAGEAAAAAAAAAYQA==",
            "dtype": "f8"
           },
           "legendgroup": "",
           "marker": {
            "color": {
             "bdata": "AAE=",
             "dtype": "i1"
            },
            "coloraxis": "coloraxis",
            "symbol": "circle"
           },
           "mode": "markers",
           "name": "",
           "orientation": "v",
           "showlegend": false,
           "type": "scatter",
           "x": {
            "bdata": "lrV4dNxPCEDRpbxGvxwGQA==",
            "dtype": "f8"
           },
           "xaxis": "x",
           "y": {
            "bdata": "I0kxJwhKI0BqoXc1+bcdQA==",
            "dtype": "f8"
           },
           "yaxis": "y"
          }
         ],
         "name": "6"
        },
        {
         "data": [
          {
           "hovertemplate": "<b>%{hovertext}</b><br><br>frame=7<br>birth=%{x}<br>death=%{y}<br>per=%{marker.color}<extra></extra>",
           "hovertext": {
            "bdata": "AAAAAAAAHEAAAAAAAAAcQA==",
            "dtype": "f8"
           },
           "legendgroup": "",
           "marker": {
            "color": {
             "bdata": "AAE=",
             "dtype": "i1"
            },
            "coloraxis": "coloraxis",
            "symbol": "circle"
           },
           "mode": "markers",
           "name": "",
           "orientation": "v",
           "showlegend": false,
           "type": "scatter",
           "x": {
            "bdata": "CQCIxNmFBkDQpbxGvxwGQA==",
            "dtype": "f8"
           },
           "xaxis": "x",
           "y": {
            "bdata": "Ssp0uxuLJECacnMQZwogQA==",
            "dtype": "f8"
           },
           "yaxis": "y"
          }
         ],
         "name": "7"
        },
        {
         "data": [
          {
           "hovertemplate": "<b>%{hovertext}</b><br><br>frame=8<br>birth=%{x}<br>death=%{y}<br>per=%{marker.color}<extra></extra>",
           "hovertext": {
            "bdata": "AAAAAAAAIEAAAAAAAAAgQA==",
            "dtype": "f8"
           },
           "legendgroup": "",
           "marker": {
            "color": {
             "bdata": "AAE=",
             "dtype": "i1"
            },
            "coloraxis": "coloraxis",
            "symbol": "circle"
           },
           "mode": "markers",
           "name": "",
           "orientation": "v",
           "showlegend": false,
           "type": "scatter",
           "x": {
            "bdata": "8bAccu/aBkDQpbxGvxwGQA==",
            "dtype": "f8"
           },
           "xaxis": "x",
           "y": {
            "bdata": "NSLDf0u7JEDxzjkwOZ8gQA==",
            "dtype": "f8"
           },
           "yaxis": "y"
          }
         ],
         "name": "8"
        },
        {
         "data": [
          {
           "hovertemplate": "<b>%{hovertext}</b><br><br>frame=9<br>birth=%{x}<br>death=%{y}<br>per=%{marker.color}<extra></extra>",
           "hovertext": {
            "bdata": "AAAAAAAAIkAAAAAAAAAiQA==",
            "dtype": "f8"
           },
           "legendgroup": "",
           "marker": {
            "color": {
             "bdata": "AAE=",
             "dtype": "i1"
            },
            "coloraxis": "coloraxis",
            "symbol": "circle"
           },
           "mode": "markers",
           "name": "",
           "orientation": "v",
           "showlegend": false,
           "type": "scatter",
           "x": {
            "bdata": "Mby6rnv7B0AcFvu4vxwGQA==",
            "dtype": "f8"
           },
           "xaxis": "x",
           "y": {
            "bdata": "y0kER2P3JEDxzjkwOZ8gQA==",
            "dtype": "f8"
           },
           "yaxis": "y"
          }
         ],
         "name": "9"
        },
        {
         "data": [
          {
           "hovertemplate": "<b>%{hovertext}</b><br><br>frame=10<br>birth=%{x}<br>death=%{y}<br>per=%{marker.color}<extra></extra>",
           "hovertext": {
            "bdata": "AAAAAAAAJEAAAAAAAAAkQA==",
            "dtype": "f8"
           },
           "legendgroup": "",
           "marker": {
            "color": {
             "bdata": "AAE=",
             "dtype": "i1"
            },
            "coloraxis": "coloraxis",
            "symbol": "circle"
           },
           "mode": "markers",
           "name": "",
           "orientation": "v",
           "showlegend": false,
           "type": "scatter",
           "x": {
            "bdata": "7KNta56KCEAcFvu4vxwGQA==",
            "dtype": "f8"
           },
           "xaxis": "x",
           "y": {
            "bdata": "bSJFVqsvJUDyzjkwOZ8gQA==",
            "dtype": "f8"
           },
           "yaxis": "y"
          }
         ],
         "name": "10"
        },
        {
         "data": [
          {
           "hovertemplate": "<b>%{hovertext}</b><br><br>frame=11<br>birth=%{x}<br>death=%{y}<br>per=%{marker.color}<extra></extra>",
           "hovertext": {
            "bdata": "AAAAAAAAJkAAAAAAAAAmQA==",
            "dtype": "f8"
           },
           "legendgroup": "",
           "marker": {
            "color": {
             "bdata": "AAE=",
             "dtype": "i1"
            },
            "coloraxis": "coloraxis",
            "symbol": "circle"
           },
           "mode": "markers",
           "name": "",
           "orientation": "v",
           "showlegend": false,
           "type": "scatter",
           "x": {
            "bdata": "ZRCDQ4ZPB0AcFvu4vxwGQA==",
            "dtype": "f8"
           },
           "xaxis": "x",
           "y": {
            "bdata": "ssiI1p/rJEDxzjkwOZ8gQA==",
            "dtype": "f8"
           },
           "yaxis": "y"
          }
         ],
         "name": "11"
        },
        {
         "data": [
          {
           "hovertemplate": "<b>%{hovertext}</b><br><br>frame=12<br>birth=%{x}<br>death=%{y}<br>per=%{marker.color}<extra></extra>",
           "hovertext": {
            "bdata": "AAAAAAAAKEAAAAAAAAAoQA==",
            "dtype": "f8"
           },
           "legendgroup": "",
           "marker": {
            "color": {
             "bdata": "AAE=",
             "dtype": "i1"
            },
            "coloraxis": "coloraxis",
            "symbol": "circle"
           },
           "mode": "markers",
           "name": "",
           "orientation": "v",
           "showlegend": false,
           "type": "scatter",
           "x": {
            "bdata": "sejyYw18CEDUper0vhwGQA==",
            "dtype": "f8"
           },
           "xaxis": "x",
           "y": {
            "bdata": "gLtD1K1TJUDyzjkwOZ8gQA==",
            "dtype": "f8"
           },
           "yaxis": "y"
          }
         ],
         "name": "12"
        },
        {
         "data": [
          {
           "hovertemplate": "<b>%{hovertext}</b><br><br>frame=13<br>birth=%{x}<br>death=%{y}<br>per=%{marker.color}<extra></extra>",
           "hovertext": {
            "bdata": "AAAAAAAAKkAAAAAAAAAqQA==",
            "dtype": "f8"
           },
           "legendgroup": "",
           "marker": {
            "color": {
             "bdata": "AAE=",
             "dtype": "i1"
            },
            "coloraxis": "coloraxis",
            "symbol": "circle"
           },
           "mode": "markers",
           "name": "",
           "orientation": "v",
           "showlegend": false,
           "type": "scatter",
           "x": {
            "bdata": "C81ZAbK3BkDTAWgBvxwGQA==",
            "dtype": "f8"
           },
           "xaxis": "x",
           "y": {
            "bdata": "qlB9iIbvJEDyzjkwOZ8gQA==",
            "dtype": "f8"
           },
           "yaxis": "y"
          }
         ],
         "name": "13"
        },
        {
         "data": [
          {
           "hovertemplate": "<b>%{hovertext}</b><br><br>frame=14<br>birth=%{x}<br>death=%{y}<br>per=%{marker.color}<extra></extra>",
           "hovertext": {
            "bdata": "AAAAAAAALEAAAAAAAAAsQA==",
            "dtype": "f8"
           },
           "legendgroup": "",
           "marker": {
            "color": {
             "bdata": "AAE=",
             "dtype": "i1"
            },
            "coloraxis": "coloraxis",
            "symbol": "circle"
           },
           "mode": "markers",
           "name": "",
           "orientation": "v",
           "showlegend": false,
           "type": "scatter",
           "x": {
            "bdata": "aOUn9IJjB0AbFvu4vxwGQA==",
            "dtype": "f8"
           },
           "xaxis": "x",
           "y": {
            "bdata": "qaluV4PgJEDbcpswOZ8gQA==",
            "dtype": "f8"
           },
           "yaxis": "y"
          }
         ],
         "name": "14"
        },
        {
         "data": [
          {
           "hovertemplate": "<b>%{hovertext}</b><br><br>frame=15<br>birth=%{x}<br>death=%{y}<br>per=%{marker.color}<extra></extra>",
           "hovertext": {
            "bdata": "AAAAAAAALkAAAAAAAAAuQA==",
            "dtype": "f8"
           },
           "legendgroup": "",
           "marker": {
            "color": {
             "bdata": "AAE=",
             "dtype": "i1"
            },
            "coloraxis": "coloraxis",
            "symbol": "circle"
           },
           "mode": "markers",
           "name": "",
           "orientation": "v",
           "showlegend": false,
           "type": "scatter",
           "x": {
            "bdata": "2FjhLpycBkDRpbxGvxwGQA==",
            "dtype": "f8"
           },
           "xaxis": "x",
           "y": {
            "bdata": "u6ffFCa4JEDbcpswOZ8gQA==",
            "dtype": "f8"
           },
           "yaxis": "y"
          }
         ],
         "name": "15"
        },
        {
         "data": [
          {
           "hovertemplate": "<b>%{hovertext}</b><br><br>frame=16<br>birth=%{x}<br>death=%{y}<br>per=%{marker.color}<extra></extra>",
           "hovertext": {
            "bdata": "AAAAAAAAMEAAAAAAAAAwQA==",
            "dtype": "f8"
           },
           "legendgroup": "",
           "marker": {
            "color": {
             "bdata": "AAE=",
             "dtype": "i1"
            },
            "coloraxis": "coloraxis",
            "symbol": "circle"
           },
           "mode": "markers",
           "name": "",
           "orientation": "v",
           "showlegend": false,
           "type": "scatter",
           "x": {
            "bdata": "KC9+8mxNBkDQpbxGvxwGQA==",
            "dtype": "f8"
           },
           "xaxis": "x",
           "y": {
            "bdata": "h8vU9Z3dJEDccpswOZ8gQA==",
            "dtype": "f8"
           },
           "yaxis": "y"
          }
         ],
         "name": "16"
        },
        {
         "data": [
          {
           "hovertemplate": "<b>%{hovertext}</b><br><br>frame=17<br>birth=%{x}<br>death=%{y}<br>per=%{marker.color}<extra></extra>",
           "hovertext": {
            "bdata": "AAAAAAAAMUAAAAAAAAAxQA==",
            "dtype": "f8"
           },
           "legendgroup": "",
           "marker": {
            "color": {
             "bdata": "AAE=",
             "dtype": "i1"
            },
            "coloraxis": "coloraxis",
            "symbol": "circle"
           },
           "mode": "markers",
           "name": "",
           "orientation": "v",
           "showlegend": false,
           "type": "scatter",
           "x": {
            "bdata": "viiolshTB0DRpbxGvxwGQA==",
            "dtype": "f8"
           },
           "xaxis": "x",
           "y": {
            "bdata": "/W+ac74yJUAPv9YwOZ8gQA==",
            "dtype": "f8"
           },
           "yaxis": "y"
          }
         ],
         "name": "17"
        },
        {
         "data": [
          {
           "hovertemplate": "<b>%{hovertext}</b><br><br>frame=18<br>birth=%{x}<br>death=%{y}<br>per=%{marker.color}<extra></extra>",
           "hovertext": {
            "bdata": "AAAAAAAAMkAAAAAAAAAyQA==",
            "dtype": "f8"
           },
           "legendgroup": "",
           "marker": {
            "color": {
             "bdata": "AAE=",
             "dtype": "i1"
            },
            "coloraxis": "coloraxis",
            "symbol": "circle"
           },
           "mode": "markers",
           "name": "",
           "orientation": "v",
           "showlegend": false,
           "type": "scatter",
           "x": {
            "bdata": "ia2QUgvJBUCGun2svxwGQA==",
            "dtype": "f8"
           },
           "xaxis": "x",
           "y": {
            "bdata": "3EDDLzr/JEDxzjkwOZ8gQA==",
            "dtype": "f8"
           },
           "yaxis": "y"
          }
         ],
         "name": "18"
        },
        {
         "data": [
          {
           "hovertemplate": "<b>%{hovertext}</b><br><br>frame=19<br>birth=%{x}<br>death=%{y}<br>per=%{marker.color}<extra></extra>",
           "hovertext": {
            "bdata": "AAAAAAAAM0AAAAAAAAAzQA==",
            "dtype": "f8"
           },
           "legendgroup": "",
           "marker": {
            "color": {
             "bdata": "AAE=",
             "dtype": "i1"
            },
            "coloraxis": "coloraxis",
            "symbol": "circle"
           },
           "mode": "markers",
           "name": "",
           "orientation": "v",
           "showlegend": false,
           "type": "scatter",
           "x": {
            "bdata": "owABzN3QB0CEun2svxwGQA==",
            "dtype": "f8"
           },
           "xaxis": "x",
           "y": {
            "bdata": "PX77FeF9JUAOv9YwOZ8gQA==",
            "dtype": "f8"
           },
           "yaxis": "y"
          }
         ],
         "name": "19"
        },
        {
         "data": [
          {
           "hovertemplate": "<b>%{hovertext}</b><br><br>frame=20<br>birth=%{x}<br>death=%{y}<br>per=%{marker.color}<extra></extra>",
           "hovertext": {
            "bdata": "AAAAAAAANEAAAAAAAAA0QA==",
            "dtype": "f8"
           },
           "legendgroup": "",
           "marker": {
            "color": {
             "bdata": "AAE=",
             "dtype": "i1"
            },
            "coloraxis": "coloraxis",
            "symbol": "circle"
           },
           "mode": "markers",
           "name": "",
           "orientation": "v",
           "showlegend": false,
           "type": "scatter",
           "x": {
            "bdata": "ZsmXkVS8BkAaFvu4vxwGQA==",
            "dtype": "f8"
           },
           "xaxis": "x",
           "y": {
            "bdata": "5v+wAtHQJEAPv9YwOZ8gQA==",
            "dtype": "f8"
           },
           "yaxis": "y"
          }
         ],
         "name": "20"
        },
        {
         "data": [
          {
           "hovertemplate": "<b>%{hovertext}</b><br><br>frame=21<br>birth=%{x}<br>death=%{y}<br>per=%{marker.color}<extra></extra>",
           "hovertext": {
            "bdata": "AAAAAAAANUAAAAAAAAA1QA==",
            "dtype": "f8"
           },
           "legendgroup": "",
           "marker": {
            "color": {
             "bdata": "AAE=",
             "dtype": "i1"
            },
            "coloraxis": "coloraxis",
            "symbol": "circle"
           },
           "mode": "markers",
           "name": "",
           "orientation": "v",
           "showlegend": false,
           "type": "scatter",
           "x": {
            "bdata": "EcdPop+PB0DQpbxGvxwGQA==",
            "dtype": "f8"
           },
           "xaxis": "x",
           "y": {
            "bdata": "9hkFbBIcJUDbcpswOZ8gQA==",
            "dtype": "f8"
           },
           "yaxis": "y"
          }
         ],
         "name": "21"
        },
        {
         "data": [
          {
           "hovertemplate": "<b>%{hovertext}</b><br><br>frame=22<br>birth=%{x}<br>death=%{y}<br>per=%{marker.color}<extra></extra>",
           "hovertext": {
            "bdata": "AAAAAAAANkAAAAAAAAA2QA==",
            "dtype": "f8"
           },
           "legendgroup": "",
           "marker": {
            "color": {
             "bdata": "AAE=",
             "dtype": "i1"
            },
            "coloraxis": "coloraxis",
            "symbol": "circle"
           },
           "mode": "markers",
           "name": "",
           "orientation": "v",
           "showlegend": false,
           "type": "scatter",
           "x": {
            "bdata": "kPaw4DGIB0DQpbxGvxwGQA==",
            "dtype": "f8"
           },
           "xaxis": "x",
           "y": {
            "bdata": "JmwSngU6JUDyzjkwOZ8gQA==",
            "dtype": "f8"
           },
           "yaxis": "y"
          }
         ],
         "name": "22"
        },
        {
         "data": [
          {
           "hovertemplate": "<b>%{hovertext}</b><br><br>frame=23<br>birth=%{x}<br>death=%{y}<br>per=%{marker.color}<extra></extra>",
           "hovertext": {
            "bdata": "AAAAAAAAN0AAAAAAAAA3QA==",
            "dtype": "f8"
           },
           "legendgroup": "",
           "marker": {
            "color": {
             "bdata": "AAE=",
             "dtype": "i1"
            },
            "coloraxis": "coloraxis",
            "symbol": "circle"
           },
           "mode": "markers",
           "name": "",
           "orientation": "v",
           "showlegend": false,
           "type": "scatter",
           "x": {
            "bdata": "0vRNvMPSB0DQpbxGvxwGQA==",
            "dtype": "f8"
           },
           "xaxis": "x",
           "y": {
            "bdata": "hdbqarPMJEAOv9YwOZ8gQA==",
            "dtype": "f8"
           },
           "yaxis": "y"
          }
         ],
         "name": "23"
        }
       ],
       "layout": {
        "coloraxis": {
         "colorbar": {
          "title": {
           "text": "per"
          }
         },
         "colorscale": [
          [
           0,
           "#0d0887"
          ],
          [
           0.1111111111111111,
           "#46039f"
          ],
          [
           0.2222222222222222,
           "#7201a8"
          ],
          [
           0.3333333333333333,
           "#9c179e"
          ],
          [
           0.4444444444444444,
           "#bd3786"
          ],
          [
           0.5555555555555556,
           "#d8576b"
          ],
          [
           0.6666666666666666,
           "#ed7953"
          ],
          [
           0.7777777777777778,
           "#fb9f3a"
          ],
          [
           0.8888888888888888,
           "#fdca26"
          ],
          [
           1,
           "#f0f921"
          ]
         ]
        },
        "legend": {
         "tracegroupgap": 0
        },
        "margin": {
         "t": 60
        },
        "sliders": [
         {
          "active": 0,
          "currentvalue": {
           "prefix": "frame="
          },
          "len": 0.9,
          "pad": {
           "b": 10,
           "t": 60
          },
          "steps": [
           {
            "args": [
             [
              "0"
             ],
             {
              "frame": {
               "duration": 0,
               "redraw": false
              },
              "fromcurrent": true,
              "mode": "immediate",
              "transition": {
               "duration": 0,
               "easing": "linear"
              }
             }
            ],
            "label": "0",
            "method": "animate"
           },
           {
            "args": [
             [
              "1"
             ],
             {
              "frame": {
               "duration": 0,
               "redraw": false
              },
              "fromcurrent": true,
              "mode": "immediate",
              "transition": {
               "duration": 0,
               "easing": "linear"
              }
             }
            ],
            "label": "1",
            "method": "animate"
           },
           {
            "args": [
             [
              "2"
             ],
             {
              "frame": {
               "duration": 0,
               "redraw": false
              },
              "fromcurrent": true,
              "mode": "immediate",
              "transition": {
               "duration": 0,
               "easing": "linear"
              }
             }
            ],
            "label": "2",
            "method": "animate"
           },
           {
            "args": [
             [
              "3"
             ],
             {
              "frame": {
               "duration": 0,
               "redraw": false
              },
              "fromcurrent": true,
              "mode": "immediate",
              "transition": {
               "duration": 0,
               "easing": "linear"
              }
             }
            ],
            "label": "3",
            "method": "animate"
           },
           {
            "args": [
             [
              "4"
             ],
             {
              "frame": {
               "duration": 0,
               "redraw": false
              },
              "fromcurrent": true,
              "mode": "immediate",
              "transition": {
               "duration": 0,
               "easing": "linear"
              }
             }
            ],
            "label": "4",
            "method": "animate"
           },
           {
            "args": [
             [
              "5"
             ],
             {
              "frame": {
               "duration": 0,
               "redraw": false
              },
              "fromcurrent": true,
              "mode": "immediate",
              "transition": {
               "duration": 0,
               "easing": "linear"
              }
             }
            ],
            "label": "5",
            "method": "animate"
           },
           {
            "args": [
             [
              "6"
             ],
             {
              "frame": {
               "duration": 0,
               "redraw": false
              },
              "fromcurrent": true,
              "mode": "immediate",
              "transition": {
               "duration": 0,
               "easing": "linear"
              }
             }
            ],
            "label": "6",
            "method": "animate"
           },
           {
            "args": [
             [
              "7"
             ],
             {
              "frame": {
               "duration": 0,
               "redraw": false
              },
              "fromcurrent": true,
              "mode": "immediate",
              "transition": {
               "duration": 0,
               "easing": "linear"
              }
             }
            ],
            "label": "7",
            "method": "animate"
           },
           {
            "args": [
             [
              "8"
             ],
             {
              "frame": {
               "duration": 0,
               "redraw": false
              },
              "fromcurrent": true,
              "mode": "immediate",
              "transition": {
               "duration": 0,
               "easing": "linear"
              }
             }
            ],
            "label": "8",
            "method": "animate"
           },
           {
            "args": [
             [
              "9"
             ],
             {
              "frame": {
               "duration": 0,
               "redraw": false
              },
              "fromcurrent": true,
              "mode": "immediate",
              "transition": {
               "duration": 0,
               "easing": "linear"
              }
             }
            ],
            "label": "9",
            "method": "animate"
           },
           {
            "args": [
             [
              "10"
             ],
             {
              "frame": {
               "duration": 0,
               "redraw": false
              },
              "fromcurrent": true,
              "mode": "immediate",
              "transition": {
               "duration": 0,
               "easing": "linear"
              }
             }
            ],
            "label": "10",
            "method": "animate"
           },
           {
            "args": [
             [
              "11"
             ],
             {
              "frame": {
               "duration": 0,
               "redraw": false
              },
              "fromcurrent": true,
              "mode": "immediate",
              "transition": {
               "duration": 0,
               "easing": "linear"
              }
             }
            ],
            "label": "11",
            "method": "animate"
           },
           {
            "args": [
             [
              "12"
             ],
             {
              "frame": {
               "duration": 0,
               "redraw": false
              },
              "fromcurrent": true,
              "mode": "immediate",
              "transition": {
               "duration": 0,
               "easing": "linear"
              }
             }
            ],
            "label": "12",
            "method": "animate"
           },
           {
            "args": [
             [
              "13"
             ],
             {
              "frame": {
               "duration": 0,
               "redraw": false
              },
              "fromcurrent": true,
              "mode": "immediate",
              "transition": {
               "duration": 0,
               "easing": "linear"
              }
             }
            ],
            "label": "13",
            "method": "animate"
           },
           {
            "args": [
             [
              "14"
             ],
             {
              "frame": {
               "duration": 0,
               "redraw": false
              },
              "fromcurrent": true,
              "mode": "immediate",
              "transition": {
               "duration": 0,
               "easing": "linear"
              }
             }
            ],
            "label": "14",
            "method": "animate"
           },
           {
            "args": [
             [
              "15"
             ],
             {
              "frame": {
               "duration": 0,
               "redraw": false
              },
              "fromcurrent": true,
              "mode": "immediate",
              "transition": {
               "duration": 0,
               "easing": "linear"
              }
             }
            ],
            "label": "15",
            "method": "animate"
           },
           {
            "args": [
             [
              "16"
             ],
             {
              "frame": {
               "duration": 0,
               "redraw": false
              },
              "fromcurrent": true,
              "mode": "immediate",
              "transition": {
               "duration": 0,
               "easing": "linear"
              }
             }
            ],
            "label": "16",
            "method": "animate"
           },
           {
            "args": [
             [
              "17"
             ],
             {
              "frame": {
               "duration": 0,
               "redraw": false
              },
              "fromcurrent": true,
              "mode": "immediate",
              "transition": {
               "duration": 0,
               "easing": "linear"
              }
             }
            ],
            "label": "17",
            "method": "animate"
           },
           {
            "args": [
             [
              "18"
             ],
             {
              "frame": {
               "duration": 0,
               "redraw": false
              },
              "fromcurrent": true,
              "mode": "immediate",
              "transition": {
               "duration": 0,
               "easing": "linear"
              }
             }
            ],
            "label": "18",
            "method": "animate"
           },
           {
            "args": [
             [
              "19"
             ],
             {
              "frame": {
               "duration": 0,
               "redraw": false
              },
              "fromcurrent": true,
              "mode": "immediate",
              "transition": {
               "duration": 0,
               "easing": "linear"
              }
             }
            ],
            "label": "19",
            "method": "animate"
           },
           {
            "args": [
             [
              "20"
             ],
             {
              "frame": {
               "duration": 0,
               "redraw": false
              },
              "fromcurrent": true,
              "mode": "immediate",
              "transition": {
               "duration": 0,
               "easing": "linear"
              }
             }
            ],
            "label": "20",
            "method": "animate"
           },
           {
            "args": [
             [
              "21"
             ],
             {
              "frame": {
               "duration": 0,
               "redraw": false
              },
              "fromcurrent": true,
              "mode": "immediate",
              "transition": {
               "duration": 0,
               "easing": "linear"
              }
             }
            ],
            "label": "21",
            "method": "animate"
           },
           {
            "args": [
             [
              "22"
             ],
             {
              "frame": {
               "duration": 0,
               "redraw": false
              },
              "fromcurrent": true,
              "mode": "immediate",
              "transition": {
               "duration": 0,
               "easing": "linear"
              }
             }
            ],
            "label": "22",
            "method": "animate"
           },
           {
            "args": [
             [
              "23"
             ],
             {
              "frame": {
               "duration": 0,
               "redraw": false
              },
              "fromcurrent": true,
              "mode": "immediate",
              "transition": {
               "duration": 0,
               "easing": "linear"
              }
             }
            ],
            "label": "23",
            "method": "animate"
           }
          ],
          "x": 0.1,
          "xanchor": "left",
          "y": 0,
          "yanchor": "top"
         }
        ],
        "template": {
         "data": {
          "bar": [
           {
            "error_x": {
             "color": "#2a3f5f"
            },
            "error_y": {
             "color": "#2a3f5f"
            },
            "marker": {
             "line": {
              "color": "#E5ECF6",
              "width": 0.5
             },
             "pattern": {
              "fillmode": "overlay",
              "size": 10,
              "solidity": 0.2
             }
            },
            "type": "bar"
           }
          ],
          "barpolar": [
           {
            "marker": {
             "line": {
              "color": "#E5ECF6",
              "width": 0.5
             },
             "pattern": {
              "fillmode": "overlay",
              "size": 10,
              "solidity": 0.2
             }
            },
            "type": "barpolar"
           }
          ],
          "carpet": [
           {
            "aaxis": {
             "endlinecolor": "#2a3f5f",
             "gridcolor": "white",
             "linecolor": "white",
             "minorgridcolor": "white",
             "startlinecolor": "#2a3f5f"
            },
            "baxis": {
             "endlinecolor": "#2a3f5f",
             "gridcolor": "white",
             "linecolor": "white",
             "minorgridcolor": "white",
             "startlinecolor": "#2a3f5f"
            },
            "type": "carpet"
           }
          ],
          "choropleth": [
           {
            "colorbar": {
             "outlinewidth": 0,
             "ticks": ""
            },
            "type": "choropleth"
           }
          ],
          "contour": [
           {
            "colorbar": {
             "outlinewidth": 0,
             "ticks": ""
            },
            "colorscale": [
             [
              0,
              "#0d0887"
             ],
             [
              0.1111111111111111,
              "#46039f"
             ],
             [
              0.2222222222222222,
              "#7201a8"
             ],
             [
              0.3333333333333333,
              "#9c179e"
             ],
             [
              0.4444444444444444,
              "#bd3786"
             ],
             [
              0.5555555555555556,
              "#d8576b"
             ],
             [
              0.6666666666666666,
              "#ed7953"
             ],
             [
              0.7777777777777778,
              "#fb9f3a"
             ],
             [
              0.8888888888888888,
              "#fdca26"
             ],
             [
              1,
              "#f0f921"
             ]
            ],
            "type": "contour"
           }
          ],
          "contourcarpet": [
           {
            "colorbar": {
             "outlinewidth": 0,
             "ticks": ""
            },
            "type": "contourcarpet"
           }
          ],
          "heatmap": [
           {
            "colorbar": {
             "outlinewidth": 0,
             "ticks": ""
            },
            "colorscale": [
             [
              0,
              "#0d0887"
             ],
             [
              0.1111111111111111,
              "#46039f"
             ],
             [
              0.2222222222222222,
              "#7201a8"
             ],
             [
              0.3333333333333333,
              "#9c179e"
             ],
             [
              0.4444444444444444,
              "#bd3786"
             ],
             [
              0.5555555555555556,
              "#d8576b"
             ],
             [
              0.6666666666666666,
              "#ed7953"
             ],
             [
              0.7777777777777778,
              "#fb9f3a"
             ],
             [
              0.8888888888888888,
              "#fdca26"
             ],
             [
              1,
              "#f0f921"
             ]
            ],
            "type": "heatmap"
           }
          ],
          "histogram": [
           {
            "marker": {
             "pattern": {
              "fillmode": "overlay",
              "size": 10,
              "solidity": 0.2
             }
            },
            "type": "histogram"
           }
          ],
          "histogram2d": [
           {
            "colorbar": {
             "outlinewidth": 0,
             "ticks": ""
            },
            "colorscale": [
             [
              0,
              "#0d0887"
             ],
             [
              0.1111111111111111,
              "#46039f"
             ],
             [
              0.2222222222222222,
              "#7201a8"
             ],
             [
              0.3333333333333333,
              "#9c179e"
             ],
             [
              0.4444444444444444,
              "#bd3786"
             ],
             [
              0.5555555555555556,
              "#d8576b"
             ],
             [
              0.6666666666666666,
              "#ed7953"
             ],
             [
              0.7777777777777778,
              "#fb9f3a"
             ],
             [
              0.8888888888888888,
              "#fdca26"
             ],
             [
              1,
              "#f0f921"
             ]
            ],
            "type": "histogram2d"
           }
          ],
          "histogram2dcontour": [
           {
            "colorbar": {
             "outlinewidth": 0,
             "ticks": ""
            },
            "colorscale": [
             [
              0,
              "#0d0887"
             ],
             [
              0.1111111111111111,
              "#46039f"
             ],
             [
              0.2222222222222222,
              "#7201a8"
             ],
             [
              0.3333333333333333,
              "#9c179e"
             ],
             [
              0.4444444444444444,
              "#bd3786"
             ],
             [
              0.5555555555555556,
              "#d8576b"
             ],
             [
              0.6666666666666666,
              "#ed7953"
             ],
             [
              0.7777777777777778,
              "#fb9f3a"
             ],
             [
              0.8888888888888888,
              "#fdca26"
             ],
             [
              1,
              "#f0f921"
             ]
            ],
            "type": "histogram2dcontour"
           }
          ],
          "mesh3d": [
           {
            "colorbar": {
             "outlinewidth": 0,
             "ticks": ""
            },
            "type": "mesh3d"
           }
          ],
          "parcoords": [
           {
            "line": {
             "colorbar": {
              "outlinewidth": 0,
              "ticks": ""
             }
            },
            "type": "parcoords"
           }
          ],
          "pie": [
           {
            "automargin": true,
            "type": "pie"
           }
          ],
          "scatter": [
           {
            "fillpattern": {
             "fillmode": "overlay",
             "size": 10,
             "solidity": 0.2
            },
            "type": "scatter"
           }
          ],
          "scatter3d": [
           {
            "line": {
             "colorbar": {
              "outlinewidth": 0,
              "ticks": ""
             }
            },
            "marker": {
             "colorbar": {
              "outlinewidth": 0,
              "ticks": ""
             }
            },
            "type": "scatter3d"
           }
          ],
          "scattercarpet": [
           {
            "marker": {
             "colorbar": {
              "outlinewidth": 0,
              "ticks": ""
             }
            },
            "type": "scattercarpet"
           }
          ],
          "scattergeo": [
           {
            "marker": {
             "colorbar": {
              "outlinewidth": 0,
              "ticks": ""
             }
            },
            "type": "scattergeo"
           }
          ],
          "scattergl": [
           {
            "marker": {
             "colorbar": {
              "outlinewidth": 0,
              "ticks": ""
             }
            },
            "type": "scattergl"
           }
          ],
          "scattermap": [
           {
            "marker": {
             "colorbar": {
              "outlinewidth": 0,
              "ticks": ""
             }
            },
            "type": "scattermap"
           }
          ],
          "scattermapbox": [
           {
            "marker": {
             "colorbar": {
              "outlinewidth": 0,
              "ticks": ""
             }
            },
            "type": "scattermapbox"
           }
          ],
          "scatterpolar": [
           {
            "marker": {
             "colorbar": {
              "outlinewidth": 0,
              "ticks": ""
             }
            },
            "type": "scatterpolar"
           }
          ],
          "scatterpolargl": [
           {
            "marker": {
             "colorbar": {
              "outlinewidth": 0,
              "ticks": ""
             }
            },
            "type": "scatterpolargl"
           }
          ],
          "scatterternary": [
           {
            "marker": {
             "colorbar": {
              "outlinewidth": 0,
              "ticks": ""
             }
            },
            "type": "scatterternary"
           }
          ],
          "surface": [
           {
            "colorbar": {
             "outlinewidth": 0,
             "ticks": ""
            },
            "colorscale": [
             [
              0,
              "#0d0887"
             ],
             [
              0.1111111111111111,
              "#46039f"
             ],
             [
              0.2222222222222222,
              "#7201a8"
             ],
             [
              0.3333333333333333,
              "#9c179e"
             ],
             [
              0.4444444444444444,
              "#bd3786"
             ],
             [
              0.5555555555555556,
              "#d8576b"
             ],
             [
              0.6666666666666666,
              "#ed7953"
             ],
             [
              0.7777777777777778,
              "#fb9f3a"
             ],
             [
              0.8888888888888888,
              "#fdca26"
             ],
             [
              1,
              "#f0f921"
             ]
            ],
            "type": "surface"
           }
          ],
          "table": [
           {
            "cells": {
             "fill": {
              "color": "#EBF0F8"
             },
             "line": {
              "color": "white"
             }
            },
            "header": {
             "fill": {
              "color": "#C8D4E3"
             },
             "line": {
              "color": "white"
             }
            },
            "type": "table"
           }
          ]
         },
         "layout": {
          "annotationdefaults": {
           "arrowcolor": "#2a3f5f",
           "arrowhead": 0,
           "arrowwidth": 1
          },
          "autotypenumbers": "strict",
          "coloraxis": {
           "colorbar": {
            "outlinewidth": 0,
            "ticks": ""
           }
          },
          "colorscale": {
           "diverging": [
            [
             0,
             "#8e0152"
            ],
            [
             0.1,
             "#c51b7d"
            ],
            [
             0.2,
             "#de77ae"
            ],
            [
             0.3,
             "#f1b6da"
            ],
            [
             0.4,
             "#fde0ef"
            ],
            [
             0.5,
             "#f7f7f7"
            ],
            [
             0.6,
             "#e6f5d0"
            ],
            [
             0.7,
             "#b8e186"
            ],
            [
             0.8,
             "#7fbc41"
            ],
            [
             0.9,
             "#4d9221"
            ],
            [
             1,
             "#276419"
            ]
           ],
           "sequential": [
            [
             0,
             "#0d0887"
            ],
            [
             0.1111111111111111,
             "#46039f"
            ],
            [
             0.2222222222222222,
             "#7201a8"
            ],
            [
             0.3333333333333333,
             "#9c179e"
            ],
            [
             0.4444444444444444,
             "#bd3786"
            ],
            [
             0.5555555555555556,
             "#d8576b"
            ],
            [
             0.6666666666666666,
             "#ed7953"
            ],
            [
             0.7777777777777778,
             "#fb9f3a"
            ],
            [
             0.8888888888888888,
             "#fdca26"
            ],
            [
             1,
             "#f0f921"
            ]
           ],
           "sequentialminus": [
            [
             0,
             "#0d0887"
            ],
            [
             0.1111111111111111,
             "#46039f"
            ],
            [
             0.2222222222222222,
             "#7201a8"
            ],
            [
             0.3333333333333333,
             "#9c179e"
            ],
            [
             0.4444444444444444,
             "#bd3786"
            ],
            [
             0.5555555555555556,
             "#d8576b"
            ],
            [
             0.6666666666666666,
             "#ed7953"
            ],
            [
             0.7777777777777778,
             "#fb9f3a"
            ],
            [
             0.8888888888888888,
             "#fdca26"
            ],
            [
             1,
             "#f0f921"
            ]
           ]
          },
          "colorway": [
           "#636efa",
           "#EF553B",
           "#00cc96",
           "#ab63fa",
           "#FFA15A",
           "#19d3f3",
           "#FF6692",
           "#B6E880",
           "#FF97FF",
           "#FECB52"
          ],
          "font": {
           "color": "#2a3f5f"
          },
          "geo": {
           "bgcolor": "white",
           "lakecolor": "white",
           "landcolor": "#E5ECF6",
           "showlakes": true,
           "showland": true,
           "subunitcolor": "white"
          },
          "hoverlabel": {
           "align": "left"
          },
          "hovermode": "closest",
          "mapbox": {
           "style": "light"
          },
          "paper_bgcolor": "white",
          "plot_bgcolor": "#E5ECF6",
          "polar": {
           "angularaxis": {
            "gridcolor": "white",
            "linecolor": "white",
            "ticks": ""
           },
           "bgcolor": "#E5ECF6",
           "radialaxis": {
            "gridcolor": "white",
            "linecolor": "white",
            "ticks": ""
           }
          },
          "scene": {
           "xaxis": {
            "backgroundcolor": "#E5ECF6",
            "gridcolor": "white",
            "gridwidth": 2,
            "linecolor": "white",
            "showbackground": true,
            "ticks": "",
            "zerolinecolor": "white"
           },
           "yaxis": {
            "backgroundcolor": "#E5ECF6",
            "gridcolor": "white",
            "gridwidth": 2,
            "linecolor": "white",
            "showbackground": true,
            "ticks": "",
            "zerolinecolor": "white"
           },
           "zaxis": {
            "backgroundcolor": "#E5ECF6",
            "gridcolor": "white",
            "gridwidth": 2,
            "linecolor": "white",
            "showbackground": true,
            "ticks": "",
            "zerolinecolor": "white"
           }
          },
          "shapedefaults": {
           "line": {
            "color": "#2a3f5f"
           }
          },
          "ternary": {
           "aaxis": {
            "gridcolor": "white",
            "linecolor": "white",
            "ticks": ""
           },
           "baxis": {
            "gridcolor": "white",
            "linecolor": "white",
            "ticks": ""
           },
           "bgcolor": "#E5ECF6",
           "caxis": {
            "gridcolor": "white",
            "linecolor": "white",
            "ticks": ""
           }
          },
          "title": {
           "x": 0.05
          },
          "xaxis": {
           "automargin": true,
           "gridcolor": "white",
           "linecolor": "white",
           "ticks": "",
           "title": {
            "standoff": 15
           },
           "zerolinecolor": "white",
           "zerolinewidth": 2
          },
          "yaxis": {
           "automargin": true,
           "gridcolor": "white",
           "linecolor": "white",
           "ticks": "",
           "title": {
            "standoff": 15
           },
           "zerolinecolor": "white",
           "zerolinewidth": 2
          }
         }
        },
        "updatemenus": [
         {
          "buttons": [
           {
            "args": [
             null,
             {
              "frame": {
               "duration": 500,
               "redraw": false
              },
              "fromcurrent": true,
              "mode": "immediate",
              "transition": {
               "duration": 500,
               "easing": "linear"
              }
             }
            ],
            "label": "&#9654;",
            "method": "animate"
           },
           {
            "args": [
             [
              null
             ],
             {
              "frame": {
               "duration": 0,
               "redraw": false
              },
              "fromcurrent": true,
              "mode": "immediate",
              "transition": {
               "duration": 0,
               "easing": "linear"
              }
             }
            ],
            "label": "&#9724;",
            "method": "animate"
           }
          ],
          "direction": "left",
          "pad": {
           "r": 10,
           "t": 70
          },
          "showactive": false,
          "type": "buttons",
          "x": 0.1,
          "xanchor": "right",
          "y": 0,
          "yanchor": "top"
         }
        ],
        "xaxis": {
         "anchor": "y",
         "domain": [
          0,
          1
         ],
         "range": [
          0,
          5.113207664135009
         ],
         "title": {
          "text": "birth"
         }
        },
        "yaxis": {
         "anchor": "x",
         "domain": [
          0,
          1
         ],
         "range": [
          0,
          10.745857893895954
         ],
         "title": {
          "text": "death"
         }
        }
       }
      },
      "image/png": "[encoded data removed]"
     },
     "metadata": {},
     "output_type": "display_data"
    }
   ],
   "source": [
    "px.scatter(Df, x=\"birth\", y=\"death\", animation_frame=\"frame\", hover_name=\"frame\",color='per',\n",
    "           range_x=[0,max(B)], range_y=[0,max(D)])"
   ]
  },
  {
   "cell_type": "code",
   "execution_count": null,
   "id": "2b8dc84c-6661-4fbf-94e3-160c5f47e96f",
   "metadata": {},
   "outputs": [],
   "source": []
  }
 ],
 "metadata": {
  "kernelspec": {
   "display_name": "Python 3 (ipykernel)",
   "language": "python",
   "name": "python3"
  },
  "language_info": {
   "codemirror_mode": {
    "name": "ipython",
    "version": 3
   },
   "file_extension": ".py",
   "mimetype": "text/x-python",
   "name": "python",
   "nbconvert_exporter": "python",
   "pygments_lexer": "ipython3",
   "version": "3.9.7"
  }
 },
 "nbformat": 4,
 "nbformat_minor": 5
}
